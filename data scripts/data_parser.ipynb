{
 "cells": [
  {
   "cell_type": "code",
   "execution_count": 2,
   "metadata": {},
   "outputs": [],
   "source": [
    "import multiprocessing as mp\n",
    "import pandas as pd\n",
    "import os"
   ]
  },
  {
   "cell_type": "code",
   "execution_count": 3,
   "metadata": {},
   "outputs": [],
   "source": [
    "directory = 'data'\n",
    "input_files = [o for o in os.listdir(directory) if os.path.isdir(os.path.join(directory,o))]"
   ]
  },
  {
   "cell_type": "code",
   "execution_count": 4,
   "metadata": {},
   "outputs": [
    {
     "data": {
      "text/plain": [
       "['2014q3',\n",
       " '2014q4',\n",
       " '2018q1',\n",
       " '2010q2',\n",
       " '2012q1',\n",
       " '2016q1',\n",
       " '2014q2',\n",
       " '2010q3',\n",
       " '2010q4',\n",
       " '2020q1',\n",
       " '2009q3',\n",
       " '2009q4',\n",
       " '2009q2',\n",
       " '2013q2',\n",
       " '2011q1',\n",
       " '2019q2',\n",
       " '2017q3',\n",
       " '2017q4',\n",
       " '2019q3',\n",
       " '2019q4',\n",
       " '2013q3',\n",
       " '2013q4',\n",
       " '2015q1',\n",
       " '2017q2',\n",
       " '2018q2',\n",
       " '2010q1',\n",
       " '2012q2',\n",
       " '2016q4',\n",
       " '2016q3',\n",
       " '2012q4',\n",
       " '2012q3',\n",
       " '2018q4',\n",
       " '2018q3',\n",
       " '2016q2',\n",
       " '2014q1',\n",
       " '2009q1',\n",
       " '2015q4',\n",
       " '2015q3',\n",
       " '2013q1',\n",
       " '2011q2',\n",
       " '2019q1',\n",
       " '2015q2',\n",
       " '2017q1',\n",
       " '2011q4',\n",
       " '2011q3']"
      ]
     },
     "execution_count": 4,
     "metadata": {},
     "output_type": "execute_result"
    }
   ],
   "source": [
    "input_files"
   ]
  },
  {
   "cell_type": "code",
   "execution_count": 5,
   "metadata": {},
   "outputs": [],
   "source": [
    "def convert(df):\n",
    "    output = dict()\n",
    "    for index, row in df.iterrows():\n",
    "        cik = row[\"cik\"]\n",
    "        feature = row[\"tag\"]\n",
    "        value = row[\"value\"]\n",
    "        \n",
    "        if cik not in output:\n",
    "            output[cik] = dict()\n",
    "            init_keys = [\"cik\", \"ddate\", \"name\", 'adsh', \"fy\", \"fp\"]\n",
    "            for k in init_keys:\n",
    "                output[cik][k] = row[k]\n",
    "\n",
    "        output[cik][feature] = value\n",
    "    return output"
   ]
  },
  {
   "cell_type": "code",
   "execution_count": 6,
   "metadata": {},
   "outputs": [],
   "source": [
    "def parse(input_folder):    \n",
    "    print(input_folder)\n",
    "    num_file = \"data/\" + input_folder + \"/num.txt\" \n",
    "    num = pd.read_csv(num_file, sep=\"\\t\", encoding=\"latin1\")\n",
    "    \n",
    "    sub_file = \"data/\" + input_folder + \"/sub.txt\"\n",
    "    sub = pd.read_csv(sub_file, sep=\"\\t\")\n",
    "    \n",
    "    num = num[(num[\"qtrs\"] < 2)]\n",
    "    num.dropna(subset=[\"value\"], inplace=True)\n",
    "\n",
    "    sub.rename(columns={'period': 'ddate'}, inplace=True)\n",
    "    sub = sub[(sub[\"form\"] == \"10-K\") | (sub[\"form\"] == \"10-Q\")]\n",
    "    sub = sub.drop_duplicates(subset=\"cik\", keep=False)\n",
    "    \n",
    "    df = num.merge(sub,how='inner',left_on=['adsh','ddate'],right_on=['adsh','ddate'])\n",
    "    df = df.drop_duplicates(subset=[\"cik\", \"tag\", \"adsh\"], keep=False)\n",
    "    \n",
    "    features = set(df.tag.value_counts().head(n=1000).keys())\n",
    "    df = df[(df[\"tag\"].isin(features))]\n",
    "    \n",
    "    output = convert(df)\n",
    "    parsed = pd.DataFrame.from_dict(output, orient='index')\n",
    "    output_file = input_folder + \".csv\"\n",
    "    parsed.to_csv(output_file, index=False)\n",
    "    \n",
    "    return \"done: \" + input_folder"
   ]
  },
  {
   "cell_type": "code",
   "execution_count": 7,
   "metadata": {},
   "outputs": [
    {
     "name": "stdout",
     "output_type": "stream",
     "text": [
      "2014q4\n",
      "2012q1\n",
      "2014q3\n",
      "2010q2\n",
      "2018q1\n",
      "2016q1\n",
      "2010q3\n",
      "2014q2\n",
      "2010q4\n",
      "2020q1\n",
      "2009q3\n",
      "2009q4\n"
     ]
    },
    {
     "name": "stderr",
     "output_type": "stream",
     "text": [
      "/Users/ritik/anaconda3/lib/python3.7/multiprocessing/process.py:297: DtypeWarning: Columns (3) have mixed types. Specify dtype option on import or set low_memory=False.\n",
      "  self.run()\n"
     ]
    },
    {
     "name": "stdout",
     "output_type": "stream",
     "text": [
      "2009q2\n",
      "2013q2\n",
      "2011q1\n",
      "2019q2\n",
      "2017q3\n",
      "2017q4\n",
      "2019q3\n",
      "2019q4\n",
      "2013q3\n",
      "2013q4\n",
      "2015q1\n"
     ]
    },
    {
     "name": "stderr",
     "output_type": "stream",
     "text": [
      "/Users/ritik/anaconda3/lib/python3.7/multiprocessing/process.py:297: DtypeWarning: Columns (8) have mixed types. Specify dtype option on import or set low_memory=False.\n",
      "  self.run()\n"
     ]
    },
    {
     "name": "stdout",
     "output_type": "stream",
     "text": [
      "2017q2\n",
      "2018q2\n",
      "2010q1\n",
      "2012q2\n",
      "2016q4\n",
      "2016q3\n",
      "2012q4\n",
      "2012q3\n",
      "2018q4\n",
      "2018q3\n",
      "2016q2\n",
      "2014q1\n",
      "2009q1\n",
      "2015q4\n",
      "2015q3\n"
     ]
    },
    {
     "name": "stderr",
     "output_type": "stream",
     "text": [
      "/Users/ritik/anaconda3/lib/python3.7/multiprocessing/process.py:297: DtypeWarning: Columns (8) have mixed types. Specify dtype option on import or set low_memory=False.\n",
      "  self.run()\n"
     ]
    },
    {
     "name": "stdout",
     "output_type": "stream",
     "text": [
      "2013q1\n",
      "2011q2\n",
      "2019q1\n",
      "2015q2\n",
      "2017q1\n",
      "2011q4\n",
      "2011q3\n"
     ]
    }
   ],
   "source": [
    "pool = mp.Pool(processes=8)"
   ]
  },
  {
   "cell_type": "code",
   "execution_count": 8,
   "metadata": {},
   "outputs": [],
   "source": [
    "results = [pool.apply_async(parse, args=(file,)) for file in input_files]\n",
    "output = [p.get() for p in results]"
   ]
  },
  {
   "cell_type": "code",
   "execution_count": 9,
   "metadata": {},
   "outputs": [
    {
     "data": {
      "text/plain": [
       "['done: 2014q3',\n",
       " 'done: 2014q4',\n",
       " 'done: 2018q1',\n",
       " 'done: 2010q2',\n",
       " 'done: 2012q1',\n",
       " 'done: 2016q1',\n",
       " 'done: 2014q2',\n",
       " 'done: 2010q3',\n",
       " 'done: 2010q4',\n",
       " 'done: 2020q1',\n",
       " 'done: 2009q3',\n",
       " 'done: 2009q4',\n",
       " 'done: 2009q2',\n",
       " 'done: 2013q2',\n",
       " 'done: 2011q1',\n",
       " 'done: 2019q2',\n",
       " 'done: 2017q3',\n",
       " 'done: 2017q4',\n",
       " 'done: 2019q3',\n",
       " 'done: 2019q4',\n",
       " 'done: 2013q3',\n",
       " 'done: 2013q4',\n",
       " 'done: 2015q1',\n",
       " 'done: 2017q2',\n",
       " 'done: 2018q2',\n",
       " 'done: 2010q1',\n",
       " 'done: 2012q2',\n",
       " 'done: 2016q4',\n",
       " 'done: 2016q3',\n",
       " 'done: 2012q4',\n",
       " 'done: 2012q3',\n",
       " 'done: 2018q4',\n",
       " 'done: 2018q3',\n",
       " 'done: 2016q2',\n",
       " 'done: 2014q1',\n",
       " 'done: 2009q1',\n",
       " 'done: 2015q4',\n",
       " 'done: 2015q3',\n",
       " 'done: 2013q1',\n",
       " 'done: 2011q2',\n",
       " 'done: 2019q1',\n",
       " 'done: 2015q2',\n",
       " 'done: 2017q1',\n",
       " 'done: 2011q4',\n",
       " 'done: 2011q3']"
      ]
     },
     "execution_count": 9,
     "metadata": {},
     "output_type": "execute_result"
    }
   ],
   "source": [
    "output"
   ]
  },
  {
   "cell_type": "code",
   "execution_count": null,
   "metadata": {},
   "outputs": [],
   "source": []
  }
 ],
 "metadata": {
  "kernelspec": {
   "display_name": "Python 3",
   "language": "python",
   "name": "python3"
  },
  "language_info": {
   "codemirror_mode": {
    "name": "ipython",
    "version": 3
   },
   "file_extension": ".py",
   "mimetype": "text/x-python",
   "name": "python",
   "nbconvert_exporter": "python",
   "pygments_lexer": "ipython3",
   "version": "3.7.4"
  }
 },
 "nbformat": 4,
 "nbformat_minor": 4
}
