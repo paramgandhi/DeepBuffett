{
 "cells": [
  {
   "cell_type": "code",
   "execution_count": 1,
   "metadata": {},
   "outputs": [],
   "source": [
    "import requests\n",
    "import json\n",
    "import os\n",
    "import multiprocessing as mp"
   ]
  },
  {
   "cell_type": "code",
   "execution_count": 2,
   "metadata": {},
   "outputs": [],
   "source": [
    "files = os.listdir(\"api_data/income_statements\")"
   ]
  },
  {
   "cell_type": "code",
   "execution_count": 3,
   "metadata": {},
   "outputs": [],
   "source": [
    "stocks = list(map(lambda x: x[:-4], files))"
   ]
  },
  {
   "cell_type": "code",
   "execution_count": 4,
   "metadata": {},
   "outputs": [],
   "source": [
    "directory = \"api_data/balance_sheets\""
   ]
  },
  {
   "cell_type": "code",
   "execution_count": 5,
   "metadata": {},
   "outputs": [],
   "source": [
    "def getBalanceSheets(symbol, directory):\n",
    "    path = directory + \"/\" + symbol + \".csv\"\n",
    "        \n",
    "    # Check if file already downloaded\n",
    "    if not os.path.isfile(path):\n",
    "        print(symbol)\n",
    "        url = 'https://financialmodelingprep.com/api/v3/financials/balance-sheet-statement/' + symbol + '?period=quarter&datatype=csv'\n",
    "        file = requests.get(url)\n",
    "        try:\n",
    "            # JSON returned on error. No need to save to file\n",
    "            json.loads(file.text)\n",
    "        except:\n",
    "            # CSV returned on success. Save to disk\n",
    "            open(path, 'wb').write(file.content)"
   ]
  },
  {
   "cell_type": "code",
   "execution_count": 6,
   "metadata": {},
   "outputs": [],
   "source": [
    "def downloadBalanceStatements(stocks, directory):\n",
    "    for i in range(len(stocks)):\n",
    "        getBalanceSheets(stocks[i], directory)\n",
    "    print(\"Done chunk\")"
   ]
  },
  {
   "cell_type": "code",
   "execution_count": 7,
   "metadata": {},
   "outputs": [],
   "source": [
    "def split_list(alist, wanted_parts=1):\n",
    "    length = len(alist)\n",
    "    return [ alist[i*length // wanted_parts: (i+1)*length // wanted_parts] \n",
    "             for i in range(wanted_parts) ]"
   ]
  },
  {
   "cell_type": "code",
   "execution_count": 8,
   "metadata": {},
   "outputs": [],
   "source": [
    "PROCESSES=8\n",
    "\n",
    "stocks_chunked = split_list(stocks, 100)"
   ]
  },
  {
   "cell_type": "code",
   "execution_count": 9,
   "metadata": {},
   "outputs": [
    {
     "name": "stdout",
     "output_type": "stream",
     "text": [
      "Done chunk\n",
      "Done chunk\n",
      "Done chunk\n",
      "Done chunk\n",
      "Done chunk\n",
      "Done chunk\n",
      "Done chunk\n",
      "Done chunk\n",
      "Done chunk\n",
      "Done chunk\n",
      "Done chunk\n",
      "Done chunk\n",
      "Done chunk\n",
      "Done chunk\n",
      ".DS_S\n",
      "Done chunk\n",
      "Done chunk\n",
      "Done chunk\n",
      "Done chunk\n",
      "Done chunk\n",
      "Done chunk\n",
      "Done chunk\n",
      "Done chunk\n",
      "Done chunk\n",
      "Done chunk\n",
      "Done chunk\n",
      "Done chunk\n",
      "Done chunk\n",
      "Done chunk\n",
      "Done chunk\n",
      "Done chunk\n",
      "Done chunk\n",
      "Done chunk\n",
      "Done chunk\n",
      "Done chunk\n",
      "Done chunk\n",
      "Done chunk\n",
      "EOI\n",
      "Done chunk\n",
      "Done chunk\n",
      "Done chunk\n",
      "Done chunk\n",
      "Done chunk\n",
      "Done chunk\n",
      "Done chunk\n",
      "Done chunk\n",
      "Done chunk\n",
      "Done chunk\n",
      "Done chunk\n",
      "Done chunk\n",
      "Done chunk\n",
      "Done chunk\n",
      "Done chunk\n",
      "Done chunk\n",
      "Done chunk\n",
      "Done chunk\n",
      "Done chunk\n",
      "Done chunk\n",
      "Done chunk\n",
      "Done chunk\n",
      "Done chunk\n",
      "Done chunk\n",
      "Done chunk\n",
      "Done chunk\n",
      "Done chunk\n",
      "Done chunk\n",
      "Done chunk\n",
      "Done chunk\n",
      "EVV\n",
      "Done chunk\n",
      "Done chunk\n",
      "Done chunk\n",
      "Done chunk\n",
      "Done chunk\n",
      "Done chunk\n",
      "Done chunk\n",
      "Done chunk\n",
      "Done chunk\n",
      "Done chunk\n",
      "Done chunk\n",
      "Done chunk\n",
      "Done chunk\n",
      "Done chunk\n",
      "Done chunk\n",
      "Done chunk\n",
      "Done chunk\n",
      "Done chunk\n",
      "Done chunk\n",
      "Done chunk\n",
      "Done chunk\n",
      "Done chunk\n",
      "Done chunk\n",
      "Done chunk\n",
      "Done chunk\n",
      "Done chunk\n",
      "Done chunk\n",
      "Done chunk\n",
      "Done chunk\n",
      "Done chunk\n",
      "Done chunk\n",
      "Done chunk\n",
      "Done chunk\n",
      "Done chunk\n"
     ]
    }
   ],
   "source": [
    "pool = mp.Pool(processes=32)"
   ]
  },
  {
   "cell_type": "code",
   "execution_count": 10,
   "metadata": {},
   "outputs": [],
   "source": [
    "results = [pool.apply_async(downloadBalanceStatements, args=(stock_chunk,directory,)) for stock_chunk in stocks_chunked]\n",
    "output = [p.get() for p in results]"
   ]
  },
  {
   "cell_type": "code",
   "execution_count": null,
   "metadata": {},
   "outputs": [],
   "source": []
  }
 ],
 "metadata": {
  "kernelspec": {
   "display_name": "Python 3",
   "language": "python",
   "name": "python3"
  },
  "language_info": {
   "codemirror_mode": {
    "name": "ipython",
    "version": 3
   },
   "file_extension": ".py",
   "mimetype": "text/x-python",
   "name": "python",
   "nbconvert_exporter": "python",
   "pygments_lexer": "ipython3",
   "version": "3.7.4"
  }
 },
 "nbformat": 4,
 "nbformat_minor": 4
}
