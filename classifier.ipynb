{
 "cells": [
  {
   "cell_type": "code",
   "execution_count": 962,
   "metadata": {},
   "outputs": [],
   "source": [
    "import torch\n",
    "import os\n",
    "import pandas as pd\n",
    "import numpy as np\n",
    "import time\n",
    "import random\n",
    "from PIL import Image\n",
    "from torch.utils.data import Dataset\n",
    "from torchvision import transforms\n",
    "from torch.utils.data import DataLoader\n",
    "import torch.nn.functional as F\n",
    "import matplotlib.pyplot as plt\n",
    "%matplotlib inline"
   ]
  },
  {
   "cell_type": "code",
   "execution_count": 946,
   "metadata": {},
   "outputs": [],
   "source": [
    "RANDOM_SEED = 123\n",
    "DEVICE = torch.device('cuda:0' if torch.cuda.is_available() else 'cpu')"
   ]
  },
  {
   "cell_type": "code",
   "execution_count": 947,
   "metadata": {},
   "outputs": [],
   "source": [
    "NAME = \"classifier_143features_100x100x100_0.001lr_50e_0.5dropout_64bs\"\n",
    "MODEL_PATH = \"models/\" + NAME + \".pth\""
   ]
  },
  {
   "cell_type": "markdown",
   "metadata": {},
   "source": [
    "## Dataset Loader"
   ]
  },
  {
   "cell_type": "code",
   "execution_count": 963,
   "metadata": {},
   "outputs": [],
   "source": [
    "import torch\n",
    "from PIL import Image\n",
    "from torch.utils.data import Dataset\n",
    "from torchvision import transforms\n",
    "from torch.utils.data import DataLoader\n",
    "import pandas as pd\n",
    "\n",
    "import os\n",
    "\n",
    "class StockDataset(Dataset):\n",
    "    def __init__(self, csv_path):\n",
    "        df = pd.read_csv(csv_path)\n",
    "        self.y = df['Label'].to_numpy().astype(int)\n",
    "        self.features = df.drop([\"Company\", \"Date\", \"Target\", \"Label\"], axis=1).to_numpy().astype('float32')\n",
    "\n",
    "    def __getitem__(self, index):\n",
    "        features = self.features[index]\n",
    "        label = self.y[index]\n",
    "        \n",
    "        out_label = 0\n",
    "        \n",
    "        if label <= 2:\n",
    "            out_label = 0\n",
    "        elif label <= 5:\n",
    "            out_label = 1\n",
    "        else:\n",
    "            out_label = 2\n",
    "        \n",
    "        binary_label = 1\n",
    "        \n",
    "        if label >= 5:\n",
    "            binary_label = 2\n",
    "        \n",
    "        return features, label\n",
    "\n",
    "    def __len__(self):\n",
    "        return self.y.shape[0]"
   ]
  },
  {
   "cell_type": "code",
   "execution_count": 951,
   "metadata": {},
   "outputs": [],
   "source": [
    "BATCH_SIZE = 64"
   ]
  },
  {
   "cell_type": "code",
   "execution_count": 1063,
   "metadata": {},
   "outputs": [],
   "source": [
    "train_dataset = StockDataset(csv_path='train_normalized.csv')\n",
    "\n",
    "\n",
    "train_loader = DataLoader(dataset=train_dataset,\n",
    "                          batch_size=BATCH_SIZE,\n",
    "                          shuffle=True,\n",
    "                          num_workers=0)\n",
    "\n",
    "\n",
    "valid_dataset = StockDataset(csv_path='val_normalized.csv')\n",
    "\n",
    "valid_loader = DataLoader(dataset=valid_dataset,\n",
    "                          batch_size=BATCH_SIZE,\n",
    "                          shuffle=False,\n",
    "                          num_workers=0)\n",
    "\n",
    "test_dataset = StockDataset(csv_path='test_normalized.csv')\n",
    "\n",
    "test_loader = DataLoader(dataset=test_dataset,\n",
    "                         batch_size=BATCH_SIZE,\n",
    "                         shuffle=False,\n",
    "                         num_workers=0)"
   ]
  },
  {
   "cell_type": "markdown",
   "metadata": {},
   "source": [
    "The cell below just checks if the dataset can be loaded correctly."
   ]
  },
  {
   "cell_type": "code",
   "execution_count": 1066,
   "metadata": {},
   "outputs": [
    {
     "name": "stdout",
     "output_type": "stream",
     "text": [
      "Epoch: 1 | Batch index: 0 | Batch size: 64\n",
      "break minibatch for-loop\n",
      "Epoch: 2 | Batch index: 0 | Batch size: 64\n",
      "break minibatch for-loop\n"
     ]
    }
   ],
   "source": [
    "torch.manual_seed(0)\n",
    "\n",
    "num_epochs = 2\n",
    "for epoch in range(num_epochs):\n",
    "\n",
    "    for batch_idx, (x, y) in enumerate(train_loader):\n",
    "        \n",
    "        print('Epoch:', epoch+1, end='')\n",
    "        print(' | Batch index:', batch_idx, end='')\n",
    "        print(' | Batch size:', y.size()[0])\n",
    "        num_features = x.shape[1]\n",
    "        x = x.to(DEVICE)\n",
    "        y = y.to(DEVICE)\n",
    "        print('break minibatch for-loop')\n",
    "        break"
   ]
  },
  {
   "cell_type": "code",
   "execution_count": 1065,
   "metadata": {},
   "outputs": [],
   "source": [
    "num_features = 143\n",
    "classes = 9"
   ]
  },
  {
   "cell_type": "markdown",
   "metadata": {},
   "source": [
    "If you get an error, make sure the `png-files` folder is unzipped and it the same directory as this notebook!"
   ]
  },
  {
   "cell_type": "markdown",
   "metadata": {},
   "source": [
    "# Multilayer Perceptron Model"
   ]
  },
  {
   "cell_type": "markdown",
   "metadata": {},
   "source": [
    "The cell below contains the multi-layer perceptron model. This is the main section where you want to make changes to the architecture."
   ]
  },
  {
   "cell_type": "code",
   "execution_count": 1067,
   "metadata": {},
   "outputs": [
    {
     "data": {
      "text/plain": [
       "<torch._C.Generator at 0x11c63c890>"
      ]
     },
     "execution_count": 1067,
     "metadata": {},
     "output_type": "execute_result"
    }
   ],
   "source": [
    "class MLP(torch.nn.Module):\n",
    "    def __init__(self, num_features, num_hidden_1, num_hidden_2, num_hidden_3, num_classes, dropout):\n",
    "        super(MLP, self).__init__()\n",
    "        \n",
    "        self.num_classes = num_classes\n",
    "        self.dropout = dropout\n",
    "        \n",
    "        self.linear_1 = torch.nn.Linear(num_features, num_hidden_1)        \n",
    "        self.linear_2 = torch.nn.Linear(num_hidden_1, num_hidden_2)\n",
    "        self.linear_3 = torch.nn.Linear(num_hidden_2, num_hidden_3)\n",
    "\n",
    "        self.linear_out = torch.nn.Linear(num_hidden_3, num_classes)\n",
    "        \n",
    "    def forward(self, x):    \n",
    "        out = self.linear_1(x)\n",
    "        out = torch.relu(out)\n",
    "        out = F.dropout(out, p=self.dropout, training=self.training)\n",
    "\n",
    "        out = self.linear_2(out)\n",
    "        out = torch.relu(out)\n",
    "        out = F.dropout(out, p=self.dropout, training=self.training)\n",
    "\n",
    "        out = self.linear_3(out)\n",
    "        out = torch.relu(out)\n",
    "        out = F.dropout(out, p=self.dropout, training=self.training)\n",
    "        \n",
    "        logits = self.linear_out(out)\n",
    "        probas = F.softmax(logits, dim=1)\n",
    "        return logits, probas\n",
    "        \n",
    "random.seed(RANDOM_SEED)\n",
    "torch.manual_seed(RANDOM_SEED)"
   ]
  },
  {
   "cell_type": "code",
   "execution_count": 1068,
   "metadata": {},
   "outputs": [
    {
     "data": {
      "text/plain": [
       "MLP(\n",
       "  (linear_1): Linear(in_features=143, out_features=200, bias=True)\n",
       "  (linear_2): Linear(in_features=200, out_features=300, bias=True)\n",
       "  (linear_3): Linear(in_features=300, out_features=100, bias=True)\n",
       "  (linear_out): Linear(in_features=100, out_features=9, bias=True)\n",
       ")"
      ]
     },
     "execution_count": 1068,
     "metadata": {},
     "output_type": "execute_result"
    }
   ],
   "source": [
    "model = MLP(num_features=num_features,\n",
    "            num_hidden_1=200,\n",
    "            num_hidden_2=300,\n",
    "            num_hidden_3=100,\n",
    "            num_classes=classes,\n",
    "            dropout=0.4)\n",
    "\n",
    "model = model.to(DEVICE)\n",
    "\n",
    "def init_weights(m):\n",
    "    if type(m) == torch.nn.Linear:\n",
    "        torch.nn.init.orthogonal_(m.weight)\n",
    "        m.bias.data.fill_(0.0)\n",
    "\n",
    "model.apply(init_weights)"
   ]
  },
  {
   "cell_type": "code",
   "execution_count": 958,
   "metadata": {},
   "outputs": [],
   "source": [
    "def compute_corr_accuracy_and_loss(model, data_loader, device, target_val):\n",
    "    correct_pred, num_examples = 0, 0\n",
    "    c2, n2 = 0, 0\n",
    "    cross_entropy = 0.\n",
    "    for i, (features, targets) in enumerate(data_loader):\n",
    "            \n",
    "        features = features.view(-1, num_features).to(device)\n",
    "        targets = targets.to(device)\n",
    "\n",
    "        logits, probas = model(features.float())\n",
    "        _, predicted_labels = torch.max(probas, 1)\n",
    "            \n",
    "        for p in range(len(targets)):\n",
    "            if predicted_labels[p].item() == target_val:\n",
    "                n2 += 1\n",
    "                if targets[p].item() == predicted_labels[p].item():\n",
    "                    c2 += 1\n",
    "                    \n",
    "            if targets[p].item() == target_val:\n",
    "                num_examples += 1\n",
    "                if targets[p].item() == predicted_labels[p].item():\n",
    "                    correct_pred += 1\n",
    "                \n",
    "                \n",
    "    return 1.0 * correct_pred/num_examples * 100, 1.0 * c2/n2 * 100\n",
    "\n",
    "def compute_corrlist_accuracy_and_loss(model, data_loader, device, target_list):\n",
    "    correct_pred, num_examples = 0, 0\n",
    "    c2, n2 = 0, 0\n",
    "    cross_entropy = 0.\n",
    "    for i, (features, targets) in enumerate(data_loader):\n",
    "            \n",
    "        features = features.view(-1, num_features).to(device)\n",
    "        targets = targets.to(device)\n",
    "\n",
    "        logits, probas = model(features.float())\n",
    "        _, predicted_labels = torch.max(probas, 1)\n",
    "            \n",
    "        for p in range(len(targets)):\n",
    "            if predicted_labels[p].item() in target_list:\n",
    "                n2 += 1\n",
    "                if targets[p].item() in target_list:\n",
    "                    c2 += 1\n",
    "                    \n",
    "            if targets[p].item() in target_list:\n",
    "                num_examples += 1\n",
    "                if predicted_labels[p].item() in target_list:\n",
    "                    correct_pred += 1\n",
    "                \n",
    "                \n",
    "    return 1.0 * correct_pred/num_examples * 100, 1.0 * c2/n2 * 100\n",
    "\n",
    "def compute_grouped_accuracy_and_loss(model, data_loader, device):\n",
    "    correct_pred, num_examples = 0, 0\n",
    "    cross_entropy = 0.\n",
    "    for i, (features, targets) in enumerate(data_loader):\n",
    "            \n",
    "        features = features.view(-1, num_features).to(device)\n",
    "        targets = targets.to(device)\n",
    "\n",
    "        logits, probas = model(features.float())\n",
    "        _, predicted_labels = torch.max(probas, 1)\n",
    "        \n",
    "        for i in range(len(targets)):\n",
    "            num_examples += 1\n",
    "            c = 0\n",
    "            if targets[i].item() in [0, 1, 2] and predicted_labels[i] in [0, 1, 2]:\n",
    "                c = 1\n",
    "            elif targets[i].item() in [3, 4] and predicted_labels[i] in [3, 4]:\n",
    "                c = 1  \n",
    "            elif targets[i].item() in [5, 6, 7, 8] and predicted_labels[i] in [5, 6, 7, 8]:\n",
    "                c = 1 \n",
    "            if abs(targets[i].item() - predicted_labels[i]) <= 1:\n",
    "                c = 1\n",
    "            correct_pred += c\n",
    "                \n",
    "    return 1.0 * correct_pred/num_examples * 100, cross_entropy/num_examples"
   ]
  },
  {
   "cell_type": "code",
   "execution_count": 959,
   "metadata": {},
   "outputs": [],
   "source": [
    "optimizer = torch.optim.Adam(model.parameters(), lr=0.001)"
   ]
  },
  {
   "cell_type": "code",
   "execution_count": 960,
   "metadata": {},
   "outputs": [],
   "source": [
    "############################################################\n",
    "# THIS CELL CAN BE MODIFIED\n",
    "############################################################\n",
    "\n",
    "NUM_EPOCHS = 50 # Please feel free to change\n",
    "############################################################"
   ]
  },
  {
   "cell_type": "code",
   "execution_count": 961,
   "metadata": {},
   "outputs": [
    {
     "name": "stdout",
     "output_type": "stream",
     "text": [
      "Epoch: 001/050 | Batch 000/978 | Cost: 2.1968\n",
      "Epoch: 001/050 | Batch 200/978 | Cost: 2.2127\n",
      "Epoch: 001/050 | Batch 400/978 | Cost: 2.1872\n",
      "Epoch: 001/050 | Batch 600/978 | Cost: 2.1957\n",
      "Epoch: 001/050 | Batch 800/978 | Cost: 2.1922\n",
      "Epoch: 001/050 Train Acc.: 13.93% | Validation Acc.: 12.66%\n",
      "Time elapsed: 0.05 min\n",
      "Epoch: 002/050 | Batch 000/978 | Cost: 2.1851\n",
      "Epoch: 002/050 | Batch 200/978 | Cost: 2.1931\n",
      "Epoch: 002/050 | Batch 400/978 | Cost: 2.1687\n",
      "Epoch: 002/050 | Batch 600/978 | Cost: 2.1300\n",
      "Epoch: 002/050 | Batch 800/978 | Cost: 2.1492\n",
      "Epoch: 002/050 Train Acc.: 14.50% | Validation Acc.: 13.66%\n",
      "Time elapsed: 0.11 min\n",
      "Epoch: 003/050 | Batch 000/978 | Cost: 2.1587\n",
      "Epoch: 003/050 | Batch 200/978 | Cost: 2.1810\n",
      "Epoch: 003/050 | Batch 400/978 | Cost: 2.2011\n",
      "Epoch: 003/050 | Batch 600/978 | Cost: 2.1529\n",
      "Epoch: 003/050 | Batch 800/978 | Cost: 2.2038\n",
      "Epoch: 003/050 Train Acc.: 15.47% | Validation Acc.: 15.63%\n",
      "Time elapsed: 0.16 min\n",
      "Epoch: 004/050 | Batch 000/978 | Cost: 2.1615\n",
      "Epoch: 004/050 | Batch 200/978 | Cost: 2.1658\n",
      "Epoch: 004/050 | Batch 400/978 | Cost: 2.0929\n",
      "Epoch: 004/050 | Batch 600/978 | Cost: 2.1067\n",
      "Epoch: 004/050 | Batch 800/978 | Cost: 2.2148\n",
      "Epoch: 004/050 Train Acc.: 14.96% | Validation Acc.: 16.27%\n",
      "Time elapsed: 0.22 min\n",
      "Epoch: 005/050 | Batch 000/978 | Cost: 2.2108\n",
      "Epoch: 005/050 | Batch 200/978 | Cost: 2.2123\n",
      "Epoch: 005/050 | Batch 400/978 | Cost: 2.1726\n",
      "Epoch: 005/050 | Batch 600/978 | Cost: 2.1071\n",
      "Epoch: 005/050 | Batch 800/978 | Cost: 2.1414\n",
      "Epoch: 005/050 Train Acc.: 16.26% | Validation Acc.: 16.85%\n",
      "Time elapsed: 0.27 min\n",
      "Epoch: 006/050 | Batch 000/978 | Cost: 2.1462\n",
      "Epoch: 006/050 | Batch 200/978 | Cost: 2.1809\n",
      "Epoch: 006/050 | Batch 400/978 | Cost: 2.1173\n",
      "Epoch: 006/050 | Batch 600/978 | Cost: 2.0859\n",
      "Epoch: 006/050 | Batch 800/978 | Cost: 2.1355\n",
      "Epoch: 006/050 Train Acc.: 16.39% | Validation Acc.: 16.91%\n",
      "Time elapsed: 0.33 min\n",
      "Epoch: 007/050 | Batch 000/978 | Cost: 2.1588\n",
      "Epoch: 007/050 | Batch 200/978 | Cost: 2.1875\n",
      "Epoch: 007/050 | Batch 400/978 | Cost: 2.2549\n",
      "Epoch: 007/050 | Batch 600/978 | Cost: 2.0798\n",
      "Epoch: 007/050 | Batch 800/978 | Cost: 2.1532\n",
      "Epoch: 007/050 Train Acc.: 16.48% | Validation Acc.: 17.03%\n",
      "Time elapsed: 0.39 min\n",
      "Epoch: 008/050 | Batch 000/978 | Cost: 2.1765\n",
      "Epoch: 008/050 | Batch 200/978 | Cost: 2.1599\n",
      "Epoch: 008/050 | Batch 400/978 | Cost: 2.0660\n",
      "Epoch: 008/050 | Batch 600/978 | Cost: 2.0822\n",
      "Epoch: 008/050 | Batch 800/978 | Cost: 2.1271\n",
      "Epoch: 008/050 Train Acc.: 16.64% | Validation Acc.: 17.03%\n",
      "Time elapsed: 0.45 min\n",
      "Epoch: 009/050 | Batch 000/978 | Cost: 2.1426\n",
      "Epoch: 009/050 | Batch 200/978 | Cost: 2.1574\n",
      "Epoch: 009/050 | Batch 400/978 | Cost: 2.1142\n",
      "Epoch: 009/050 | Batch 600/978 | Cost: 2.0475\n",
      "Epoch: 009/050 | Batch 800/978 | Cost: 2.1265\n",
      "Epoch: 009/050 Train Acc.: 17.05% | Validation Acc.: 17.03%\n",
      "Time elapsed: 0.51 min\n",
      "Epoch: 010/050 | Batch 000/978 | Cost: 2.1636\n",
      "Epoch: 010/050 | Batch 200/978 | Cost: 2.1721\n",
      "Epoch: 010/050 | Batch 400/978 | Cost: 2.1489\n",
      "Epoch: 010/050 | Batch 600/978 | Cost: 2.0880\n",
      "Epoch: 010/050 | Batch 800/978 | Cost: 2.1277\n",
      "Epoch: 010/050 Train Acc.: 16.77% | Validation Acc.: 16.88%\n",
      "Time elapsed: 0.58 min\n",
      "Epoch: 011/050 | Batch 000/978 | Cost: 2.2149\n",
      "Epoch: 011/050 | Batch 200/978 | Cost: 2.1331\n",
      "Epoch: 011/050 | Batch 400/978 | Cost: 2.1799\n",
      "Epoch: 011/050 | Batch 600/978 | Cost: 2.0649\n",
      "Epoch: 011/050 | Batch 800/978 | Cost: 2.1190\n",
      "Epoch: 011/050 Train Acc.: 16.84% | Validation Acc.: 16.76%\n",
      "Time elapsed: 0.64 min\n",
      "Epoch: 012/050 | Batch 000/978 | Cost: 2.2092\n",
      "Epoch: 012/050 | Batch 200/978 | Cost: 2.1600\n",
      "Epoch: 012/050 | Batch 400/978 | Cost: 2.1967\n",
      "Epoch: 012/050 | Batch 600/978 | Cost: 2.0567\n",
      "Epoch: 012/050 | Batch 800/978 | Cost: 2.1244\n",
      "Epoch: 012/050 Train Acc.: 17.14% | Validation Acc.: 16.97%\n",
      "Time elapsed: 0.70 min\n",
      "Epoch: 013/050 | Batch 000/978 | Cost: 2.1047\n",
      "Epoch: 013/050 | Batch 200/978 | Cost: 2.1560\n",
      "Epoch: 013/050 | Batch 400/978 | Cost: 2.0945\n",
      "Epoch: 013/050 | Batch 600/978 | Cost: 2.0991\n",
      "Epoch: 013/050 | Batch 800/978 | Cost: 2.1404\n",
      "Epoch: 013/050 Train Acc.: 17.25% | Validation Acc.: 16.70%\n",
      "Time elapsed: 0.77 min\n",
      "Epoch: 014/050 | Batch 000/978 | Cost: 2.2012\n",
      "Epoch: 014/050 | Batch 200/978 | Cost: 2.1852\n",
      "Epoch: 014/050 | Batch 400/978 | Cost: 2.0610\n",
      "Epoch: 014/050 | Batch 600/978 | Cost: 2.0177\n",
      "Epoch: 014/050 | Batch 800/978 | Cost: 2.1446\n",
      "Epoch: 014/050 Train Acc.: 17.03% | Validation Acc.: 16.70%\n",
      "Time elapsed: 0.84 min\n",
      "Epoch: 015/050 | Batch 000/978 | Cost: 2.1507\n",
      "Epoch: 015/050 | Batch 200/978 | Cost: 2.1808\n",
      "Epoch: 015/050 | Batch 400/978 | Cost: 2.1294\n",
      "Epoch: 015/050 | Batch 600/978 | Cost: 2.0680\n",
      "Epoch: 015/050 | Batch 800/978 | Cost: 2.1052\n",
      "Epoch: 015/050 Train Acc.: 17.44% | Validation Acc.: 17.61%\n",
      "Time elapsed: 0.90 min\n",
      "Epoch: 016/050 | Batch 000/978 | Cost: 2.1455\n",
      "Epoch: 016/050 | Batch 200/978 | Cost: 2.1659\n",
      "Epoch: 016/050 | Batch 400/978 | Cost: 2.1308\n",
      "Epoch: 016/050 | Batch 600/978 | Cost: 2.0155\n",
      "Epoch: 016/050 | Batch 800/978 | Cost: 2.1159\n",
      "Epoch: 016/050 Train Acc.: 16.93% | Validation Acc.: 17.52%\n",
      "Time elapsed: 0.96 min\n",
      "Epoch: 017/050 | Batch 000/978 | Cost: 2.1243\n",
      "Epoch: 017/050 | Batch 200/978 | Cost: 2.1569\n",
      "Epoch: 017/050 | Batch 400/978 | Cost: 2.1193\n",
      "Epoch: 017/050 | Batch 600/978 | Cost: 2.0691\n",
      "Epoch: 017/050 | Batch 800/978 | Cost: 2.1067\n",
      "Epoch: 017/050 Train Acc.: 16.98% | Validation Acc.: 17.36%\n",
      "Time elapsed: 1.02 min\n",
      "Epoch: 018/050 | Batch 000/978 | Cost: 2.2355\n",
      "Epoch: 018/050 | Batch 200/978 | Cost: 2.1874\n",
      "Epoch: 018/050 | Batch 400/978 | Cost: 2.0677\n",
      "Epoch: 018/050 | Batch 600/978 | Cost: 2.0682\n",
      "Epoch: 018/050 | Batch 800/978 | Cost: 2.0954\n",
      "Epoch: 018/050 Train Acc.: 17.37% | Validation Acc.: 17.21%\n",
      "Time elapsed: 1.09 min\n",
      "Epoch: 019/050 | Batch 000/978 | Cost: 2.1487\n",
      "Epoch: 019/050 | Batch 200/978 | Cost: 2.1863\n",
      "Epoch: 019/050 | Batch 400/978 | Cost: 2.0098\n",
      "Epoch: 019/050 | Batch 600/978 | Cost: 2.0466\n",
      "Epoch: 019/050 | Batch 800/978 | Cost: 2.1232\n",
      "Epoch: 019/050 Train Acc.: 17.82% | Validation Acc.: 17.33%\n",
      "Time elapsed: 1.15 min\n",
      "Epoch: 020/050 | Batch 000/978 | Cost: 2.1860\n",
      "Epoch: 020/050 | Batch 200/978 | Cost: 2.1682\n",
      "Epoch: 020/050 | Batch 400/978 | Cost: 2.0789\n",
      "Epoch: 020/050 | Batch 600/978 | Cost: 2.0804\n",
      "Epoch: 020/050 | Batch 800/978 | Cost: 2.0838\n",
      "Epoch: 020/050 Train Acc.: 17.82% | Validation Acc.: 17.43%\n",
      "Time elapsed: 1.21 min\n",
      "Epoch: 021/050 | Batch 000/978 | Cost: 2.1250\n",
      "Epoch: 021/050 | Batch 200/978 | Cost: 2.1592\n",
      "Epoch: 021/050 | Batch 400/978 | Cost: 2.0819\n",
      "Epoch: 021/050 | Batch 600/978 | Cost: 2.0480\n",
      "Epoch: 021/050 | Batch 800/978 | Cost: 2.0945\n",
      "Epoch: 021/050 Train Acc.: 17.37% | Validation Acc.: 16.88%\n",
      "Time elapsed: 1.27 min\n",
      "Epoch: 022/050 | Batch 000/978 | Cost: 2.1483\n",
      "Epoch: 022/050 | Batch 200/978 | Cost: 2.1596\n",
      "Epoch: 022/050 | Batch 400/978 | Cost: 2.1168\n",
      "Epoch: 022/050 | Batch 600/978 | Cost: 2.0891\n",
      "Epoch: 022/050 | Batch 800/978 | Cost: 2.0934\n",
      "Epoch: 022/050 Train Acc.: 17.42% | Validation Acc.: 16.97%\n",
      "Time elapsed: 1.32 min\n",
      "Epoch: 023/050 | Batch 000/978 | Cost: 2.1673\n",
      "Epoch: 023/050 | Batch 200/978 | Cost: 2.1344\n",
      "Epoch: 023/050 | Batch 400/978 | Cost: 2.0449\n",
      "Epoch: 023/050 | Batch 600/978 | Cost: 2.0369\n",
      "Epoch: 023/050 | Batch 800/978 | Cost: 2.0570\n",
      "Epoch: 023/050 Train Acc.: 17.56% | Validation Acc.: 17.03%\n",
      "Time elapsed: 1.39 min\n",
      "Epoch: 024/050 | Batch 000/978 | Cost: 2.1900\n",
      "Epoch: 024/050 | Batch 200/978 | Cost: 2.1651\n",
      "Epoch: 024/050 | Batch 400/978 | Cost: 2.0460\n",
      "Epoch: 024/050 | Batch 600/978 | Cost: 2.0604\n",
      "Epoch: 024/050 | Batch 800/978 | Cost: 2.1181\n",
      "Epoch: 024/050 Train Acc.: 17.83% | Validation Acc.: 17.15%\n",
      "Time elapsed: 1.44 min\n",
      "Epoch: 025/050 | Batch 000/978 | Cost: 2.2844\n",
      "Epoch: 025/050 | Batch 200/978 | Cost: 2.1563\n",
      "Epoch: 025/050 | Batch 400/978 | Cost: 2.0739\n",
      "Epoch: 025/050 | Batch 600/978 | Cost: 2.0925\n",
      "Epoch: 025/050 | Batch 800/978 | Cost: 2.0842\n",
      "Epoch: 025/050 Train Acc.: 17.97% | Validation Acc.: 17.36%\n",
      "Time elapsed: 1.51 min\n",
      "Epoch: 026/050 | Batch 000/978 | Cost: 2.1196\n",
      "Epoch: 026/050 | Batch 200/978 | Cost: 2.1669\n",
      "Epoch: 026/050 | Batch 400/978 | Cost: 2.0434\n",
      "Epoch: 026/050 | Batch 600/978 | Cost: 2.0594\n",
      "Epoch: 026/050 | Batch 800/978 | Cost: 2.0993\n",
      "Epoch: 026/050 Train Acc.: 17.23% | Validation Acc.: 17.33%\n",
      "Time elapsed: 1.57 min\n",
      "Epoch: 027/050 | Batch 000/978 | Cost: 2.1411\n",
      "Epoch: 027/050 | Batch 200/978 | Cost: 2.1514\n",
      "Epoch: 027/050 | Batch 400/978 | Cost: 2.0864\n",
      "Epoch: 027/050 | Batch 600/978 | Cost: 2.0433\n",
      "Epoch: 027/050 | Batch 800/978 | Cost: 2.1205\n",
      "Epoch: 027/050 Train Acc.: 17.48% | Validation Acc.: 16.58%\n",
      "Time elapsed: 1.63 min\n",
      "Epoch: 028/050 | Batch 000/978 | Cost: 2.1493\n",
      "Epoch: 028/050 | Batch 200/978 | Cost: 2.1184\n",
      "Epoch: 028/050 | Batch 400/978 | Cost: 2.0729\n",
      "Epoch: 028/050 | Batch 600/978 | Cost: 2.0940\n",
      "Epoch: 028/050 | Batch 800/978 | Cost: 2.0780\n",
      "Epoch: 028/050 Train Acc.: 17.45% | Validation Acc.: 17.82%\n",
      "Time elapsed: 1.70 min\n",
      "Epoch: 029/050 | Batch 000/978 | Cost: 2.1044\n",
      "Epoch: 029/050 | Batch 200/978 | Cost: 2.1295\n",
      "Epoch: 029/050 | Batch 400/978 | Cost: 2.0818\n",
      "Epoch: 029/050 | Batch 600/978 | Cost: 2.0501\n",
      "Epoch: 029/050 | Batch 800/978 | Cost: 2.0998\n",
      "Epoch: 029/050 Train Acc.: 17.81% | Validation Acc.: 16.55%\n",
      "Time elapsed: 1.75 min\n",
      "Epoch: 030/050 | Batch 000/978 | Cost: 2.1431\n",
      "Epoch: 030/050 | Batch 200/978 | Cost: 2.1772\n",
      "Epoch: 030/050 | Batch 400/978 | Cost: 2.0523\n",
      "Epoch: 030/050 | Batch 600/978 | Cost: 2.0870\n",
      "Epoch: 030/050 | Batch 800/978 | Cost: 2.1146\n",
      "Epoch: 030/050 Train Acc.: 17.80% | Validation Acc.: 17.18%\n",
      "Time elapsed: 1.82 min\n",
      "Epoch: 031/050 | Batch 000/978 | Cost: 2.1400\n",
      "Epoch: 031/050 | Batch 200/978 | Cost: 2.1217\n",
      "Epoch: 031/050 | Batch 400/978 | Cost: 2.0543\n",
      "Epoch: 031/050 | Batch 600/978 | Cost: 2.0702\n",
      "Epoch: 031/050 | Batch 800/978 | Cost: 2.0887\n",
      "Epoch: 031/050 Train Acc.: 17.98% | Validation Acc.: 17.09%\n",
      "Time elapsed: 1.89 min\n",
      "Epoch: 032/050 | Batch 000/978 | Cost: 2.1478\n",
      "Epoch: 032/050 | Batch 200/978 | Cost: 2.1819\n",
      "Epoch: 032/050 | Batch 400/978 | Cost: 2.0719\n",
      "Epoch: 032/050 | Batch 600/978 | Cost: 2.0219\n",
      "Epoch: 032/050 | Batch 800/978 | Cost: 2.0973\n",
      "Epoch: 032/050 Train Acc.: 18.22% | Validation Acc.: 17.58%\n",
      "Time elapsed: 1.95 min\n",
      "Epoch: 033/050 | Batch 000/978 | Cost: 2.1264\n",
      "Epoch: 033/050 | Batch 200/978 | Cost: 2.1854\n",
      "Epoch: 033/050 | Batch 400/978 | Cost: 2.0471\n",
      "Epoch: 033/050 | Batch 600/978 | Cost: 2.0641\n",
      "Epoch: 033/050 | Batch 800/978 | Cost: 2.0466\n",
      "Epoch: 033/050 Train Acc.: 17.50% | Validation Acc.: 16.58%\n",
      "Time elapsed: 2.01 min\n",
      "Epoch: 034/050 | Batch 000/978 | Cost: 2.1334\n",
      "Epoch: 034/050 | Batch 200/978 | Cost: 2.1658\n",
      "Epoch: 034/050 | Batch 400/978 | Cost: 2.1048\n",
      "Epoch: 034/050 | Batch 600/978 | Cost: 2.0490\n",
      "Epoch: 034/050 | Batch 800/978 | Cost: 2.0941\n",
      "Epoch: 034/050 Train Acc.: 18.33% | Validation Acc.: 17.55%\n",
      "Time elapsed: 2.08 min\n",
      "Epoch: 035/050 | Batch 000/978 | Cost: 2.1624\n",
      "Epoch: 035/050 | Batch 200/978 | Cost: 2.1021\n",
      "Epoch: 035/050 | Batch 400/978 | Cost: 2.0720\n",
      "Epoch: 035/050 | Batch 600/978 | Cost: 2.0295\n",
      "Epoch: 035/050 | Batch 800/978 | Cost: 2.0975\n",
      "Epoch: 035/050 Train Acc.: 17.64% | Validation Acc.: 16.27%\n",
      "Time elapsed: 2.14 min\n",
      "Epoch: 036/050 | Batch 000/978 | Cost: 2.2831\n",
      "Epoch: 036/050 | Batch 200/978 | Cost: 2.1858\n",
      "Epoch: 036/050 | Batch 400/978 | Cost: 2.1250\n",
      "Epoch: 036/050 | Batch 600/978 | Cost: 2.0476\n",
      "Epoch: 036/050 | Batch 800/978 | Cost: 2.0693\n",
      "Epoch: 036/050 Train Acc.: 18.02% | Validation Acc.: 17.12%\n",
      "Time elapsed: 2.20 min\n",
      "Epoch: 037/050 | Batch 000/978 | Cost: 2.0837\n",
      "Epoch: 037/050 | Batch 200/978 | Cost: 2.1133\n",
      "Epoch: 037/050 | Batch 400/978 | Cost: 2.1297\n",
      "Epoch: 037/050 | Batch 600/978 | Cost: 2.0441\n",
      "Epoch: 037/050 | Batch 800/978 | Cost: 2.0921\n",
      "Epoch: 037/050 Train Acc.: 17.73% | Validation Acc.: 17.06%\n",
      "Time elapsed: 2.26 min\n",
      "Epoch: 038/050 | Batch 000/978 | Cost: 2.0920\n",
      "Epoch: 038/050 | Batch 200/978 | Cost: 2.1449\n",
      "Epoch: 038/050 | Batch 400/978 | Cost: 2.0905\n",
      "Epoch: 038/050 | Batch 600/978 | Cost: 2.0657\n",
      "Epoch: 038/050 | Batch 800/978 | Cost: 2.0936\n",
      "Epoch: 038/050 Train Acc.: 17.96% | Validation Acc.: 17.21%\n",
      "Time elapsed: 2.32 min\n",
      "Epoch: 039/050 | Batch 000/978 | Cost: 2.1268\n",
      "Epoch: 039/050 | Batch 200/978 | Cost: 2.1455\n",
      "Epoch: 039/050 | Batch 400/978 | Cost: 2.0105\n",
      "Epoch: 039/050 | Batch 600/978 | Cost: 2.0417\n",
      "Epoch: 039/050 | Batch 800/978 | Cost: 2.0646\n",
      "Epoch: 039/050 Train Acc.: 17.98% | Validation Acc.: 17.30%\n",
      "Time elapsed: 2.38 min\n",
      "Epoch: 040/050 | Batch 000/978 | Cost: 2.1002\n",
      "Epoch: 040/050 | Batch 200/978 | Cost: 2.1572\n",
      "Epoch: 040/050 | Batch 400/978 | Cost: 2.0569\n",
      "Epoch: 040/050 | Batch 600/978 | Cost: 2.0349\n",
      "Epoch: 040/050 | Batch 800/978 | Cost: 2.0328\n",
      "Epoch: 040/050 Train Acc.: 18.44% | Validation Acc.: 17.70%\n",
      "Time elapsed: 2.45 min\n",
      "Epoch: 041/050 | Batch 000/978 | Cost: 2.1131\n",
      "Epoch: 041/050 | Batch 200/978 | Cost: 2.1448\n",
      "Epoch: 041/050 | Batch 400/978 | Cost: 2.0582\n",
      "Epoch: 041/050 | Batch 600/978 | Cost: 2.0457\n",
      "Epoch: 041/050 | Batch 800/978 | Cost: 2.0782\n",
      "Epoch: 041/050 Train Acc.: 18.11% | Validation Acc.: 16.88%\n",
      "Time elapsed: 2.51 min\n",
      "Epoch: 042/050 | Batch 000/978 | Cost: 2.1388\n",
      "Epoch: 042/050 | Batch 200/978 | Cost: 2.1308\n",
      "Epoch: 042/050 | Batch 400/978 | Cost: 2.0815\n",
      "Epoch: 042/050 | Batch 600/978 | Cost: 2.0902\n",
      "Epoch: 042/050 | Batch 800/978 | Cost: 2.0728\n",
      "Epoch: 042/050 Train Acc.: 18.19% | Validation Acc.: 16.97%\n",
      "Time elapsed: 2.57 min\n",
      "Epoch: 043/050 | Batch 000/978 | Cost: 2.1141\n",
      "Epoch: 043/050 | Batch 200/978 | Cost: 2.1028\n",
      "Epoch: 043/050 | Batch 400/978 | Cost: 2.0191\n",
      "Epoch: 043/050 | Batch 600/978 | Cost: 2.0496\n",
      "Epoch: 043/050 | Batch 800/978 | Cost: 2.0691\n",
      "Epoch: 043/050 Train Acc.: 18.01% | Validation Acc.: 17.49%\n",
      "Time elapsed: 2.63 min\n",
      "Epoch: 044/050 | Batch 000/978 | Cost: 2.1749\n",
      "Epoch: 044/050 | Batch 200/978 | Cost: 2.1409\n",
      "Epoch: 044/050 | Batch 400/978 | Cost: 2.0740\n",
      "Epoch: 044/050 | Batch 600/978 | Cost: 2.0087\n",
      "Epoch: 044/050 | Batch 800/978 | Cost: 2.0697\n",
      "Epoch: 044/050 Train Acc.: 18.44% | Validation Acc.: 16.85%\n",
      "Time elapsed: 2.68 min\n",
      "Epoch: 045/050 | Batch 000/978 | Cost: 2.2303\n",
      "Epoch: 045/050 | Batch 200/978 | Cost: 2.1065\n",
      "Epoch: 045/050 | Batch 400/978 | Cost: 2.1137\n",
      "Epoch: 045/050 | Batch 600/978 | Cost: 2.0350\n",
      "Epoch: 045/050 | Batch 800/978 | Cost: 2.0701\n",
      "Epoch: 045/050 Train Acc.: 17.51% | Validation Acc.: 16.79%\n",
      "Time elapsed: 2.74 min\n",
      "Epoch: 046/050 | Batch 000/978 | Cost: 2.1395\n",
      "Epoch: 046/050 | Batch 200/978 | Cost: 2.1504\n",
      "Epoch: 046/050 | Batch 400/978 | Cost: 2.0601\n",
      "Epoch: 046/050 | Batch 600/978 | Cost: 2.0035\n",
      "Epoch: 046/050 | Batch 800/978 | Cost: 2.0555\n",
      "Epoch: 046/050 Train Acc.: 18.02% | Validation Acc.: 16.15%\n",
      "Time elapsed: 2.80 min\n",
      "Epoch: 047/050 | Batch 000/978 | Cost: 2.1949\n",
      "Epoch: 047/050 | Batch 200/978 | Cost: 2.1203\n",
      "Epoch: 047/050 | Batch 400/978 | Cost: 1.9865\n",
      "Epoch: 047/050 | Batch 600/978 | Cost: 2.0360\n",
      "Epoch: 047/050 | Batch 800/978 | Cost: 2.0650\n",
      "Epoch: 047/050 Train Acc.: 18.37% | Validation Acc.: 17.49%\n",
      "Time elapsed: 2.87 min\n",
      "Epoch: 048/050 | Batch 000/978 | Cost: 2.1142\n",
      "Epoch: 048/050 | Batch 200/978 | Cost: 2.1572\n",
      "Epoch: 048/050 | Batch 400/978 | Cost: 2.0488\n",
      "Epoch: 048/050 | Batch 600/978 | Cost: 2.0024\n",
      "Epoch: 048/050 | Batch 800/978 | Cost: 2.0455\n",
      "Epoch: 048/050 Train Acc.: 18.45% | Validation Acc.: 17.03%\n",
      "Time elapsed: 2.92 min\n",
      "Epoch: 049/050 | Batch 000/978 | Cost: 2.1087\n",
      "Epoch: 049/050 | Batch 200/978 | Cost: 2.1662\n",
      "Epoch: 049/050 | Batch 400/978 | Cost: 2.0454\n",
      "Epoch: 049/050 | Batch 600/978 | Cost: 2.0487\n",
      "Epoch: 049/050 | Batch 800/978 | Cost: 2.0540\n",
      "Epoch: 049/050 Train Acc.: 17.91% | Validation Acc.: 17.15%\n",
      "Time elapsed: 2.98 min\n",
      "Epoch: 050/050 | Batch 000/978 | Cost: 2.2161\n",
      "Epoch: 050/050 | Batch 200/978 | Cost: 2.1445\n",
      "Epoch: 050/050 | Batch 400/978 | Cost: 2.0633\n",
      "Epoch: 050/050 | Batch 600/978 | Cost: 2.0451\n",
      "Epoch: 050/050 | Batch 800/978 | Cost: 2.0623\n",
      "Epoch: 050/050 Train Acc.: 18.51% | Validation Acc.: 16.61%\n",
      "Time elapsed: 3.03 min\n",
      "Total Training Time: 3.03 min\n"
     ]
    }
   ],
   "source": [
    "def compute_accuracy_and_loss(model, data_loader, device):\n",
    "    correct_pred, num_examples = 0, 0\n",
    "    cross_entropy = 0.\n",
    "    for i, (features, targets) in enumerate(data_loader):\n",
    "            \n",
    "        features = features.view(-1, num_features).to(device)\n",
    "        targets = targets.to(device)\n",
    "\n",
    "        logits, probas = model(features.float())\n",
    "        cross_entropy += F.cross_entropy(logits, targets).item()\n",
    "        _, predicted_labels = torch.max(probas, 1)\n",
    "        num_examples += targets.size(0)\n",
    "        correct_pred += (predicted_labels == targets).sum()\n",
    "    return correct_pred.float()/num_examples * 100, cross_entropy/num_examples\n",
    "    \n",
    "\n",
    "start_time = time.time()\n",
    "train_acc_lst, valid_acc_lst = [], []\n",
    "train_loss_lst, valid_loss_lst = [], []\n",
    "\n",
    "for epoch in range(NUM_EPOCHS):\n",
    "    \n",
    "    model.train()\n",
    "    \n",
    "    for batch_idx, (features, targets) in enumerate(train_loader):\n",
    "    \n",
    "        ### PREPARE MINIBATCH\n",
    "        features = features.view(-1, num_features).to(DEVICE)\n",
    "        targets = targets.to(DEVICE)\n",
    "            \n",
    "        ### FORWARD AND BACK PROP\n",
    "        logits, probas = model(features.float())\n",
    "        cost = F.cross_entropy(logits, targets)\n",
    "        optimizer.zero_grad()\n",
    "        \n",
    "        cost.backward()\n",
    "        \n",
    "        ### UPDATE MODEL PARAMETERS\n",
    "        optimizer.step()\n",
    "        \n",
    "        ### LOGGING\n",
    "        if not batch_idx % 200:\n",
    "            print (f'Epoch: {epoch+1:03d}/{NUM_EPOCHS:03d} | '\n",
    "                   f'Batch {batch_idx:03d}/{len(train_loader):03d} |' \n",
    "                   f' Cost: {cost:.4f}')\n",
    "\n",
    "    # no need to build the computation graph for backprop when computing accuracy\n",
    "    model.eval()\n",
    "    with torch.set_grad_enabled(False):\n",
    "        train_acc, train_loss = compute_accuracy_and_loss(model, train_loader, device=DEVICE)\n",
    "        valid_acc, valid_loss = compute_accuracy_and_loss(model, valid_loader, device=DEVICE)\n",
    "        train_acc_lst.append(train_acc)\n",
    "        valid_acc_lst.append(valid_acc)\n",
    "        train_loss_lst.append(train_loss)\n",
    "        valid_loss_lst.append(valid_loss)\n",
    "        print(f'Epoch: {epoch+1:03d}/{NUM_EPOCHS:03d} Train Acc.: {train_acc:.2f}%'\n",
    "              f' | Validation Acc.: {valid_acc:.2f}%')\n",
    "        \n",
    "    elapsed = (time.time() - start_time)/60\n",
    "    print(f'Time elapsed: {elapsed:.2f} min')\n",
    "  \n",
    "elapsed = (time.time() - start_time)/60\n",
    "print(f'Total Training Time: {elapsed:.2f} min')"
   ]
  },
  {
   "cell_type": "markdown",
   "metadata": {},
   "source": [
    "\n",
    "#### Evaluation (No Need To Change Any Code in This Section!)"
   ]
  },
  {
   "cell_type": "code",
   "execution_count": 964,
   "metadata": {},
   "outputs": [
    {
     "data": {
      "image/png": "[encoded data removed]",
      "text/plain": [
       "<Figure size 432x288 with 1 Axes>"
      ]
     },
     "metadata": {
      "needs_background": "light"
     },
     "output_type": "display_data"
    }
   ],
   "source": [
    "plt.plot(range(1, NUM_EPOCHS+1), train_loss_lst, label='Training loss')\n",
    "plt.plot(range(1, NUM_EPOCHS+1), valid_loss_lst, label='Validation loss')\n",
    "plt.legend(loc='upper right')\n",
    "plt.ylabel('Cross entropy')\n",
    "plt.xlabel('Epoch')\n",
    "plt.show()"
   ]
  },
  {
   "cell_type": "code",
   "execution_count": 965,
   "metadata": {},
   "outputs": [
    {
     "data": {
      "image/png": "[encoded data removed]",
      "text/plain": [
       "<Figure size 432x288 with 1 Axes>"
      ]
     },
     "metadata": {
      "needs_background": "light"
     },
     "output_type": "display_data"
    }
   ],
   "source": [
    "plt.plot(range(1, NUM_EPOCHS+1), train_acc_lst, label='Training accuracy')\n",
    "plt.plot(range(1, NUM_EPOCHS+1), valid_acc_lst, label='Validation accuracy')\n",
    "plt.legend(loc='upper left')\n",
    "plt.ylabel('Accuracy')\n",
    "plt.xlabel('Epoch')\n",
    "plt.show()"
   ]
  },
  {
   "cell_type": "code",
   "execution_count": 981,
   "metadata": {},
   "outputs": [
    {
     "name": "stdout",
     "output_type": "stream",
     "text": [
      "Test accuracy: 19.52%\n"
     ]
    }
   ],
   "source": [
    "model.eval()\n",
    "with torch.set_grad_enabled(False): # save memory during inference\n",
    "    test_acc, test_loss = compute_accuracy_and_loss(model, test_loader, DEVICE)\n",
    "    print(f'Test accuracy: {test_acc:.2f}%')"
   ]
  },
  {
   "cell_type": "code",
   "execution_count": 982,
   "metadata": {},
   "outputs": [
    {
     "name": "stdout",
     "output_type": "stream",
     "text": [
      "tensor([7, 7, 5, 7, 7, 6, 2, 1, 1, 2, 1, 0, 1, 0, 6, 6, 6, 6, 6, 6, 6, 0, 0, 0,\n",
      "        0, 0, 0, 0, 8, 8, 8, 8, 8, 8, 8, 8, 8, 8, 8, 8, 8, 0, 0, 8, 1, 8, 8, 8,\n",
      "        7, 8, 1, 7, 7, 1, 1, 7, 5, 5, 5, 5, 5, 2, 5, 4])\n",
      "tensor([2, 5, 5, 6, 0, 5, 0, 0, 1, 1, 1, 2, 0, 2, 1, 1, 5, 2, 1, 3, 1, 2, 0, 0,\n",
      "        3, 0, 3, 0, 8, 0, 3, 2, 2, 2, 3, 6, 5, 6, 7, 7, 0, 7, 0, 5, 2, 5, 8, 4,\n",
      "        2, 6, 8, 7, 2, 4, 1, 7, 7, 6, 0, 8, 4, 7, 8, 4])\n",
      "False\n"
     ]
    }
   ],
   "source": [
    "# Manually inspecting some of the predictions\n",
    "num = 0\n",
    "\n",
    "model.eval()\n",
    "with torch.set_grad_enabled(False): # save memory during inference\n",
    "    for i, (x, y) in enumerate(test_loader):\n",
    "        if i == num:\n",
    "            logits, probas = model(x)\n",
    "            pred = np.argmax(probas, axis=1)\n",
    "            print(pred)\n",
    "            print(y)"
   ]
  },
  {
   "cell_type": "code",
   "execution_count": 1071,
   "metadata": {},
   "outputs": [],
   "source": [
    "from sklearn.metrics import f1_score\n",
    "from sklearn.metrics import confusion_matrix"
   ]
  },
  {
   "cell_type": "code",
   "execution_count": 1072,
   "metadata": {},
   "outputs": [],
   "source": [
    "def convertLabels(label):\n",
    "    # 0 - 4 : 0\n",
    "    # 5 - 8: 1\n",
    "    bounds = [0, 4, 4, 8]\n",
    "    if label >= bounds[0] and label <= bounds[1]:\n",
    "        return 0\n",
    "    elif label <= bounds[3]:\n",
    "        return 2\n",
    "    return -1"
   ]
  },
  {
   "cell_type": "code",
   "execution_count": 1073,
   "metadata": {},
   "outputs": [],
   "source": [
    "loader = test_loader\n",
    "target_labels = []\n",
    "pred_labels = []\n",
    "\n",
    "target_labels_3 = []\n",
    "pred_labels_3 = []\n",
    "model.eval()\n",
    "with torch.set_grad_enabled(False): # save memory during inference\n",
    "    for i, (features, targets) in enumerate(loader):\n",
    "        logits, probas = model(features)\n",
    "        pred = np.argmax(probas, axis=1)\n",
    "\n",
    "        for j in range(len(pred)):\n",
    "            target_labels.append(targets[j].item())\n",
    "            pred_labels.append(pred[j].item())\n",
    "            target_labels_3.append(convertLabels(targets[j].item()))\n",
    "            pred_labels_3.append(convertLabels(pred[j].item()))"
   ]
  },
  {
   "cell_type": "code",
   "execution_count": 1074,
   "metadata": {},
   "outputs": [
    {
     "name": "stdout",
     "output_type": "stream",
     "text": [
      "0.1035674535762404\n"
     ]
    },
    {
     "data": {
      "text/plain": [
       "array([0.11855104, 0.        , 0.0359874 , 0.01613717, 0.        ,\n",
       "       0.097313  , 0.14944194, 0.        , 0.16118175])"
      ]
     },
     "execution_count": 1074,
     "metadata": {},
     "output_type": "execute_result"
    }
   ],
   "source": [
    "# 9 labels\n",
    "print(f1_score(target_labels, pred_labels, average='micro'))\n",
    "f1_score(target_labels, pred_labels, average=None)"
   ]
  },
  {
   "cell_type": "code",
   "execution_count": 1076,
   "metadata": {},
   "outputs": [
    {
     "data": {
      "text/plain": [
       "(array([[ 270,    0,   31,    5,    0,   75, 1771,    0,  563],\n",
       "        [ 228,    0,   32,    7,    0,  106, 1202,    0,  436],\n",
       "        [ 203,    0,   40,   18,    0,  119, 1167,    0,  382],\n",
       "        [ 191,    0,   39,   16,    0,  125, 1120,    0,  378],\n",
       "        [ 204,    0,   43,   20,    0,  141, 1207,    0,  391],\n",
       "        [ 203,    0,   48,   22,    0,  134, 1013,    0,  378],\n",
       "        [ 205,    0,   33,    9,    0,  115,  877,    0,  404],\n",
       "        [ 176,    0,   18,    9,    0,  100,  812,    0,  409],\n",
       "        [ 160,    1,   10,    8,    0,   41,  925,    0,  431]]),)"
      ]
     },
     "execution_count": 1076,
     "metadata": {},
     "output_type": "execute_result"
    }
   ],
   "source": [
    "confusion_matrix(target_labels, pred_labels), "
   ]
  },
  {
   "cell_type": "code",
   "execution_count": 1075,
   "metadata": {},
   "outputs": [
    {
     "name": "stdout",
     "output_type": "stream",
     "text": [
      "0.4092320309296467\n"
     ]
    },
    {
     "data": {
      "text/plain": [
       "array([0.21081462, 0.52792211])"
      ]
     },
     "execution_count": 1075,
     "metadata": {},
     "output_type": "execute_result"
    }
   ],
   "source": [
    "# 3 labels\n",
    "print(f1_score(target_labels_3, pred_labels_3, average='micro'))\n",
    "f1_score(target_labels_3, pred_labels_3, average=None)"
   ]
  },
  {
   "cell_type": "code",
   "execution_count": 1077,
   "metadata": {},
   "outputs": [
    {
     "data": {
      "text/plain": [
       "array([[1347, 9183],\n",
       "       [ 902, 5639]])"
      ]
     },
     "execution_count": 1077,
     "metadata": {},
     "output_type": "execute_result"
    }
   ],
   "source": [
    "confusion_matrix(target_labels_3, pred_labels_3)"
   ]
  },
  {
   "cell_type": "code",
   "execution_count": 347,
   "metadata": {},
   "outputs": [
    {
     "name": "stdout",
     "output_type": "stream",
     "text": [
      "{8: 3613, 6: 2062, 1: 841, 0: 5070, 7: 1921, 4: 3496, 5: 37, 3: 23}\n"
     ]
    }
   ],
   "source": [
    "l = pred_labels\n",
    "counts = {}\n",
    "\n",
    "for i in l:\n",
    "    if i in counts:\n",
    "        counts[i] += 1\n",
    "    else:\n",
    "        counts[i] = 0\n",
    "\n",
    "print(counts)"
   ]
  },
  {
   "cell_type": "code",
   "execution_count": 348,
   "metadata": {},
   "outputs": [],
   "source": [
    "# torch.save(model, MODEL_PATH)"
   ]
  },
  {
   "cell_type": "code",
   "execution_count": 349,
   "metadata": {},
   "outputs": [],
   "source": [
    "## Multiple model inference"
   ]
  },
  {
   "cell_type": "code",
   "execution_count": 1078,
   "metadata": {},
   "outputs": [],
   "source": [
    "import glob\n",
    "model_files = glob.glob(\"models/*.pth\")\n",
    "models = []"
   ]
  },
  {
   "cell_type": "code",
   "execution_count": 1079,
   "metadata": {},
   "outputs": [],
   "source": [
    "for m in model_files:\n",
    "    models.append(torch.load(m))"
   ]
  },
  {
   "cell_type": "code",
   "execution_count": 1080,
   "metadata": {},
   "outputs": [
    {
     "data": {
      "text/plain": [
       "['models/classifier_143features_200x300x100_0.001lr_50e_0.4dropout_64bs_orthogonal.pth',\n",
       " 'models/classifier_143features_50x75x25_0.001lr_50e_0.3dropout_64bs_xavier_norm.pth',\n",
       " 'models/classifier_143features_125x250x100_0.001lr_50e_0.2dropout_64bs_xavier.pth',\n",
       " 'models/classifier_143features_75x100x50_0.001lr_100e_0.3dropout_128bs_sparse_.pth',\n",
       " 'models/classifier_143features_75x100x50_0.001lr_50e_0.5dropout_256bs_kaiming_norm.pth',\n",
       " 'models/classifier_143features_150x300x100_0.001lr_100e_0.5dropout_128bs_orthogonal.pth',\n",
       " 'models/classifier_143features_200x300x200_0.0001lr_50e_0.4dropout_64bs_kaiming_norm.pth',\n",
       " 'models/classifier_143features_125x250x100_0.001lr_50e_0.2dropout_64bs_xavier_norm.pth',\n",
       " 'models/classifier_143features_50x75x25_0.001lr_50e_0.5dropout_256bs_kaiming_norm.pth',\n",
       " 'models/classifier_143features_200x300x200_0.001lr_50e_0.3dropout_64bs_kaiming_norm.pth',\n",
       " 'models/classifier_143features_75x150x50_0.0001lr_50e_0.5dropout_256bs_kaiming_norm.pth',\n",
       " 'models/classifier_143features_125x250x100_0.001lr_100e_0.3dropout_128bs_xavier_norm.pth',\n",
       " 'models/classifier_143features_100x100x100_0.001lr_50e_0.5dropout_64bs.pth',\n",
       " 'models/classifier_143features_143x286x100_0.001lr_50e_0.5dropout_64bs_kaiming.pth']"
      ]
     },
     "execution_count": 1080,
     "metadata": {},
     "output_type": "execute_result"
    }
   ],
   "source": [
    "model_files"
   ]
  },
  {
   "cell_type": "code",
   "execution_count": 1081,
   "metadata": {},
   "outputs": [],
   "source": [
    "results = []\n",
    "\n",
    "for model in models:\n",
    "    loader = test_loader\n",
    "    target_labels = []\n",
    "    pred_labels = []\n",
    "\n",
    "    target_labels_3 = []\n",
    "    pred_labels_3 = []\n",
    "    model.eval()\n",
    "    with torch.set_grad_enabled(False): # save memory during inference\n",
    "        for i, (features, targets) in enumerate(loader):\n",
    "            logits, probas = model(features)\n",
    "            pred = np.argmax(probas, axis=1)\n",
    "\n",
    "            for j in range(len(pred)):\n",
    "                target_labels.append(targets[j].item())\n",
    "                pred_labels.append(pred[j].item())\n",
    "                target_labels_3.append(convertLabels(targets[j].item()))\n",
    "                pred_labels_3.append(convertLabels(pred[j].item()))\n",
    "                \n",
    "    model_results = dict()\n",
    "    model_results[\"targets\"] = target_labels\n",
    "    model_results[\"predictions\"] = pred_labels\n",
    "    model_results[\"targets_3\"] = target_labels_3\n",
    "    model_results[\"predictions_3\"] = pred_labels_3\n",
    "    \n",
    "    model_results[\"f1\"] = f1_score(target_labels, pred_labels, average=None)\n",
    "    \n",
    "    results.append(model_results)"
   ]
  },
  {
   "cell_type": "code",
   "execution_count": 1083,
   "metadata": {},
   "outputs": [],
   "source": [
    "def calculateProb(results, num_labels):\n",
    "    probabilities = np.zeros(num_labels * len(results[0][\"targets\"])).reshape(-1, 9)\n",
    "    # Iterate row by row over each prediction and calculate aggregated probabilities\n",
    "    for i in range(len(results[0][\"targets\"])):\n",
    "        for j in range(len(results)):\n",
    "            prediction = results[j][\"predictions\"][i]\n",
    "            probabilities[i][prediction] += results[j][\"f1\"][prediction]\n",
    "    return probabilities"
   ]
  },
  {
   "cell_type": "code",
   "execution_count": 1088,
   "metadata": {},
   "outputs": [],
   "source": [
    "test_pred_prob = calculateProb(results, 9)"
   ]
  },
  {
   "cell_type": "code",
   "execution_count": 1090,
   "metadata": {},
   "outputs": [],
   "source": [
    "def calculateFinalPredictions(probabilities):\n",
    "    pred = []\n",
    "    prob = []\n",
    "    prob_diff = []\n",
    "    for i in range(len(probabilities)):\n",
    "        # 0 - 4: Sell\n",
    "        # 5 - 8 : Buy\n",
    "        sell_prob = probabilities[i][0] + probabilities[i][1] + probabilities[i][2] + probabilities[i][3] + probabilities[i][4]\n",
    "        buy_prob = probabilities[i][5] + probabilities[i][6] + probabilities[i][7] + probabilities[i][8]\n",
    "        \n",
    "        if sell_prob > buy_prob:\n",
    "            pred.append(0)\n",
    "            prob.append(sell_prob)\n",
    "        else:\n",
    "            pred.append(1)\n",
    "            prob.append(buy_prob)\n",
    "        prob_diff.append(abs(sell_prob - buy_prob))\n",
    "    return pred, prob, prob_diff"
   ]
  },
  {
   "cell_type": "code",
   "execution_count": 1091,
   "metadata": {},
   "outputs": [],
   "source": [
    "decisions, prob, diff = calculateFinalPredictions(test_pred_prob)"
   ]
  },
  {
   "cell_type": "code",
   "execution_count": 1092,
   "metadata": {},
   "outputs": [],
   "source": [
    "def convertLabelToBuySell(targets):\n",
    "    output = []\n",
    "    \n",
    "    for i in targets:\n",
    "        if i <= 4:\n",
    "            output.append(0)\n",
    "        else:\n",
    "            output.append(1)\n",
    "    return output"
   ]
  },
  {
   "cell_type": "code",
   "execution_count": 1093,
   "metadata": {},
   "outputs": [],
   "source": [
    "actual = convertLabelToBuySell(results[0][\"targets\"])"
   ]
  },
  {
   "cell_type": "code",
   "execution_count": 1094,
   "metadata": {},
   "outputs": [
    {
     "data": {
      "text/plain": [
       "array([0.64583835, 0.44969706])"
      ]
     },
     "execution_count": 1094,
     "metadata": {},
     "output_type": "execute_result"
    }
   ],
   "source": [
    "f1_score(actual, decisions, average=None)"
   ]
  },
  {
   "cell_type": "code",
   "execution_count": 1095,
   "metadata": {},
   "outputs": [
    {
     "data": {
      "text/plain": [
       "array([[6708, 3822],\n",
       "       [3535, 3006]])"
      ]
     },
     "execution_count": 1095,
     "metadata": {},
     "output_type": "execute_result"
    }
   ],
   "source": [
    "confusion_matrix(actual, decisions)"
   ]
  },
  {
   "cell_type": "code",
   "execution_count": 1096,
   "metadata": {},
   "outputs": [],
   "source": [
    "# Convert to list of dicts to make sorting easier\n",
    "l = []\n",
    "\n",
    "for i in range(len(decisions)):\n",
    "    temp = dict()\n",
    "    temp[\"Prediction\"] = decisions[i]\n",
    "    temp[\"Actual\"] = actual[i]\n",
    "    temp[\"Probability\"] = prob[i]\n",
    "    temp[\"Diff\"] = diff[i]\n",
    "    l.append(temp)"
   ]
  },
  {
   "cell_type": "code",
   "execution_count": 1097,
   "metadata": {},
   "outputs": [],
   "source": [
    "sorted_pred = sorted(l, key=lambda k: k['Diff'], reverse=True) "
   ]
  },
  {
   "cell_type": "code",
   "execution_count": 1098,
   "metadata": {},
   "outputs": [],
   "source": [
    "def calculateSortedAccuracy(sorted_pred, num):\n",
    "    counter = 0\n",
    "    correct = 0\n",
    "    total = 0\n",
    "\n",
    "    counter_max = num\n",
    "\n",
    "    for item in sorted_pred:\n",
    "        if item['Prediction'] == 0:\n",
    "            total += 1\n",
    "            counter += 1\n",
    "            if item[\"Actual\"] == 0:\n",
    "                correct += 1\n",
    "        if counter >= counter_max:\n",
    "            break\n",
    "    \n",
    "    sell_acuracy = correct/total * 100\n",
    "    sell_total = total\n",
    "    sell_correct = correct\n",
    "    \n",
    "    counter = 0\n",
    "    correct = 0\n",
    "    total = 0\n",
    "\n",
    "    counter_max = num\n",
    "\n",
    "    for item in sorted_pred:\n",
    "        if item['Prediction'] == 1:\n",
    "            total += 1\n",
    "            counter += 1\n",
    "            if item[\"Actual\"] == 1:\n",
    "                correct += 1\n",
    "        if counter >= counter_max:\n",
    "            break\n",
    "    \n",
    "    buy_acuracy = correct/total * 100\n",
    "    buy_total = total\n",
    "    buy_correct = correct\n",
    "    \n",
    "    overall_correct = buy_correct + sell_correct\n",
    "    overall_total = buy_total + sell_total\n",
    "    overall_accuracy = overall_correct/overall_total * 100\n",
    "    \n",
    "    print(\"Top\", num, \"stocks\")\n",
    "    print(\"Overall accuracy: \", overall_accuracy, \"%\")\n",
    "    print(\"Buy accuracy: \", buy_acuracy, \"%\")\n",
    "    print(\"Sell accuracy: \", sell_acuracy, \"%\")"
   ]
  },
  {
   "cell_type": "code",
   "execution_count": 1099,
   "metadata": {},
   "outputs": [
    {
     "name": "stdout",
     "output_type": "stream",
     "text": [
      "Top 1000 stocks\n",
      "Overall accuracy:  57.65 %\n",
      "Buy accuracy:  46.2 %\n",
      "Sell accuracy:  69.1 %\n"
     ]
    }
   ],
   "source": [
    "calculateSortedAccuracy(sorted_pred, 1000)"
   ]
  },
  {
   "cell_type": "code",
   "execution_count": 1100,
   "metadata": {},
   "outputs": [
    {
     "name": "stdout",
     "output_type": "stream",
     "text": [
      "Top 100 stocks\n",
      "Overall accuracy:  56.99999999999999 %\n",
      "Buy accuracy:  42.0 %\n",
      "Sell accuracy:  72.0 %\n"
     ]
    }
   ],
   "source": [
    "calculateSortedAccuracy(sorted_pred, 100)"
   ]
  },
  {
   "cell_type": "code",
   "execution_count": 1101,
   "metadata": {},
   "outputs": [
    {
     "name": "stdout",
     "output_type": "stream",
     "text": [
      "Top 50 stocks\n",
      "Overall accuracy:  59.0 %\n",
      "Buy accuracy:  42.0 %\n",
      "Sell accuracy:  76.0 %\n"
     ]
    }
   ],
   "source": [
    "calculateSortedAccuracy(sorted_pred, 50)"
   ]
  },
  {
   "cell_type": "code",
   "execution_count": 1102,
   "metadata": {},
   "outputs": [
    {
     "name": "stdout",
     "output_type": "stream",
     "text": [
      "Top 20 stocks\n",
      "Overall accuracy:  62.5 %\n",
      "Buy accuracy:  50.0 %\n",
      "Sell accuracy:  75.0 %\n"
     ]
    }
   ],
   "source": [
    "calculateSortedAccuracy(sorted_pred, 20)"
   ]
  },
  {
   "cell_type": "code",
   "execution_count": 1103,
   "metadata": {},
   "outputs": [
    {
     "name": "stdout",
     "output_type": "stream",
     "text": [
      "Top 10 stocks\n",
      "Overall accuracy:  70.0 %\n",
      "Buy accuracy:  50.0 %\n",
      "Sell accuracy:  90.0 %\n"
     ]
    }
   ],
   "source": [
    "calculateSortedAccuracy(sorted_pred, 10)"
   ]
  },
  {
   "cell_type": "code",
   "execution_count": 1104,
   "metadata": {},
   "outputs": [],
   "source": [
    "test = pd.read_csv(\"test_raw.csv\")"
   ]
  },
  {
   "cell_type": "code",
   "execution_count": 1105,
   "metadata": {},
   "outputs": [
    {
     "name": "stdout",
     "output_type": "stream",
     "text": [
      "Stats for long stocks in test set\n"
     ]
    },
    {
     "data": {
      "text/plain": [
       "count    6541.000000\n",
       "mean       17.182326\n",
       "std        14.331726\n",
       "min         4.300567\n",
       "25%         7.867133\n",
       "50%        12.500000\n",
       "75%        21.134180\n",
       "max        99.884626\n",
       "dtype: float64"
      ]
     },
     "execution_count": 1105,
     "metadata": {},
     "output_type": "execute_result"
    }
   ],
   "source": [
    "long_stocks = test[test[\"Label\"] >= 5]\n",
    "print(\"Stats for long stocks in test set\")\n",
    "((long_stocks[\"Target\"] - long_stocks[\"Stock Price\"])/long_stocks[\"Stock Price\"] * 100).describe()"
   ]
  },
  {
   "cell_type": "code",
   "execution_count": 1106,
   "metadata": {},
   "outputs": [
    {
     "name": "stdout",
     "output_type": "stream",
     "text": [
      "Stats for short stocks in test set\n"
     ]
    },
    {
     "data": {
      "text/plain": [
       "count    10530.000000\n",
       "mean       -10.481453\n",
       "std         14.167806\n",
       "min        -95.954887\n",
       "25%        -15.924470\n",
       "50%         -6.262623\n",
       "75%         -0.412018\n",
       "max          4.298844\n",
       "dtype: float64"
      ]
     },
     "execution_count": 1106,
     "metadata": {},
     "output_type": "execute_result"
    }
   ],
   "source": [
    "short_stocks = test[test[\"Label\"] < 5]\n",
    "print(\"Stats for short stocks in test set\")\n",
    "((short_stocks[\"Target\"] - short_stocks[\"Stock Price\"])/short_stocks[\"Stock Price\"] * 100).describe()"
   ]
  }
 ],
 "metadata": {
  "kernelspec": {
   "display_name": "Python 3",
   "language": "python",
   "name": "python3"
  },
  "language_info": {
   "codemirror_mode": {
    "name": "ipython",
    "version": 3
   },
   "file_extension": ".py",
   "mimetype": "text/x-python",
   "name": "python",
   "nbconvert_exporter": "python",
   "pygments_lexer": "ipython3",
   "version": "3.7.4"
  }
 },
 "nbformat": 4,
 "nbformat_minor": 4
}
