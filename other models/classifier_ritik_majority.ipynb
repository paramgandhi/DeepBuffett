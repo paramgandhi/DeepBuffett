{
 "cells": [
  {
   "cell_type": "code",
   "execution_count": 12,
   "metadata": {},
   "outputs": [],
   "source": [
    "import torch\n",
    "import os\n",
    "import pandas as pd\n",
    "import numpy as np\n",
    "import time\n",
    "import random\n",
    "from PIL import Image\n",
    "from torch.utils.data import Dataset\n",
    "from torchvision import transforms\n",
    "from torch.utils.data import DataLoader\n",
    "import torch.nn.functional as F\n",
    "import matplotlib.pyplot as plt\n",
    "%matplotlib inline"
   ]
  },
  {
   "cell_type": "code",
   "execution_count": 13,
   "metadata": {},
   "outputs": [],
   "source": [
    "# No need to change anything here!\n",
    "# If there is a GPU available, it will use it,\n",
    "# otherwise, it will use the CPU\n",
    "\n",
    "RANDOM_SEED = 123\n",
    "DEVICE = torch.device('cuda:0' if torch.cuda.is_available() else 'cpu')"
   ]
  },
  {
   "cell_type": "code",
   "execution_count": 14,
   "metadata": {},
   "outputs": [],
   "source": [
    "NAME = \"classifier_143features_100x100x100_0.001lr_50e_0.5dropout_64bs\"\n",
    "MODEL_PATH = \"models/\" + NAME + \".pth\""
   ]
  },
  {
   "cell_type": "markdown",
   "metadata": {},
   "source": [
    "## Dataset Loader"
   ]
  },
  {
   "cell_type": "code",
   "execution_count": 15,
   "metadata": {},
   "outputs": [],
   "source": [
    "import torch\n",
    "from PIL import Image\n",
    "from torch.utils.data import Dataset\n",
    "from torchvision import transforms\n",
    "from torch.utils.data import DataLoader\n",
    "import pandas as pd\n",
    "\n",
    "import os\n",
    "\n",
    "\n",
    "keys = [\n",
    " 'Revenue Growth',\n",
    " 'EPS',\n",
    " 'EPS Diluted',\n",
    " 'Dividend per Share',\n",
    " 'Gross Margin',\n",
    " 'EBITDA Margin',\n",
    " 'EBIT Margin',\n",
    " 'Profit Margin',\n",
    " 'Free Cash Flow margin',\n",
    " 'Earnings Before Tax Margin',\n",
    " 'Net Profit Margin',\n",
    " 'Revenue per Share',\n",
    " 'Net Income per Share',\n",
    " 'Operating Cash Flow per Share',\n",
    " 'Free Cash Flow per Share',\n",
    " 'Cash per Share',\n",
    " 'Book Value per Share',\n",
    " 'Tangible Book Value per Share',\n",
    " 'Shareholders Equity per Share',\n",
    " 'Interest Debt per Share',\n",
    " 'PE ratio',\n",
    " 'Price to Sales Ratio',\n",
    " 'POCF ratio',\n",
    " 'PFCF ratio',\n",
    " 'PB ratio',\n",
    " 'PTB ratio',\n",
    " 'EV to Sales',\n",
    " 'Enterprise Value over EBITDA',\n",
    " 'EV to Operating cash flow',\n",
    " 'EV to Free cash flow',\n",
    " 'Earnings Yield',\n",
    " 'Free Cash Flow Yield',\n",
    " 'Debt to Equity',\n",
    " 'Debt to Assets',\n",
    " 'Net Debt to EBITDA',\n",
    " 'Current ratio',\n",
    " 'Interest Coverage',\n",
    " 'Income Quality',\n",
    " 'Dividend Yield',\n",
    " 'Payout Ratio',\n",
    " 'SG&A to Revenue',\n",
    " 'R&D to Revenue',\n",
    " 'Intangibles to Total Assets',\n",
    " 'Capex to Operating Cash Flow',\n",
    " 'Capex to Revenue',\n",
    " 'Capex to Depreciation',\n",
    " 'Stock-based compensation to Revenue',\n",
    " 'Graham Number',\n",
    " 'Graham Net-Net',\n",
    " 'Capex per Share',\n",
    " 'Gross Profit Growth',\n",
    " 'EBIT Growth',\n",
    " 'Operating Income Growth',\n",
    " 'Net Income Growth',\n",
    " 'EPS Growth',\n",
    " 'EPS Diluted Growth',\n",
    " 'Weighted Average Shares Growth',\n",
    " 'Weighted Average Shares Diluted Growth',\n",
    " 'Dividends per Share Growth',\n",
    " 'Operating Cash Flow growth',\n",
    " 'Free Cash Flow growth',\n",
    " 'Receivables growth',\n",
    " 'Inventory Growth',\n",
    " 'Asset Growth',\n",
    " 'Book Value per Share Growth',\n",
    " 'Debt Growth',\n",
    " 'R&D Expense Growth',\n",
    " 'SG&A Expenses Growth',\n",
    " 'Stock Price',\n",
    " 'DCF',\n",
    "]\n",
    "\n",
    "class StockDataset(Dataset):\n",
    "    def __init__(self, csv_path):\n",
    "        df = pd.read_csv(csv_path)\n",
    "        self.y = df['Label'].to_numpy().astype(int)\n",
    "        self.features = df.drop([\"Company\", \"Date\", \"Target\", \"Label\"], axis=1).to_numpy().astype('float32')\n",
    "#         self.features = df[keys].to_numpy().astype('float32')\n",
    "#         self.features = df[[\"Stock Price\", \"DCF\"]].to_numpy().astype('float32')\n",
    "\n",
    "\n",
    "    def __getitem__(self, index):\n",
    "        features = self.features[index]\n",
    "        label = self.y[index]\n",
    "        \n",
    "        out_label = 0\n",
    "        \n",
    "        if label <= 2:\n",
    "            out_label = 0\n",
    "        elif label <= 5:\n",
    "            out_label = 1\n",
    "        else:\n",
    "            out_label = 2\n",
    "        \n",
    "        binary_label = 1\n",
    "        \n",
    "        if label >= 5:\n",
    "            binary_label = 2\n",
    "        \n",
    "        return features, label\n",
    "\n",
    "    def __len__(self):\n",
    "        return self.y.shape[0]"
   ]
  },
  {
   "cell_type": "code",
   "execution_count": 16,
   "metadata": {},
   "outputs": [],
   "source": [
    "############################################################\n",
    "# THIS CELL CAN BE MODIFIED\n",
    "############################################################\n",
    "\n",
    "custom_train_transform = transforms.Compose([  \n",
    "                                             transforms.ToTensor(),\n",
    "                                             transforms.Normalize(mean=(0.5,), std=(0.5,))\n",
    "])"
   ]
  },
  {
   "cell_type": "code",
   "execution_count": 17,
   "metadata": {},
   "outputs": [],
   "source": [
    "####################################################################\n",
    "# THIS CELL CAN BE MODIFIED BUT THERE SHOULD NOT BE ANY RANDOMNESS\n",
    "####################################################################\n",
    "\n",
    "custom_test_transform = transforms.Compose([\n",
    "                                             transforms.ToTensor(),\n",
    "                                             transforms.Normalize(mean=(0.5,), std=(0.5,))\n",
    "])"
   ]
  },
  {
   "cell_type": "code",
   "execution_count": 18,
   "metadata": {},
   "outputs": [],
   "source": [
    "############################################################\n",
    "# THIS CELL CAN BE MODIFIED\n",
    "############################################################\n",
    "\n",
    "BATCH_SIZE = 64"
   ]
  },
  {
   "cell_type": "code",
   "execution_count": 19,
   "metadata": {},
   "outputs": [],
   "source": [
    "train_dataset = StockDataset(csv_path='train_normalized.csv')\n",
    "\n",
    "\n",
    "train_loader = DataLoader(dataset=train_dataset,\n",
    "                          batch_size=BATCH_SIZE,\n",
    "                          shuffle=False,\n",
    "                          num_workers=0)\n",
    "\n",
    "\n",
    "valid_dataset = StockDataset(csv_path='val_normalized.csv')\n",
    "\n",
    "valid_loader = DataLoader(dataset=valid_dataset,\n",
    "                          batch_size=BATCH_SIZE,\n",
    "                          shuffle=False,\n",
    "                          num_workers=0)\n",
    "\n",
    "test_dataset = StockDataset(csv_path='test_normalized.csv')\n",
    "\n",
    "test_loader = DataLoader(dataset=test_dataset,\n",
    "                         batch_size=BATCH_SIZE,\n",
    "                         shuffle=False,\n",
    "                         num_workers=0)"
   ]
  },
  {
   "cell_type": "markdown",
   "metadata": {},
   "source": [
    "The cell below just checks if the dataset can be loaded correctly."
   ]
  },
  {
   "cell_type": "code",
   "execution_count": 20,
   "metadata": {},
   "outputs": [
    {
     "name": "stdout",
     "output_type": "stream",
     "text": [
      "Epoch: 1 | Batch index: 0 | Batch size: 64\n",
      "torch.Size([64, 143])\n",
      "break minibatch for-loop\n",
      "Epoch: 2 | Batch index: 0 | Batch size: 64\n",
      "torch.Size([64, 143])\n",
      "break minibatch for-loop\n"
     ]
    }
   ],
   "source": [
    "torch.manual_seed(0)\n",
    "\n",
    "num_epochs = 2\n",
    "for epoch in range(num_epochs):\n",
    "\n",
    "    for batch_idx, (x, y) in enumerate(train_loader):\n",
    "        \n",
    "        print('Epoch:', epoch+1, end='')\n",
    "        print(' | Batch index:', batch_idx, end='')\n",
    "        print(' | Batch size:', y.size()[0])\n",
    "        num_features = x.shape[1]\n",
    "        x = x.to(DEVICE)\n",
    "        y = y.to(DEVICE)\n",
    "        print(x.shape)\n",
    "#         print(y.shape)\n",
    "        print('break minibatch for-loop')\n",
    "        break"
   ]
  },
  {
   "cell_type": "code",
   "execution_count": 21,
   "metadata": {},
   "outputs": [],
   "source": [
    "# num_features = 143\n",
    "num_features = 143\n",
    "classes = 9"
   ]
  },
  {
   "cell_type": "markdown",
   "metadata": {},
   "source": [
    "If you get an error, make sure the `png-files` folder is unzipped and it the same directory as this notebook!"
   ]
  },
  {
   "cell_type": "markdown",
   "metadata": {},
   "source": [
    "# Multilayer Perceptron Model"
   ]
  },
  {
   "cell_type": "markdown",
   "metadata": {},
   "source": [
    "The cell below contains the multi-layer perceptron model. This is the main section where you want to make changes to the architecture."
   ]
  },
  {
   "cell_type": "code",
   "execution_count": 22,
   "metadata": {},
   "outputs": [
    {
     "data": {
      "text/plain": [
       "<torch._C.Generator at 0x11a61fa10>"
      ]
     },
     "execution_count": 22,
     "metadata": {},
     "output_type": "execute_result"
    }
   ],
   "source": [
    "############################################################\n",
    "# THIS CELL CAN BE MODIFIED\n",
    "############################################################\n",
    "\n",
    "\n",
    "class MLP(torch.nn.Module):\n",
    "    def __init__(self, num_features, num_hidden_1, num_hidden_2, num_hidden_3, num_classes, dropout):\n",
    "        super(MLP, self).__init__()\n",
    "        \n",
    "        self.num_classes = num_classes\n",
    "        self.dropout = dropout\n",
    "        \n",
    "        self.linear_1 = torch.nn.Linear(num_features, num_hidden_1)        \n",
    "        self.linear_2 = torch.nn.Linear(num_hidden_1, num_hidden_2)\n",
    "        self.linear_3 = torch.nn.Linear(num_hidden_2, num_hidden_3)\n",
    "\n",
    "        self.linear_out = torch.nn.Linear(num_hidden_3, num_classes)\n",
    "        \n",
    "    def forward(self, x):    \n",
    "        out = self.linear_1(x)\n",
    "        out = torch.relu(out)\n",
    "        out = F.dropout(out, p=self.dropout, training=self.training)\n",
    "\n",
    "        out = self.linear_2(out)\n",
    "        out = torch.relu(out)\n",
    "        out = F.dropout(out, p=self.dropout, training=self.training)\n",
    "\n",
    "        out = self.linear_3(out)\n",
    "        out = torch.relu(out)\n",
    "        out = F.dropout(out, p=self.dropout, training=self.training)\n",
    "        \n",
    "        logits = self.linear_out(out)\n",
    "        probas = F.softmax(logits, dim=1)\n",
    "        return logits, probas\n",
    "        \n",
    "\n",
    "    \n",
    "#################################\n",
    "### Model Initialization\n",
    "#################################\n",
    "\n",
    "\n",
    "# the random seed makes sure that the random weight initialization\n",
    "# in the model is always the same.\n",
    "# In practice, some weights don't work well, and we may also want\n",
    "# to try different random seeds. In this homework, this is not\n",
    "# necessary.\n",
    "random.seed(RANDOM_SEED)\n",
    "torch.manual_seed(RANDOM_SEED)\n",
    "\n",
    "### IF YOU CHANGED THE ARCHITECTURE ABOVE, MAKE SURE YOU \n",
    "### ACCOUNT FOR IT VIA THE PARAMETERS BELOW. I.e., if you\n",
    "### added a second hidden layer, you may want to add a\n",
    "### hidden_2 parameter here. Also you may want to play\n",
    "### with the number of hidden units."
   ]
  },
  {
   "cell_type": "code",
   "execution_count": 23,
   "metadata": {},
   "outputs": [],
   "source": [
    "model = MLP(num_features=num_features,\n",
    "            num_hidden_1=100,\n",
    "            num_hidden_2=100,\n",
    "            num_hidden_3=100,\n",
    "            num_classes=classes,\n",
    "            dropout=0.5)\n",
    "\n",
    "model = model.to(DEVICE)\n",
    "\n",
    "#INCLUDE Kaiming or other weight initialization"
   ]
  },
  {
   "cell_type": "code",
   "execution_count": 325,
   "metadata": {},
   "outputs": [],
   "source": [
    "def compute_corr_accuracy_and_loss(model, data_loader, device, target_val):\n",
    "    correct_pred, num_examples = 0, 0\n",
    "    c2, n2 = 0, 0\n",
    "    cross_entropy = 0.\n",
    "    for i, (features, targets) in enumerate(data_loader):\n",
    "            \n",
    "        features = features.view(-1, num_features).to(device)\n",
    "        targets = targets.to(device)\n",
    "\n",
    "        logits, probas = model(features.float())\n",
    "        _, predicted_labels = torch.max(probas, 1)\n",
    "            \n",
    "        for p in range(len(targets)):\n",
    "            if predicted_labels[p].item() == target_val:\n",
    "                n2 += 1\n",
    "                if targets[p].item() == predicted_labels[p].item():\n",
    "                    c2 += 1\n",
    "                    \n",
    "            if targets[p].item() == target_val:\n",
    "                num_examples += 1\n",
    "                if targets[p].item() == predicted_labels[p].item():\n",
    "                    correct_pred += 1\n",
    "                \n",
    "                \n",
    "    return 1.0 * correct_pred/num_examples * 100, 1.0 * c2/n2 * 100\n",
    "\n",
    "def compute_corrlist_accuracy_and_loss(model, data_loader, device, target_list):\n",
    "    correct_pred, num_examples = 0, 0\n",
    "    c2, n2 = 0, 0\n",
    "    cross_entropy = 0.\n",
    "    for i, (features, targets) in enumerate(data_loader):\n",
    "            \n",
    "        features = features.view(-1, num_features).to(device)\n",
    "        targets = targets.to(device)\n",
    "\n",
    "        logits, probas = model(features.float())\n",
    "        _, predicted_labels = torch.max(probas, 1)\n",
    "            \n",
    "        for p in range(len(targets)):\n",
    "            if predicted_labels[p].item() in target_list:\n",
    "                n2 += 1\n",
    "                if targets[p].item() in target_list:\n",
    "                    c2 += 1\n",
    "                    \n",
    "            if targets[p].item() in target_list:\n",
    "                num_examples += 1\n",
    "                if predicted_labels[p].item() in target_list:\n",
    "                    correct_pred += 1\n",
    "                \n",
    "                \n",
    "    return 1.0 * correct_pred/num_examples * 100, 1.0 * c2/n2 * 100\n",
    "\n",
    "def compute_grouped_accuracy_and_loss(model, data_loader, device):\n",
    "    correct_pred, num_examples = 0, 0\n",
    "    cross_entropy = 0.\n",
    "    for i, (features, targets) in enumerate(data_loader):\n",
    "            \n",
    "        features = features.view(-1, num_features).to(device)\n",
    "        targets = targets.to(device)\n",
    "\n",
    "        logits, probas = model(features.float())\n",
    "        _, predicted_labels = torch.max(probas, 1)\n",
    "        \n",
    "        for i in range(len(targets)):\n",
    "            num_examples += 1\n",
    "            c = 0\n",
    "            if targets[i].item() in [0, 1, 2] and predicted_labels[i] in [0, 1, 2]:\n",
    "                c = 1\n",
    "            elif targets[i].item() in [3, 4] and predicted_labels[i] in [3, 4]:\n",
    "                c = 1  \n",
    "            elif targets[i].item() in [5, 6, 7, 8] and predicted_labels[i] in [5, 6, 7, 8]:\n",
    "                c = 1 \n",
    "            if abs(targets[i].item() - predicted_labels[i]) <= 1:\n",
    "                c = 1\n",
    "            correct_pred += c\n",
    "                \n",
    "    return 1.0 * correct_pred/num_examples * 100, cross_entropy/num_examples"
   ]
  },
  {
   "cell_type": "code",
   "execution_count": 326,
   "metadata": {},
   "outputs": [],
   "source": [
    "optimizer = torch.optim.Adam(model.parameters(), lr=0.001)"
   ]
  },
  {
   "cell_type": "code",
   "execution_count": 327,
   "metadata": {},
   "outputs": [],
   "source": [
    "############################################################\n",
    "# THIS CELL CAN BE MODIFIED\n",
    "############################################################\n",
    "\n",
    "NUM_EPOCHS = 50 # Please feel free to change\n",
    "############################################################"
   ]
  },
  {
   "cell_type": "code",
   "execution_count": 328,
   "metadata": {},
   "outputs": [
    {
     "name": "stdout",
     "output_type": "stream",
     "text": [
      "Epoch: 001/050 | Batch 000/978 | Cost: 2.2087\n",
      "Epoch: 001/050 | Batch 200/978 | Cost: 2.2021\n",
      "Epoch: 001/050 | Batch 400/978 | Cost: 2.1977\n",
      "Epoch: 001/050 | Batch 600/978 | Cost: 2.1928\n",
      "Epoch: 001/050 | Batch 800/978 | Cost: 2.1730\n",
      "Epoch: 001/050 Train Acc.: 13.65% | Validation Acc.: 12.20%\n",
      "Time elapsed: 0.06 min\n",
      "Epoch: 002/050 | Batch 000/978 | Cost: 2.1925\n",
      "Epoch: 002/050 | Batch 200/978 | Cost: 2.1883\n",
      "Epoch: 002/050 | Batch 400/978 | Cost: 2.1545\n",
      "Epoch: 002/050 | Batch 600/978 | Cost: 2.1614\n",
      "Epoch: 002/050 | Batch 800/978 | Cost: 2.1580\n",
      "Epoch: 002/050 Train Acc.: 13.96% | Validation Acc.: 13.21%\n",
      "Time elapsed: 0.11 min\n",
      "Epoch: 003/050 | Batch 000/978 | Cost: 2.1743\n",
      "Epoch: 003/050 | Batch 200/978 | Cost: 2.2000\n",
      "Epoch: 003/050 | Batch 400/978 | Cost: 2.1504\n",
      "Epoch: 003/050 | Batch 600/978 | Cost: 2.1654\n",
      "Epoch: 003/050 | Batch 800/978 | Cost: 2.1656\n",
      "Epoch: 003/050 Train Acc.: 14.88% | Validation Acc.: 14.33%\n",
      "Time elapsed: 0.16 min\n",
      "Epoch: 004/050 | Batch 000/978 | Cost: 2.1842\n",
      "Epoch: 004/050 | Batch 200/978 | Cost: 2.1621\n",
      "Epoch: 004/050 | Batch 400/978 | Cost: 2.2174\n",
      "Epoch: 004/050 | Batch 600/978 | Cost: 2.1494\n",
      "Epoch: 004/050 | Batch 800/978 | Cost: 2.1624\n",
      "Epoch: 004/050 Train Acc.: 15.49% | Validation Acc.: 14.45%\n",
      "Time elapsed: 0.22 min\n",
      "Epoch: 005/050 | Batch 000/978 | Cost: 2.1692\n",
      "Epoch: 005/050 | Batch 200/978 | Cost: 2.1883\n",
      "Epoch: 005/050 | Batch 400/978 | Cost: 2.1581\n",
      "Epoch: 005/050 | Batch 600/978 | Cost: 2.1256\n",
      "Epoch: 005/050 | Batch 800/978 | Cost: 2.1218\n",
      "Epoch: 005/050 Train Acc.: 15.73% | Validation Acc.: 15.45%\n",
      "Time elapsed: 0.27 min\n",
      "Epoch: 006/050 | Batch 000/978 | Cost: 2.1657\n",
      "Epoch: 006/050 | Batch 200/978 | Cost: 2.1927\n",
      "Epoch: 006/050 | Batch 400/978 | Cost: 2.1343\n",
      "Epoch: 006/050 | Batch 600/978 | Cost: 2.1270\n",
      "Epoch: 006/050 | Batch 800/978 | Cost: 2.1346\n",
      "Epoch: 006/050 Train Acc.: 15.95% | Validation Acc.: 16.33%\n",
      "Time elapsed: 0.33 min\n",
      "Epoch: 007/050 | Batch 000/978 | Cost: 2.1177\n",
      "Epoch: 007/050 | Batch 200/978 | Cost: 2.1454\n",
      "Epoch: 007/050 | Batch 400/978 | Cost: 2.1629\n",
      "Epoch: 007/050 | Batch 600/978 | Cost: 2.0866\n",
      "Epoch: 007/050 | Batch 800/978 | Cost: 2.1645\n",
      "Epoch: 007/050 Train Acc.: 15.89% | Validation Acc.: 16.39%\n",
      "Time elapsed: 0.38 min\n",
      "Epoch: 008/050 | Batch 000/978 | Cost: 2.1736\n",
      "Epoch: 008/050 | Batch 200/978 | Cost: 2.1739\n",
      "Epoch: 008/050 | Batch 400/978 | Cost: 2.1493\n",
      "Epoch: 008/050 | Batch 600/978 | Cost: 2.1274\n",
      "Epoch: 008/050 | Batch 800/978 | Cost: 2.1587\n",
      "Epoch: 008/050 Train Acc.: 16.40% | Validation Acc.: 16.51%\n",
      "Time elapsed: 0.43 min\n",
      "Epoch: 009/050 | Batch 000/978 | Cost: 2.1354\n",
      "Epoch: 009/050 | Batch 200/978 | Cost: 2.1859\n",
      "Epoch: 009/050 | Batch 400/978 | Cost: 2.1562\n",
      "Epoch: 009/050 | Batch 600/978 | Cost: 2.0682\n",
      "Epoch: 009/050 | Batch 800/978 | Cost: 2.1520\n",
      "Epoch: 009/050 Train Acc.: 16.22% | Validation Acc.: 16.67%\n",
      "Time elapsed: 0.49 min\n",
      "Epoch: 010/050 | Batch 000/978 | Cost: 2.1361\n",
      "Epoch: 010/050 | Batch 200/978 | Cost: 2.1762\n",
      "Epoch: 010/050 | Batch 400/978 | Cost: 2.1352\n",
      "Epoch: 010/050 | Batch 600/978 | Cost: 2.0720\n",
      "Epoch: 010/050 | Batch 800/978 | Cost: 2.1231\n",
      "Epoch: 010/050 Train Acc.: 16.12% | Validation Acc.: 16.61%\n",
      "Time elapsed: 0.54 min\n",
      "Epoch: 011/050 | Batch 000/978 | Cost: 2.1490\n",
      "Epoch: 011/050 | Batch 200/978 | Cost: 2.1511\n",
      "Epoch: 011/050 | Batch 400/978 | Cost: 2.1453\n",
      "Epoch: 011/050 | Batch 600/978 | Cost: 2.0560\n",
      "Epoch: 011/050 | Batch 800/978 | Cost: 2.1178\n",
      "Epoch: 011/050 Train Acc.: 16.66% | Validation Acc.: 16.45%\n",
      "Time elapsed: 0.61 min\n",
      "Epoch: 012/050 | Batch 000/978 | Cost: 2.2250\n",
      "Epoch: 012/050 | Batch 200/978 | Cost: 2.1866\n",
      "Epoch: 012/050 | Batch 400/978 | Cost: 2.1558\n",
      "Epoch: 012/050 | Batch 600/978 | Cost: 2.0925\n",
      "Epoch: 012/050 | Batch 800/978 | Cost: 2.1335\n",
      "Epoch: 012/050 Train Acc.: 16.36% | Validation Acc.: 16.55%\n",
      "Time elapsed: 0.68 min\n",
      "Epoch: 013/050 | Batch 000/978 | Cost: 2.1195\n",
      "Epoch: 013/050 | Batch 200/978 | Cost: 2.1860\n",
      "Epoch: 013/050 | Batch 400/978 | Cost: 2.0929\n",
      "Epoch: 013/050 | Batch 600/978 | Cost: 2.0519\n",
      "Epoch: 013/050 | Batch 800/978 | Cost: 2.0985\n",
      "Epoch: 013/050 Train Acc.: 16.47% | Validation Acc.: 16.79%\n",
      "Time elapsed: 0.74 min\n",
      "Epoch: 014/050 | Batch 000/978 | Cost: 2.1522\n",
      "Epoch: 014/050 | Batch 200/978 | Cost: 2.1707\n",
      "Epoch: 014/050 | Batch 400/978 | Cost: 2.1431\n",
      "Epoch: 014/050 | Batch 600/978 | Cost: 2.0601\n",
      "Epoch: 014/050 | Batch 800/978 | Cost: 2.1358\n",
      "Epoch: 014/050 Train Acc.: 16.85% | Validation Acc.: 16.88%\n",
      "Time elapsed: 0.81 min\n",
      "Epoch: 015/050 | Batch 000/978 | Cost: 2.1147\n",
      "Epoch: 015/050 | Batch 200/978 | Cost: 2.1777\n",
      "Epoch: 015/050 | Batch 400/978 | Cost: 2.0701\n",
      "Epoch: 015/050 | Batch 600/978 | Cost: 2.0574\n",
      "Epoch: 015/050 | Batch 800/978 | Cost: 2.1249\n",
      "Epoch: 015/050 Train Acc.: 16.31% | Validation Acc.: 16.58%\n",
      "Time elapsed: 0.86 min\n",
      "Epoch: 016/050 | Batch 000/978 | Cost: 2.1478\n",
      "Epoch: 016/050 | Batch 200/978 | Cost: 2.1472\n",
      "Epoch: 016/050 | Batch 400/978 | Cost: 2.1014\n",
      "Epoch: 016/050 | Batch 600/978 | Cost: 2.1072\n",
      "Epoch: 016/050 | Batch 800/978 | Cost: 2.1127\n",
      "Epoch: 016/050 Train Acc.: 16.95% | Validation Acc.: 16.76%\n",
      "Time elapsed: 0.91 min\n",
      "Epoch: 017/050 | Batch 000/978 | Cost: 2.1489\n",
      "Epoch: 017/050 | Batch 200/978 | Cost: 2.1656\n",
      "Epoch: 017/050 | Batch 400/978 | Cost: 2.1084\n",
      "Epoch: 017/050 | Batch 600/978 | Cost: 2.0484\n",
      "Epoch: 017/050 | Batch 800/978 | Cost: 2.1050\n",
      "Epoch: 017/050 Train Acc.: 17.02% | Validation Acc.: 16.33%\n",
      "Time elapsed: 0.97 min\n",
      "Epoch: 018/050 | Batch 000/978 | Cost: 2.1530\n",
      "Epoch: 018/050 | Batch 200/978 | Cost: 2.1670\n",
      "Epoch: 018/050 | Batch 400/978 | Cost: 2.0832\n",
      "Epoch: 018/050 | Batch 600/978 | Cost: 2.0688\n",
      "Epoch: 018/050 | Batch 800/978 | Cost: 2.0990\n",
      "Epoch: 018/050 Train Acc.: 17.13% | Validation Acc.: 16.94%\n",
      "Time elapsed: 1.03 min\n",
      "Epoch: 019/050 | Batch 000/978 | Cost: 2.1715\n",
      "Epoch: 019/050 | Batch 200/978 | Cost: 2.1278\n",
      "Epoch: 019/050 | Batch 400/978 | Cost: 2.1266\n",
      "Epoch: 019/050 | Batch 600/978 | Cost: 2.0808\n",
      "Epoch: 019/050 | Batch 800/978 | Cost: 2.1275\n",
      "Epoch: 019/050 Train Acc.: 16.96% | Validation Acc.: 16.55%\n",
      "Time elapsed: 1.08 min\n",
      "Epoch: 020/050 | Batch 000/978 | Cost: 2.1610\n",
      "Epoch: 020/050 | Batch 200/978 | Cost: 2.1803\n",
      "Epoch: 020/050 | Batch 400/978 | Cost: 2.1260\n",
      "Epoch: 020/050 | Batch 600/978 | Cost: 2.0914\n",
      "Epoch: 020/050 | Batch 800/978 | Cost: 2.1305\n",
      "Epoch: 020/050 Train Acc.: 16.73% | Validation Acc.: 16.82%\n",
      "Time elapsed: 1.14 min\n",
      "Epoch: 021/050 | Batch 000/978 | Cost: 2.1291\n",
      "Epoch: 021/050 | Batch 200/978 | Cost: 2.1858\n",
      "Epoch: 021/050 | Batch 400/978 | Cost: 2.1926\n",
      "Epoch: 021/050 | Batch 600/978 | Cost: 2.0533\n",
      "Epoch: 021/050 | Batch 800/978 | Cost: 2.0912\n",
      "Epoch: 021/050 Train Acc.: 16.79% | Validation Acc.: 16.76%\n",
      "Time elapsed: 1.22 min\n",
      "Epoch: 022/050 | Batch 000/978 | Cost: 2.1467\n",
      "Epoch: 022/050 | Batch 200/978 | Cost: 2.2053\n",
      "Epoch: 022/050 | Batch 400/978 | Cost: 2.1213\n",
      "Epoch: 022/050 | Batch 600/978 | Cost: 2.0659\n",
      "Epoch: 022/050 | Batch 800/978 | Cost: 2.1273\n",
      "Epoch: 022/050 Train Acc.: 16.70% | Validation Acc.: 16.76%\n",
      "Time elapsed: 1.28 min\n",
      "Epoch: 023/050 | Batch 000/978 | Cost: 2.1561\n",
      "Epoch: 023/050 | Batch 200/978 | Cost: 2.1802\n",
      "Epoch: 023/050 | Batch 400/978 | Cost: 2.1066\n",
      "Epoch: 023/050 | Batch 600/978 | Cost: 2.0542\n",
      "Epoch: 023/050 | Batch 800/978 | Cost: 2.1228\n",
      "Epoch: 023/050 Train Acc.: 17.00% | Validation Acc.: 16.88%\n",
      "Time elapsed: 1.33 min\n",
      "Epoch: 024/050 | Batch 000/978 | Cost: 2.1414\n",
      "Epoch: 024/050 | Batch 200/978 | Cost: 2.1609\n",
      "Epoch: 024/050 | Batch 400/978 | Cost: 2.1195\n",
      "Epoch: 024/050 | Batch 600/978 | Cost: 2.0486\n",
      "Epoch: 024/050 | Batch 800/978 | Cost: 2.1008\n",
      "Epoch: 024/050 Train Acc.: 16.88% | Validation Acc.: 17.06%\n",
      "Time elapsed: 1.39 min\n",
      "Epoch: 025/050 | Batch 000/978 | Cost: 2.2056\n",
      "Epoch: 025/050 | Batch 200/978 | Cost: 2.1736\n",
      "Epoch: 025/050 | Batch 400/978 | Cost: 2.0776\n",
      "Epoch: 025/050 | Batch 600/978 | Cost: 2.0850\n",
      "Epoch: 025/050 | Batch 800/978 | Cost: 2.1063\n",
      "Epoch: 025/050 Train Acc.: 17.29% | Validation Acc.: 17.21%\n",
      "Time elapsed: 1.45 min\n",
      "Epoch: 026/050 | Batch 000/978 | Cost: 2.1585\n",
      "Epoch: 026/050 | Batch 200/978 | Cost: 2.1395\n",
      "Epoch: 026/050 | Batch 400/978 | Cost: 2.1060\n",
      "Epoch: 026/050 | Batch 600/978 | Cost: 2.0643\n",
      "Epoch: 026/050 | Batch 800/978 | Cost: 2.1053\n",
      "Epoch: 026/050 Train Acc.: 17.24% | Validation Acc.: 16.85%\n",
      "Time elapsed: 1.50 min\n",
      "Epoch: 027/050 | Batch 000/978 | Cost: 2.1609\n",
      "Epoch: 027/050 | Batch 200/978 | Cost: 2.1781\n",
      "Epoch: 027/050 | Batch 400/978 | Cost: 2.0721\n",
      "Epoch: 027/050 | Batch 600/978 | Cost: 2.0740\n",
      "Epoch: 027/050 | Batch 800/978 | Cost: 2.0951\n",
      "Epoch: 027/050 Train Acc.: 17.19% | Validation Acc.: 16.79%\n",
      "Time elapsed: 1.56 min\n",
      "Epoch: 028/050 | Batch 000/978 | Cost: 2.1687\n",
      "Epoch: 028/050 | Batch 200/978 | Cost: 2.1721\n",
      "Epoch: 028/050 | Batch 400/978 | Cost: 2.0854\n",
      "Epoch: 028/050 | Batch 600/978 | Cost: 2.0730\n",
      "Epoch: 028/050 | Batch 800/978 | Cost: 2.0935\n",
      "Epoch: 028/050 Train Acc.: 17.26% | Validation Acc.: 16.82%\n",
      "Time elapsed: 1.61 min\n",
      "Epoch: 029/050 | Batch 000/978 | Cost: 2.2315\n",
      "Epoch: 029/050 | Batch 200/978 | Cost: 2.2081\n",
      "Epoch: 029/050 | Batch 400/978 | Cost: 2.1743\n",
      "Epoch: 029/050 | Batch 600/978 | Cost: 2.0357\n",
      "Epoch: 029/050 | Batch 800/978 | Cost: 2.0939\n",
      "Epoch: 029/050 Train Acc.: 16.78% | Validation Acc.: 17.09%\n",
      "Time elapsed: 1.67 min\n",
      "Epoch: 030/050 | Batch 000/978 | Cost: 2.1521\n",
      "Epoch: 030/050 | Batch 200/978 | Cost: 2.1430\n",
      "Epoch: 030/050 | Batch 400/978 | Cost: 2.0799\n",
      "Epoch: 030/050 | Batch 600/978 | Cost: 2.0315\n",
      "Epoch: 030/050 | Batch 800/978 | Cost: 2.0798\n",
      "Epoch: 030/050 Train Acc.: 17.12% | Validation Acc.: 17.03%\n",
      "Time elapsed: 1.72 min\n",
      "Epoch: 031/050 | Batch 000/978 | Cost: 2.2244\n",
      "Epoch: 031/050 | Batch 200/978 | Cost: 2.1510\n",
      "Epoch: 031/050 | Batch 400/978 | Cost: 2.0834\n",
      "Epoch: 031/050 | Batch 600/978 | Cost: 2.0806\n",
      "Epoch: 031/050 | Batch 800/978 | Cost: 2.1082\n",
      "Epoch: 031/050 Train Acc.: 17.20% | Validation Acc.: 16.45%\n",
      "Time elapsed: 1.78 min\n",
      "Epoch: 032/050 | Batch 000/978 | Cost: 2.1328\n",
      "Epoch: 032/050 | Batch 200/978 | Cost: 2.1875\n",
      "Epoch: 032/050 | Batch 400/978 | Cost: 2.1336\n",
      "Epoch: 032/050 | Batch 600/978 | Cost: 2.0515\n",
      "Epoch: 032/050 | Batch 800/978 | Cost: 2.0818\n",
      "Epoch: 032/050 Train Acc.: 17.18% | Validation Acc.: 16.67%\n",
      "Time elapsed: 1.83 min\n",
      "Epoch: 033/050 | Batch 000/978 | Cost: 2.1404\n",
      "Epoch: 033/050 | Batch 200/978 | Cost: 2.1663\n",
      "Epoch: 033/050 | Batch 400/978 | Cost: 2.0846\n",
      "Epoch: 033/050 | Batch 600/978 | Cost: 2.1072\n",
      "Epoch: 033/050 | Batch 800/978 | Cost: 2.0938\n",
      "Epoch: 033/050 Train Acc.: 17.22% | Validation Acc.: 16.94%\n",
      "Time elapsed: 1.88 min\n",
      "Epoch: 034/050 | Batch 000/978 | Cost: 2.0830\n",
      "Epoch: 034/050 | Batch 200/978 | Cost: 2.1641\n",
      "Epoch: 034/050 | Batch 400/978 | Cost: 2.0812\n",
      "Epoch: 034/050 | Batch 600/978 | Cost: 2.0707\n",
      "Epoch: 034/050 | Batch 800/978 | Cost: 2.0905\n",
      "Epoch: 034/050 Train Acc.: 17.07% | Validation Acc.: 17.36%\n",
      "Time elapsed: 1.94 min\n",
      "Epoch: 035/050 | Batch 000/978 | Cost: 2.1095\n",
      "Epoch: 035/050 | Batch 200/978 | Cost: 2.1646\n",
      "Epoch: 035/050 | Batch 400/978 | Cost: 2.1133\n",
      "Epoch: 035/050 | Batch 600/978 | Cost: 2.0627\n",
      "Epoch: 035/050 | Batch 800/978 | Cost: 2.1306\n",
      "Epoch: 035/050 Train Acc.: 16.86% | Validation Acc.: 17.40%\n",
      "Time elapsed: 2.00 min\n",
      "Epoch: 036/050 | Batch 000/978 | Cost: 2.1479\n",
      "Epoch: 036/050 | Batch 200/978 | Cost: 2.1560\n",
      "Epoch: 036/050 | Batch 400/978 | Cost: 2.0897\n",
      "Epoch: 036/050 | Batch 600/978 | Cost: 2.0780\n",
      "Epoch: 036/050 | Batch 800/978 | Cost: 2.1042\n",
      "Epoch: 036/050 Train Acc.: 16.75% | Validation Acc.: 17.43%\n",
      "Time elapsed: 2.06 min\n",
      "Epoch: 037/050 | Batch 000/978 | Cost: 2.1675\n",
      "Epoch: 037/050 | Batch 200/978 | Cost: 2.1458\n",
      "Epoch: 037/050 | Batch 400/978 | Cost: 2.0190\n",
      "Epoch: 037/050 | Batch 600/978 | Cost: 2.0465\n",
      "Epoch: 037/050 | Batch 800/978 | Cost: 2.1244\n",
      "Epoch: 037/050 Train Acc.: 17.39% | Validation Acc.: 16.97%\n",
      "Time elapsed: 2.12 min\n",
      "Epoch: 038/050 | Batch 000/978 | Cost: 2.1250\n",
      "Epoch: 038/050 | Batch 200/978 | Cost: 2.1387\n",
      "Epoch: 038/050 | Batch 400/978 | Cost: 2.0711\n",
      "Epoch: 038/050 | Batch 600/978 | Cost: 2.0222\n",
      "Epoch: 038/050 | Batch 800/978 | Cost: 2.1061\n",
      "Epoch: 038/050 Train Acc.: 17.26% | Validation Acc.: 17.58%\n",
      "Time elapsed: 2.17 min\n",
      "Epoch: 039/050 | Batch 000/978 | Cost: 2.1318\n",
      "Epoch: 039/050 | Batch 200/978 | Cost: 2.1514\n",
      "Epoch: 039/050 | Batch 400/978 | Cost: 2.0861\n",
      "Epoch: 039/050 | Batch 600/978 | Cost: 2.0716\n",
      "Epoch: 039/050 | Batch 800/978 | Cost: 2.0976\n",
      "Epoch: 039/050 Train Acc.: 17.41% | Validation Acc.: 17.21%\n",
      "Time elapsed: 2.22 min\n",
      "Epoch: 040/050 | Batch 000/978 | Cost: 2.1597\n",
      "Epoch: 040/050 | Batch 200/978 | Cost: 2.1392\n",
      "Epoch: 040/050 | Batch 400/978 | Cost: 2.1228\n",
      "Epoch: 040/050 | Batch 600/978 | Cost: 2.0322\n",
      "Epoch: 040/050 | Batch 800/978 | Cost: 2.1038\n",
      "Epoch: 040/050 Train Acc.: 17.12% | Validation Acc.: 17.12%\n",
      "Time elapsed: 2.27 min\n",
      "Epoch: 041/050 | Batch 000/978 | Cost: 2.1646\n",
      "Epoch: 041/050 | Batch 200/978 | Cost: 2.1413\n",
      "Epoch: 041/050 | Batch 400/978 | Cost: 2.0893\n",
      "Epoch: 041/050 | Batch 600/978 | Cost: 2.0548\n",
      "Epoch: 041/050 | Batch 800/978 | Cost: 2.0810\n",
      "Epoch: 041/050 Train Acc.: 17.26% | Validation Acc.: 17.24%\n",
      "Time elapsed: 2.32 min\n",
      "Epoch: 042/050 | Batch 000/978 | Cost: 2.1222\n",
      "Epoch: 042/050 | Batch 200/978 | Cost: 2.1619\n",
      "Epoch: 042/050 | Batch 400/978 | Cost: 2.0733\n",
      "Epoch: 042/050 | Batch 600/978 | Cost: 2.0814\n",
      "Epoch: 042/050 | Batch 800/978 | Cost: 2.0908\n",
      "Epoch: 042/050 Train Acc.: 17.32% | Validation Acc.: 17.27%\n",
      "Time elapsed: 2.38 min\n",
      "Epoch: 043/050 | Batch 000/978 | Cost: 2.1448\n",
      "Epoch: 043/050 | Batch 200/978 | Cost: 2.1518\n",
      "Epoch: 043/050 | Batch 400/978 | Cost: 2.1194\n",
      "Epoch: 043/050 | Batch 600/978 | Cost: 2.0357\n",
      "Epoch: 043/050 | Batch 800/978 | Cost: 2.0615\n",
      "Epoch: 043/050 Train Acc.: 17.31% | Validation Acc.: 17.30%\n",
      "Time elapsed: 2.44 min\n",
      "Epoch: 044/050 | Batch 000/978 | Cost: 2.1282\n",
      "Epoch: 044/050 | Batch 200/978 | Cost: 2.1475\n",
      "Epoch: 044/050 | Batch 400/978 | Cost: 2.0518\n",
      "Epoch: 044/050 | Batch 600/978 | Cost: 2.0546\n",
      "Epoch: 044/050 | Batch 800/978 | Cost: 2.1125\n",
      "Epoch: 044/050 Train Acc.: 17.06% | Validation Acc.: 16.97%\n",
      "Time elapsed: 2.50 min\n",
      "Epoch: 045/050 | Batch 000/978 | Cost: 2.1605\n",
      "Epoch: 045/050 | Batch 200/978 | Cost: 2.1120\n",
      "Epoch: 045/050 | Batch 400/978 | Cost: 2.0529\n",
      "Epoch: 045/050 | Batch 600/978 | Cost: 2.0854\n",
      "Epoch: 045/050 | Batch 800/978 | Cost: 2.0733\n",
      "Epoch: 045/050 Train Acc.: 17.40% | Validation Acc.: 17.40%\n",
      "Time elapsed: 2.56 min\n",
      "Epoch: 046/050 | Batch 000/978 | Cost: 2.1418\n",
      "Epoch: 046/050 | Batch 200/978 | Cost: 2.1991\n",
      "Epoch: 046/050 | Batch 400/978 | Cost: 2.0451\n",
      "Epoch: 046/050 | Batch 600/978 | Cost: 2.0721\n",
      "Epoch: 046/050 | Batch 800/978 | Cost: 2.1070\n",
      "Epoch: 046/050 Train Acc.: 16.82% | Validation Acc.: 17.33%\n",
      "Time elapsed: 2.61 min\n",
      "Epoch: 047/050 | Batch 000/978 | Cost: 2.1194\n",
      "Epoch: 047/050 | Batch 200/978 | Cost: 2.1474\n",
      "Epoch: 047/050 | Batch 400/978 | Cost: 2.0920\n",
      "Epoch: 047/050 | Batch 600/978 | Cost: 2.0492\n",
      "Epoch: 047/050 | Batch 800/978 | Cost: 2.1111\n",
      "Epoch: 047/050 Train Acc.: 17.48% | Validation Acc.: 17.82%\n",
      "Time elapsed: 2.67 min\n",
      "Epoch: 048/050 | Batch 000/978 | Cost: 2.1511\n",
      "Epoch: 048/050 | Batch 200/978 | Cost: 2.1629\n",
      "Epoch: 048/050 | Batch 400/978 | Cost: 2.0927\n",
      "Epoch: 048/050 | Batch 600/978 | Cost: 2.0461\n",
      "Epoch: 048/050 | Batch 800/978 | Cost: 2.0995\n",
      "Epoch: 048/050 Train Acc.: 17.43% | Validation Acc.: 17.21%\n",
      "Time elapsed: 2.72 min\n",
      "Epoch: 049/050 | Batch 000/978 | Cost: 2.2367\n",
      "Epoch: 049/050 | Batch 200/978 | Cost: 2.1577\n",
      "Epoch: 049/050 | Batch 400/978 | Cost: 2.0835\n",
      "Epoch: 049/050 | Batch 600/978 | Cost: 2.0656\n",
      "Epoch: 049/050 | Batch 800/978 | Cost: 2.0979\n",
      "Epoch: 049/050 Train Acc.: 17.47% | Validation Acc.: 17.03%\n",
      "Time elapsed: 2.78 min\n",
      "Epoch: 050/050 | Batch 000/978 | Cost: 2.1676\n",
      "Epoch: 050/050 | Batch 200/978 | Cost: 2.1566\n",
      "Epoch: 050/050 | Batch 400/978 | Cost: 2.0678\n",
      "Epoch: 050/050 | Batch 600/978 | Cost: 2.0371\n",
      "Epoch: 050/050 | Batch 800/978 | Cost: 2.1000\n",
      "Epoch: 050/050 Train Acc.: 17.16% | Validation Acc.: 16.85%\n",
      "Time elapsed: 2.84 min\n",
      "Total Training Time: 2.84 min\n"
     ]
    }
   ],
   "source": [
    "def compute_accuracy_and_loss(model, data_loader, device):\n",
    "    correct_pred, num_examples = 0, 0\n",
    "    cross_entropy = 0.\n",
    "    for i, (features, targets) in enumerate(data_loader):\n",
    "            \n",
    "        features = features.view(-1, num_features).to(device)\n",
    "        targets = targets.to(device)\n",
    "\n",
    "        logits, probas = model(features.float())\n",
    "        cross_entropy += F.cross_entropy(logits, targets).item()\n",
    "        _, predicted_labels = torch.max(probas, 1)\n",
    "        num_examples += targets.size(0)\n",
    "        correct_pred += (predicted_labels == targets).sum()\n",
    "    return correct_pred.float()/num_examples * 100, cross_entropy/num_examples\n",
    "    \n",
    "\n",
    "start_time = time.time()\n",
    "train_acc_lst, valid_acc_lst = [], []\n",
    "train_loss_lst, valid_loss_lst = [], []\n",
    "\n",
    "for epoch in range(NUM_EPOCHS):\n",
    "    \n",
    "    model.train()\n",
    "    \n",
    "    for batch_idx, (features, targets) in enumerate(train_loader):\n",
    "    \n",
    "        ### PREPARE MINIBATCH\n",
    "        features = features.view(-1, num_features).to(DEVICE)\n",
    "        targets = targets.to(DEVICE)\n",
    "            \n",
    "        ### FORWARD AND BACK PROP\n",
    "        logits, probas = model(features.float())\n",
    "        cost = F.cross_entropy(logits, targets)\n",
    "        optimizer.zero_grad()\n",
    "        \n",
    "        cost.backward()\n",
    "        \n",
    "        ### UPDATE MODEL PARAMETERS\n",
    "        optimizer.step()\n",
    "        \n",
    "        ### LOGGING\n",
    "        if not batch_idx % 200:\n",
    "            print (f'Epoch: {epoch+1:03d}/{NUM_EPOCHS:03d} | '\n",
    "                   f'Batch {batch_idx:03d}/{len(train_loader):03d} |' \n",
    "                   f' Cost: {cost:.4f}')\n",
    "\n",
    "    # no need to build the computation graph for backprop when computing accuracy\n",
    "    model.eval()\n",
    "    with torch.set_grad_enabled(False):\n",
    "        train_acc, train_loss = compute_accuracy_and_loss(model, train_loader, device=DEVICE)\n",
    "        valid_acc, valid_loss = compute_accuracy_and_loss(model, valid_loader, device=DEVICE)\n",
    "        train_acc_lst.append(train_acc)\n",
    "        valid_acc_lst.append(valid_acc)\n",
    "        train_loss_lst.append(train_loss)\n",
    "        valid_loss_lst.append(valid_loss)\n",
    "        print(f'Epoch: {epoch+1:03d}/{NUM_EPOCHS:03d} Train Acc.: {train_acc:.2f}%'\n",
    "              f' | Validation Acc.: {valid_acc:.2f}%')\n",
    "        \n",
    "    elapsed = (time.time() - start_time)/60\n",
    "    print(f'Time elapsed: {elapsed:.2f} min')\n",
    "  \n",
    "elapsed = (time.time() - start_time)/60\n",
    "print(f'Total Training Time: {elapsed:.2f} min')"
   ]
  },
  {
   "cell_type": "markdown",
   "metadata": {},
   "source": [
    "\n",
    "#### Evaluation (No Need To Change Any Code in This Section!)"
   ]
  },
  {
   "cell_type": "code",
   "execution_count": 331,
   "metadata": {},
   "outputs": [
    {
     "data": {
      "image/png": "[encoded data removed]",
      "text/plain": [
       "<Figure size 432x288 with 1 Axes>"
      ]
     },
     "metadata": {
      "needs_background": "light"
     },
     "output_type": "display_data"
    }
   ],
   "source": [
    "plt.plot(range(1, NUM_EPOCHS+1), train_loss_lst, label='Training loss')\n",
    "plt.plot(range(1, NUM_EPOCHS+1), valid_loss_lst, label='Validation loss')\n",
    "plt.legend(loc='upper right')\n",
    "plt.ylabel('Cross entropy')\n",
    "plt.xlabel('Epoch')\n",
    "plt.show()"
   ]
  },
  {
   "cell_type": "code",
   "execution_count": 332,
   "metadata": {},
   "outputs": [
    {
     "data": {
      "image/png": "[encoded data removed]",
      "text/plain": [
       "<Figure size 432x288 with 1 Axes>"
      ]
     },
     "metadata": {
      "needs_background": "light"
     },
     "output_type": "display_data"
    }
   ],
   "source": [
    "plt.plot(range(1, NUM_EPOCHS+1), train_acc_lst, label='Training accuracy')\n",
    "plt.plot(range(1, NUM_EPOCHS+1), valid_acc_lst, label='Validation accuracy')\n",
    "plt.legend(loc='upper left')\n",
    "plt.ylabel('Accuracy')\n",
    "plt.xlabel('Epoch')\n",
    "plt.show()"
   ]
  },
  {
   "cell_type": "code",
   "execution_count": 333,
   "metadata": {},
   "outputs": [
    {
     "name": "stdout",
     "output_type": "stream",
     "text": [
      "Test accuracy: 19.20%\n"
     ]
    }
   ],
   "source": [
    "model.eval()\n",
    "with torch.set_grad_enabled(False): # save memory during inference\n",
    "    test_acc, test_loss = compute_accuracy_and_loss(model, test_loader, DEVICE)\n",
    "    print(f'Test accuracy: {test_acc:.2f}%')"
   ]
  },
  {
   "cell_type": "code",
   "execution_count": 334,
   "metadata": {},
   "outputs": [
    {
     "name": "stdout",
     "output_type": "stream",
     "text": [
      "tensor([8, 6, 6, 6, 1, 6, 1, 1, 1, 1, 0, 0, 0, 0, 8, 7, 6, 7, 6, 6, 6, 0, 0, 0,\n",
      "        0, 0, 0, 0, 0, 0, 8, 0, 0, 0, 8, 8, 8, 8, 8, 8, 8, 0, 0, 0, 8, 0, 8, 8,\n",
      "        8, 8, 1, 7, 1, 1, 1, 7, 7, 6, 6, 7, 6, 7, 7, 4])\n",
      "tensor([2, 5, 5, 6, 0, 5, 0, 0, 1, 1, 1, 2, 0, 2, 1, 1, 5, 2, 1, 3, 1, 2, 0, 0,\n",
      "        3, 0, 3, 0, 8, 0, 3, 2, 2, 2, 3, 6, 5, 6, 7, 7, 0, 7, 0, 5, 2, 5, 8, 4,\n",
      "        2, 6, 8, 7, 2, 4, 1, 7, 7, 6, 0, 8, 4, 7, 8, 4])\n",
      "False\n"
     ]
    }
   ],
   "source": [
    "num = 0\n",
    "\n",
    "model.eval()\n",
    "with torch.set_grad_enabled(False): # save memory during inference\n",
    "    for i, (x, y) in enumerate(test_loader):\n",
    "        if i == num:\n",
    "            logits, probas = model(x)\n",
    "            pred = np.argmax(probas, axis=1)\n",
    "#             for i in range(len(pred)):\n",
    "#                 print(\"Pred:\", pred[i].item(), \", Target:\", y[i].item(), \", Probs: \", probas[i][0].item() + probas[i][1].item() + probas[i][2].item(), \"\", probas[i][3].item() + probas[i][4].item() + probas[i][5].item(), \" \", probas[i][6].item() + probas[i][7].item() + probas[i][8].item())\n",
    "# #                 print(pred[i].item())\n",
    "            print(pred)\n",
    "            print(y)\n",
    "            print(y[4].item() == np.argmax(probas, axis=1)[4].item())"
   ]
  },
  {
   "cell_type": "code",
   "execution_count": 335,
   "metadata": {},
   "outputs": [
    {
     "data": {
      "text/plain": [
       "(46.628785659891044, 0.0)"
      ]
     },
     "execution_count": 335,
     "metadata": {},
     "output_type": "execute_result"
    }
   ],
   "source": [
    "compute_grouped_accuracy_and_loss(model, test_loader, DEVICE)"
   ]
  },
  {
   "cell_type": "code",
   "execution_count": 336,
   "metadata": {},
   "outputs": [
    {
     "data": {
      "text/plain": [
       "(34.50292397660819, 13.563218390804598)"
      ]
     },
     "execution_count": 336,
     "metadata": {},
     "output_type": "execute_result"
    }
   ],
   "source": [
    "compute_corr_accuracy_and_loss(model, valid_loader, DEVICE, 8)"
   ]
  },
  {
   "cell_type": "code",
   "execution_count": 337,
   "metadata": {},
   "outputs": [
    {
     "name": "stdout",
     "output_type": "stream",
     "text": [
      "(43.501126972201355, 48.95991882293252)\n",
      "(30.65806451612903, 33.74041465492758)\n",
      "(50.221678642409415, 43.0142726201388)\n"
     ]
    }
   ],
   "source": [
    "print(compute_corrlist_accuracy_and_loss(model, test_loader, DEVICE, [0, 1, 2]))\n",
    "print(compute_corrlist_accuracy_and_loss(model, test_loader, DEVICE, [3, 4]))\n",
    "print(compute_corrlist_accuracy_and_loss(model, test_loader, DEVICE, [5, 6, 7, 8]))"
   ]
  },
  {
   "cell_type": "code",
   "execution_count": 32,
   "metadata": {},
   "outputs": [],
   "source": [
    "from sklearn.metrics import f1_score\n",
    "from sklearn.metrics import confusion_matrix"
   ]
  },
  {
   "cell_type": "code",
   "execution_count": 30,
   "metadata": {},
   "outputs": [],
   "source": [
    "def convertLabels(label):\n",
    "    # 0 - 2 : 0\n",
    "    # 3 - 4: 1\n",
    "    # 5 - 8: 2\n",
    "    bounds = [0, 2, 4, 8]\n",
    "    if label >= bounds[0] and label <= bounds[1]:\n",
    "        return 0\n",
    "    elif label <= bounds[2]:\n",
    "        return 1\n",
    "    elif label <= bounds[3]:\n",
    "        return 2\n",
    "    return -1"
   ]
  },
  {
   "cell_type": "code",
   "execution_count": 340,
   "metadata": {},
   "outputs": [],
   "source": [
    "# model"
   ]
  },
  {
   "cell_type": "code",
   "execution_count": 341,
   "metadata": {},
   "outputs": [],
   "source": [
    "loader = test_loader\n",
    "target_labels = []\n",
    "pred_labels = []\n",
    "\n",
    "target_labels_3 = []\n",
    "pred_labels_3 = []\n",
    "model.eval()\n",
    "with torch.set_grad_enabled(False): # save memory during inference\n",
    "    for i, (features, targets) in enumerate(loader):\n",
    "        logits, probas = model(features)\n",
    "        pred = np.argmax(probas, axis=1)\n",
    "#         print(\"Targets:\",targets.shape)\n",
    "#         print(\"Predict:\",pred.shape)\n",
    "\n",
    "        for j in range(len(pred)):\n",
    "            target_labels.append(targets[j].item())\n",
    "            pred_labels.append(pred[j].item())\n",
    "            target_labels_3.append(convertLabels(targets[j].item()))\n",
    "            pred_labels_3.append(convertLabels(pred[j].item()))"
   ]
  },
  {
   "cell_type": "code",
   "execution_count": 342,
   "metadata": {},
   "outputs": [
    {
     "name": "stdout",
     "output_type": "stream",
     "text": [
      "0.19196297815007907\n"
     ]
    },
    {
     "data": {
      "text/plain": [
       "array([0.38094015, 0.08482299, 0.        , 0.00633914, 0.22460476,\n",
       "       0.00762527, 0.1699946 , 0.14683691, 0.18265896])"
      ]
     },
     "execution_count": 342,
     "metadata": {},
     "output_type": "execute_result"
    }
   ],
   "source": [
    "# 9 labels\n",
    "print(f1_score(target_labels, pred_labels, average='micro'))\n",
    "f1_score(target_labels, pred_labels, average=None)"
   ]
  },
  {
   "cell_type": "code",
   "execution_count": 343,
   "metadata": {},
   "outputs": [
    {
     "name": "stdout",
     "output_type": "stream",
     "text": [
      "0.4316091617362779\n"
     ]
    },
    {
     "data": {
      "text/plain": [
       "array([0.46069383, 0.32125473, 0.46339399])"
      ]
     },
     "execution_count": 343,
     "metadata": {},
     "output_type": "execute_result"
    }
   ],
   "source": [
    "# 3 labels\n",
    "print(f1_score(target_labels_3, pred_labels_3, average='micro'))\n",
    "f1_score(target_labels_3, pred_labels_3, average=None)"
   ]
  },
  {
   "cell_type": "code",
   "execution_count": 344,
   "metadata": {},
   "outputs": [
    {
     "data": {
      "text/plain": [
       "array([[1483,  130,    0,    2,  180,    0,  142,  206,  572],\n",
       "       [ 603,  121,    0,    1,  365,    6,  241,  217,  457],\n",
       "       [ 444,  114,    0,    2,  514,    7,  259,  221,  368],\n",
       "       [ 388,   84,    0,    6,  558,    6,  257,  214,  356],\n",
       "       [ 462,   97,    0,    6,  618,    5,  271,  203,  344],\n",
       "       [ 297,   81,    0,    3,  585,    7,  261,  231,  333],\n",
       "       [ 281,  100,    0,    3,  391,    4,  315,  204,  345],\n",
       "       [ 376,   77,    0,    1,  218,    3,  231,  253,  365],\n",
       "       [ 737,   38,    0,    0,   68,    0,   86,  173,  474]])"
      ]
     },
     "execution_count": 344,
     "metadata": {},
     "output_type": "execute_result"
    }
   ],
   "source": [
    "confusion_matrix(target_labels, pred_labels)"
   ]
  },
  {
   "cell_type": "code",
   "execution_count": 346,
   "metadata": {},
   "outputs": [
    {
     "data": {
      "text/plain": [
       "array([[2895, 1064, 2696],\n",
       "       [1031, 1188, 1656],\n",
       "       [1987, 1269, 3285]])"
      ]
     },
     "execution_count": 346,
     "metadata": {},
     "output_type": "execute_result"
    }
   ],
   "source": [
    "confusion_matrix(target_labels_3, pred_labels_3)"
   ]
  },
  {
   "cell_type": "code",
   "execution_count": 347,
   "metadata": {},
   "outputs": [
    {
     "name": "stdout",
     "output_type": "stream",
     "text": [
      "{8: 3613, 6: 2062, 1: 841, 0: 5070, 7: 1921, 4: 3496, 5: 37, 3: 23}\n"
     ]
    }
   ],
   "source": [
    "l = pred_labels\n",
    "counts = {}\n",
    "\n",
    "for i in l:\n",
    "    if i in counts:\n",
    "        counts[i] += 1\n",
    "    else:\n",
    "        counts[i] = 0\n",
    "\n",
    "print(counts)"
   ]
  },
  {
   "cell_type": "code",
   "execution_count": 348,
   "metadata": {},
   "outputs": [],
   "source": [
    "torch.save(model, MODEL_PATH)"
   ]
  },
  {
   "cell_type": "code",
   "execution_count": 349,
   "metadata": {},
   "outputs": [],
   "source": [
    "## Multiple model inference, Pick average score instead of f1 score"
   ]
  },
  {
   "cell_type": "code",
   "execution_count": 33,
   "metadata": {},
   "outputs": [],
   "source": [
    "import glob\n",
    "model_files = glob.glob(\"models/*.pth\")\n",
    "models = []"
   ]
  },
  {
   "cell_type": "code",
   "execution_count": 34,
   "metadata": {},
   "outputs": [],
   "source": [
    "for m in model_files:\n",
    "    models.append(torch.load(m))"
   ]
  },
  {
   "cell_type": "code",
   "execution_count": 35,
   "metadata": {},
   "outputs": [
    {
     "data": {
      "text/plain": [
       "['models/classifier_143features_200x300x100_0.001lr_50e_0.4dropout_64bs_orthogonal.pth',\n",
       " 'models/classifier_143features_50x75x25_0.001lr_50e_0.3dropout_64bs_xavier_norm.pth',\n",
       " 'models/classifier_143features_125x250x100_0.001lr_50e_0.2dropout_64bs_xavier.pth',\n",
       " 'models/classifier_143features_75x100x50_0.001lr_100e_0.3dropout_128bs_sparse_.pth',\n",
       " 'models/classifier_143features_75x100x50_0.001lr_50e_0.5dropout_256bs_kaiming_norm.pth',\n",
       " 'models/classifier_143features_150x300x100_0.001lr_100e_0.5dropout_128bs_orthogonal.pth',\n",
       " 'models/classifier_143features_200x300x200_0.0001lr_50e_0.4dropout_64bs_kaiming_norm.pth',\n",
       " 'models/classifier_143features_125x250x100_0.001lr_50e_0.2dropout_64bs_xavier_norm.pth',\n",
       " 'models/classifier_143features_50x75x25_0.001lr_50e_0.5dropout_256bs_kaiming_norm.pth',\n",
       " 'models/classifier_143features_200x300x200_0.001lr_50e_0.3dropout_64bs_kaiming_norm.pth',\n",
       " 'models/classifier_143features_75x150x50_0.0001lr_50e_0.5dropout_256bs_kaiming_norm.pth',\n",
       " 'models/classifier_143features_125x250x100_0.001lr_100e_0.3dropout_128bs_xavier_norm.pth',\n",
       " 'models/classifier_143features_100x100x100_0.001lr_50e_0.5dropout_64bs.pth',\n",
       " 'models/classifier_143features_143x286x100_0.001lr_50e_0.5dropout_64bs_kaiming.pth']"
      ]
     },
     "execution_count": 35,
     "metadata": {},
     "output_type": "execute_result"
    }
   ],
   "source": [
    "model_files"
   ]
  },
  {
   "cell_type": "code",
   "execution_count": 36,
   "metadata": {},
   "outputs": [],
   "source": [
    "# loader = test_loader\n",
    "# target_labels = []\n",
    "# pred_labels = []\n",
    "\n",
    "# model = models[]\n",
    "\n",
    "# target_labels_3 = []\n",
    "# pred_labels_3 = []\n",
    "# model.eval()\n",
    "# with torch.set_grad_enabled(False): # save memory during inference\n",
    "#     for i, (features, targets) in enumerate(loader):\n",
    "#         logits, probas = model(features)\n",
    "#         pred = np.argmax(probas, axis=1)\n",
    "\n",
    "#         for j in range(len(pred)):\n",
    "#             target_labels.append(targets[j].item())\n",
    "#             pred_labels.append(pred[j].item())\n",
    "#             target_labels_3.append(convertLabels(targets[j].item()))\n",
    "#             pred_labels_3.append(convertLabels(pred[j].item()))"
   ]
  },
  {
   "cell_type": "code",
   "execution_count": 37,
   "metadata": {},
   "outputs": [],
   "source": [
    "# print(f1_score(target_labels, pred_labels, average='micro'))\n",
    "# f1_score(target_labels, pred_labels, average=None)"
   ]
  },
  {
   "cell_type": "code",
   "execution_count": 38,
   "metadata": {},
   "outputs": [
    {
     "name": "stderr",
     "output_type": "stream",
     "text": [
      "/Users/ritik/anaconda3/lib/python3.7/site-packages/sklearn/metrics/classification.py:1437: UndefinedMetricWarning: F-score is ill-defined and being set to 0.0 in labels with no predicted samples.\n",
      "  'precision', 'predicted', average, warn_for)\n"
     ]
    }
   ],
   "source": [
    "results = []\n",
    "\n",
    "for model in models:\n",
    "    loader = test_loader\n",
    "    target_labels = []\n",
    "    pred_labels = []\n",
    "\n",
    "    target_labels_3 = []\n",
    "    pred_labels_3 = []\n",
    "    model.eval()\n",
    "    with torch.set_grad_enabled(False): # save memory during inference\n",
    "        for i, (features, targets) in enumerate(loader):\n",
    "            logits, probas = model(features)\n",
    "            pred = np.argmax(probas, axis=1)\n",
    "\n",
    "            for j in range(len(pred)):\n",
    "                target_labels.append(targets[j].item())\n",
    "                pred_labels.append(pred[j].item())\n",
    "                target_labels_3.append(convertLabels(targets[j].item()))\n",
    "                pred_labels_3.append(convertLabels(pred[j].item()))\n",
    "                \n",
    "    model_results = dict()\n",
    "    model_results[\"targets\"] = target_labels\n",
    "    model_results[\"predictions\"] = pred_labels\n",
    "    model_results[\"targets_3\"] = target_labels_3\n",
    "    model_results[\"predictions_3\"] = pred_labels_3\n",
    "    \n",
    "    model_results[\"f1\"] = f1_score(target_labels, pred_labels, average=None)\n",
    "    \n",
    "    results.append(model_results)"
   ]
  },
  {
   "cell_type": "code",
   "execution_count": 39,
   "metadata": {},
   "outputs": [
    {
     "data": {
      "text/plain": [
       "array([0.39143135, 0.08464849, 0.04349796, 0.03384913, 0.22376346,\n",
       "       0.11715481, 0.12209106, 0.1545108 , 0.19728624])"
      ]
     },
     "metadata": {},
     "output_type": "display_data"
    },
    {
     "data": {
      "text/plain": [
       "array([0.37973375, 0.04983923, 0.01406328, 0.02208353, 0.22829637,\n",
       "       0.        , 0.11806543, 0.16340004, 0.17990808])"
      ]
     },
     "metadata": {},
     "output_type": "display_data"
    },
    {
     "data": {
      "text/plain": [
       "array([0.37842755, 0.10982822, 0.04529915, 0.09958217, 0.18778487,\n",
       "       0.09405941, 0.11582442, 0.13227045, 0.19480519])"
      ]
     },
     "metadata": {},
     "output_type": "display_data"
    },
    {
     "data": {
      "text/plain": [
       "array([0.38869357, 0.11781527, 0.01197007, 0.0834944 , 0.21316614,\n",
       "       0.02845528, 0.14239897, 0.16079189, 0.19609544])"
      ]
     },
     "metadata": {},
     "output_type": "display_data"
    },
    {
     "data": {
      "text/plain": [
       "array([0.38431791, 0.11636149, 0.0030785 , 0.00816327, 0.22120141,\n",
       "       0.11912641, 0.11544118, 0.15567568, 0.19265191])"
      ]
     },
     "metadata": {},
     "output_type": "display_data"
    },
    {
     "data": {
      "text/plain": [
       "array([0.37993379, 0.06855124, 0.0030785 , 0.07834101, 0.20280948,\n",
       "       0.        , 0.13383459, 0.15609756, 0.18743961])"
      ]
     },
     "metadata": {},
     "output_type": "display_data"
    },
    {
     "data": {
      "text/plain": [
       "array([0.37419161, 0.01998097, 0.0010304 , 0.03272727, 0.21823352,\n",
       "       0.10529846, 0.15679825, 0.15640599, 0.19431676])"
      ]
     },
     "metadata": {},
     "output_type": "display_data"
    },
    {
     "data": {
      "text/plain": [
       "array([0.35267569, 0.08562894, 0.03728362, 0.07707432, 0.20500103,\n",
       "       0.08636545, 0.12981455, 0.13038348, 0.22441243])"
      ]
     },
     "metadata": {},
     "output_type": "display_data"
    },
    {
     "data": {
      "text/plain": [
       "array([0.39151321, 0.09538751, 0.01089648, 0.03983326, 0.2344942 ,\n",
       "       0.05851979, 0.09611184, 0.14770459, 0.21040327])"
      ]
     },
     "metadata": {},
     "output_type": "display_data"
    },
    {
     "data": {
      "text/plain": [
       "array([0.37634037, 0.09290954, 0.02643573, 0.11184646, 0.18553331,\n",
       "       0.04132629, 0.14097969, 0.09023179, 0.17963225])"
      ]
     },
     "metadata": {},
     "output_type": "display_data"
    },
    {
     "data": {
      "text/plain": [
       "array([0.38431791, 0.11636149, 0.0030785 , 0.00816327, 0.22120141,\n",
       "       0.11912641, 0.11544118, 0.15567568, 0.19265191])"
      ]
     },
     "metadata": {},
     "output_type": "display_data"
    },
    {
     "data": {
      "text/plain": [
       "array([0.36794855, 0.0928408 , 0.01253616, 0.12996595, 0.18004158,\n",
       "       0.09087317, 0.06177606, 0.13468208, 0.20469994])"
      ]
     },
     "metadata": {},
     "output_type": "display_data"
    },
    {
     "data": {
      "text/plain": [
       "array([0.38059116, 0.05540166, 0.00207039, 0.03253589, 0.2253098 ,\n",
       "       0.00330033, 0.16812412, 0.14285714, 0.18005739])"
      ]
     },
     "metadata": {},
     "output_type": "display_data"
    },
    {
     "data": {
      "text/plain": [
       "array([0.33515964, 0.03023362, 0.        , 0.07207954, 0.19968518,\n",
       "       0.14922763, 0.16173986, 0.12818096, 0.20597701])"
      ]
     },
     "metadata": {},
     "output_type": "display_data"
    }
   ],
   "source": [
    "for r in results:\n",
    "    display(r[\"f1\"])"
   ]
  },
  {
   "cell_type": "code",
   "execution_count": 40,
   "metadata": {},
   "outputs": [],
   "source": [
    "def calculateProb(results, num_labels):\n",
    "#     probabilities = np.zeros(num_labels * len(results[0][\"targets\"])).reshape(-1, 9)\n",
    "    pred = []\n",
    "    # Iterate row by row over each prediction and calculate aggregated probabilities\n",
    "    for i in range(len(results[0][\"targets\"])):\n",
    "        total = 0\n",
    "        for j in range(len(results)):\n",
    "            prediction = results[j][\"predictions\"][i]\n",
    "#             probabilities[i][prediction] += results[j][\"f1\"][prediction]\n",
    "            total += prediction\n",
    "        pred.append(total * 1.0 / len(results))\n",
    "    return pred"
   ]
  },
  {
   "cell_type": "code",
   "execution_count": 42,
   "metadata": {},
   "outputs": [],
   "source": [
    "test_pred_prob = calculateProb(results, 9)"
   ]
  },
  {
   "cell_type": "code",
   "execution_count": 43,
   "metadata": {},
   "outputs": [],
   "source": [
    "def calculateFinalPredictions(probabilities):\n",
    "    pred = []\n",
    "    prob = []\n",
    "    prob_diff = []\n",
    "    for i in range(len(probabilities)):\n",
    "        if round(probabilities[i]) <= 4:\n",
    "            pred.append(0)\n",
    "        else:\n",
    "            pred.append(1)\n",
    "    return pred, prob, prob_diff"
   ]
  },
  {
   "cell_type": "code",
   "execution_count": 44,
   "metadata": {},
   "outputs": [],
   "source": [
    "decisions, prob, diff = calculateFinalPredictions(test_pred_prob)"
   ]
  },
  {
   "cell_type": "code",
   "execution_count": 46,
   "metadata": {},
   "outputs": [],
   "source": [
    "def convertLabelToBuySell(targets):\n",
    "    output = []\n",
    "    \n",
    "    for i in targets:\n",
    "        if i <= 4:\n",
    "            output.append(0)\n",
    "        else:\n",
    "            output.append(1)\n",
    "    return output"
   ]
  },
  {
   "cell_type": "code",
   "execution_count": 47,
   "metadata": {},
   "outputs": [],
   "source": [
    "actual = convertLabelToBuySell(results[0][\"targets\"])"
   ]
  },
  {
   "cell_type": "code",
   "execution_count": 48,
   "metadata": {},
   "outputs": [
    {
     "data": {
      "text/plain": [
       "array([0.63555183, 0.46752685])"
      ]
     },
     "execution_count": 48,
     "metadata": {},
     "output_type": "execute_result"
    }
   ],
   "source": [
    "f1_score(actual, decisions, average=None)"
   ]
  },
  {
   "cell_type": "code",
   "execution_count": 49,
   "metadata": {},
   "outputs": [
    {
     "data": {
      "text/plain": [
       "array([[6441, 4089],\n",
       "       [3298, 3243]])"
      ]
     },
     "execution_count": 49,
     "metadata": {},
     "output_type": "execute_result"
    }
   ],
   "source": [
    "confusion_matrix(actual, decisions)"
   ]
  },
  {
   "cell_type": "code",
   "execution_count": 51,
   "metadata": {},
   "outputs": [],
   "source": [
    "# Convert to list of dicts to make sorting easier\n",
    "l = []\n",
    "\n",
    "for i in range(len(decisions)):\n",
    "    temp = dict()\n",
    "    temp[\"Prediction\"] = decisions[i]\n",
    "    temp[\"Actual\"] = actual[i]\n",
    "#     temp[\"Probability\"] = prob[i]\n",
    "#     temp[\"Diff\"] = diff[i]\n",
    "    l.append(temp)"
   ]
  },
  {
   "cell_type": "code",
   "execution_count": 735,
   "metadata": {},
   "outputs": [],
   "source": [
    "# t = sorted(l, key=lambda k: k['Diff'], reverse=True) "
   ]
  },
  {
   "cell_type": "code",
   "execution_count": 757,
   "metadata": {},
   "outputs": [],
   "source": [
    "counter = 0\n",
    "correct = 0\n",
    "total = 0\n",
    "\n",
    "counter_max = 10\n",
    "\n",
    "for item in t:\n",
    "    if item['Prediction'] == 1:\n",
    "        total += 1\n",
    "        counter += 1\n",
    "        if item[\"Actual\"] == 1:\n",
    "            correct += 1\n",
    "    if counter >= counter_max:\n",
    "        break"
   ]
  },
  {
   "cell_type": "code",
   "execution_count": 758,
   "metadata": {},
   "outputs": [
    {
     "data": {
      "text/plain": [
       "0.5"
      ]
     },
     "execution_count": 758,
     "metadata": {},
     "output_type": "execute_result"
    }
   ],
   "source": [
    "correct/total"
   ]
  },
  {
   "cell_type": "code",
   "execution_count": null,
   "metadata": {},
   "outputs": [],
   "source": []
  }
 ],
 "metadata": {
  "kernelspec": {
   "display_name": "Python 3",
   "language": "python",
   "name": "python3"
  },
  "language_info": {
   "codemirror_mode": {
    "name": "ipython",
    "version": 3
   },
   "file_extension": ".py",
   "mimetype": "text/x-python",
   "name": "python",
   "nbconvert_exporter": "python",
   "pygments_lexer": "ipython3",
   "version": "3.7.4"
  }
 },
 "nbformat": 4,
 "nbformat_minor": 4
}
