{
 "cells": [
  {
   "cell_type": "code",
   "execution_count": 493,
   "metadata": {},
   "outputs": [],
   "source": [
    "import torch\n",
    "import os\n",
    "import pandas as pd\n",
    "import numpy as np\n",
    "import time\n",
    "import random\n",
    "from PIL import Image\n",
    "from torch.utils.data import Dataset\n",
    "from torchvision import transforms\n",
    "from torch.utils.data import DataLoader\n",
    "import torch.nn.functional as F\n",
    "import matplotlib.pyplot as plt\n",
    "%matplotlib inline"
   ]
  },
  {
   "cell_type": "code",
   "execution_count": 494,
   "metadata": {},
   "outputs": [],
   "source": [
    "# No need to change anything here!\n",
    "# If there is a GPU available, it will use it,\n",
    "# otherwise, it will use the CPU\n",
    "\n",
    "RANDOM_SEED = 123\n",
    "DEVICE = torch.device('cuda:0' if torch.cuda.is_available() else 'cpu')"
   ]
  },
  {
   "cell_type": "code",
   "execution_count": 495,
   "metadata": {},
   "outputs": [],
   "source": [
    "NAME = \"models/classifier_143features_100x100x100_0.001lr_200e_0.2dropout\""
   ]
  },
  {
   "cell_type": "markdown",
   "metadata": {},
   "source": [
    "## Dataset Loader"
   ]
  },
  {
   "cell_type": "code",
   "execution_count": 599,
   "metadata": {},
   "outputs": [],
   "source": [
    "import torch\n",
    "from PIL import Image\n",
    "from torch.utils.data import Dataset\n",
    "from torchvision import transforms\n",
    "from torch.utils.data import DataLoader\n",
    "import pandas as pd\n",
    "\n",
    "import os\n",
    "\n",
    "\n",
    "keys = [\n",
    " 'Revenue Growth',\n",
    " 'EPS',\n",
    " 'EPS Diluted',\n",
    " 'Dividend per Share',\n",
    " 'Gross Margin',\n",
    " 'EBITDA Margin',\n",
    " 'EBIT Margin',\n",
    " 'Profit Margin',\n",
    " 'Free Cash Flow margin',\n",
    " 'Earnings Before Tax Margin',\n",
    " 'Net Profit Margin',\n",
    " 'Revenue per Share',\n",
    " 'Net Income per Share',\n",
    " 'Operating Cash Flow per Share',\n",
    " 'Free Cash Flow per Share',\n",
    " 'Cash per Share',\n",
    " 'Book Value per Share',\n",
    " 'Tangible Book Value per Share',\n",
    " 'Shareholders Equity per Share',\n",
    " 'Interest Debt per Share',\n",
    " 'PE ratio',\n",
    " 'Price to Sales Ratio',\n",
    " 'POCF ratio',\n",
    " 'PFCF ratio',\n",
    " 'PB ratio',\n",
    " 'PTB ratio',\n",
    " 'EV to Sales',\n",
    " 'Enterprise Value over EBITDA',\n",
    " 'EV to Operating cash flow',\n",
    " 'EV to Free cash flow',\n",
    " 'Earnings Yield',\n",
    " 'Free Cash Flow Yield',\n",
    " 'Debt to Equity',\n",
    " 'Debt to Assets',\n",
    " 'Net Debt to EBITDA',\n",
    " 'Current ratio',\n",
    " 'Interest Coverage',\n",
    " 'Income Quality',\n",
    " 'Dividend Yield',\n",
    " 'Payout Ratio',\n",
    " 'SG&A to Revenue',\n",
    " 'R&D to Revenue',\n",
    " 'Intangibles to Total Assets',\n",
    " 'Capex to Operating Cash Flow',\n",
    " 'Capex to Revenue',\n",
    " 'Capex to Depreciation',\n",
    " 'Stock-based compensation to Revenue',\n",
    " 'Graham Number',\n",
    " 'Graham Net-Net',\n",
    " 'Capex per Share',\n",
    " 'Gross Profit Growth',\n",
    " 'EBIT Growth',\n",
    " 'Operating Income Growth',\n",
    " 'Net Income Growth',\n",
    " 'EPS Growth',\n",
    " 'EPS Diluted Growth',\n",
    " 'Weighted Average Shares Growth',\n",
    " 'Weighted Average Shares Diluted Growth',\n",
    " 'Dividends per Share Growth',\n",
    " 'Operating Cash Flow growth',\n",
    " 'Free Cash Flow growth',\n",
    " 'Receivables growth',\n",
    " 'Inventory Growth',\n",
    " 'Asset Growth',\n",
    " 'Book Value per Share Growth',\n",
    " 'Debt Growth',\n",
    " 'R&D Expense Growth',\n",
    " 'SG&A Expenses Growth',\n",
    " 'Stock Price',\n",
    " 'DCF',\n",
    "]\n",
    "\n",
    "class StockDataset(Dataset):\n",
    "    def __init__(self, csv_path):\n",
    "        df = pd.read_csv(csv_path)\n",
    "        self.y = df['Label'].to_numpy().astype(int)\n",
    "        self.features = df.drop([\"Company\", \"Date\", \"Target\", \"Label\"], axis=1).to_numpy().astype('float32')\n",
    "#         self.features = df[keys].to_numpy().astype('float32')\n",
    "#         self.features = df[[\"Stock Price\", \"DCF\"]].to_numpy().astype('float32')\n",
    "\n",
    "\n",
    "    def __getitem__(self, index):\n",
    "        features = self.features[index]\n",
    "        label = self.y[index]\n",
    "        \n",
    "        out_label = 0\n",
    "        \n",
    "        if label <= 2:\n",
    "            out_label = 0\n",
    "        elif label <= 5:\n",
    "            out_label = 1\n",
    "        else:\n",
    "            out_label = 2\n",
    "        \n",
    "        return features, label\n",
    "\n",
    "    def __len__(self):\n",
    "        return self.y.shape[0]"
   ]
  },
  {
   "cell_type": "code",
   "execution_count": 600,
   "metadata": {},
   "outputs": [],
   "source": [
    "############################################################\n",
    "# THIS CELL CAN BE MODIFIED\n",
    "############################################################\n",
    "\n",
    "custom_train_transform = transforms.Compose([  \n",
    "                                             transforms.ToTensor(),\n",
    "                                             transforms.Normalize(mean=(0.5,), std=(0.5,))\n",
    "])"
   ]
  },
  {
   "cell_type": "code",
   "execution_count": 601,
   "metadata": {},
   "outputs": [],
   "source": [
    "####################################################################\n",
    "# THIS CELL CAN BE MODIFIED BUT THERE SHOULD NOT BE ANY RANDOMNESS\n",
    "####################################################################\n",
    "\n",
    "custom_test_transform = transforms.Compose([\n",
    "                                             transforms.ToTensor(),\n",
    "                                             transforms.Normalize(mean=(0.5,), std=(0.5,))\n",
    "])"
   ]
  },
  {
   "cell_type": "code",
   "execution_count": 602,
   "metadata": {},
   "outputs": [],
   "source": [
    "############################################################\n",
    "# THIS CELL CAN BE MODIFIED\n",
    "############################################################\n",
    "\n",
    "BATCH_SIZE = 64"
   ]
  },
  {
   "cell_type": "code",
   "execution_count": 603,
   "metadata": {},
   "outputs": [],
   "source": [
    "train_dataset = StockDataset(csv_path='train_raw.csv')\n",
    "\n",
    "\n",
    "train_loader = DataLoader(dataset=train_dataset,\n",
    "                          batch_size=BATCH_SIZE,\n",
    "                          shuffle=False,\n",
    "                          num_workers=0)\n",
    "\n",
    "\n",
    "valid_dataset = StockDataset(csv_path='val_raw.csv')\n",
    "\n",
    "valid_loader = DataLoader(dataset=valid_dataset,\n",
    "                          batch_size=BATCH_SIZE,\n",
    "                          shuffle=False,\n",
    "                          num_workers=0)\n",
    "\n",
    "test_dataset = StockDataset(csv_path='test_raw.csv')\n",
    "\n",
    "test_loader = DataLoader(dataset=test_dataset,\n",
    "                         batch_size=BATCH_SIZE,\n",
    "                         shuffle=False,\n",
    "                         num_workers=0)"
   ]
  },
  {
   "cell_type": "markdown",
   "metadata": {},
   "source": [
    "The cell below just checks if the dataset can be loaded correctly."
   ]
  },
  {
   "cell_type": "code",
   "execution_count": 604,
   "metadata": {},
   "outputs": [
    {
     "name": "stdout",
     "output_type": "stream",
     "text": [
      "Epoch: 1 | Batch index: 0 | Batch size: 64\n",
      "torch.Size([64, 143])\n",
      "break minibatch for-loop\n",
      "Epoch: 2 | Batch index: 0 | Batch size: 64\n",
      "torch.Size([64, 143])\n",
      "break minibatch for-loop\n"
     ]
    }
   ],
   "source": [
    "torch.manual_seed(0)\n",
    "\n",
    "num_epochs = 2\n",
    "for epoch in range(num_epochs):\n",
    "\n",
    "    for batch_idx, (x, y) in enumerate(train_loader):\n",
    "        \n",
    "        print('Epoch:', epoch+1, end='')\n",
    "        print(' | Batch index:', batch_idx, end='')\n",
    "        print(' | Batch size:', y.size()[0])\n",
    "        num_features = x.shape[1]\n",
    "        x = x.to(DEVICE)\n",
    "        y = y.to(DEVICE)\n",
    "        print(x.shape)\n",
    "#         print(y.shape)\n",
    "        print('break minibatch for-loop')\n",
    "        break"
   ]
  },
  {
   "cell_type": "code",
   "execution_count": 605,
   "metadata": {},
   "outputs": [],
   "source": [
    "# num_features = 143\n",
    "num_features = 143\n",
    "classes = 9"
   ]
  },
  {
   "cell_type": "markdown",
   "metadata": {},
   "source": [
    "If you get an error, make sure the `png-files` folder is unzipped and it the same directory as this notebook!"
   ]
  },
  {
   "cell_type": "markdown",
   "metadata": {},
   "source": [
    "# Multilayer Perceptron Model"
   ]
  },
  {
   "cell_type": "markdown",
   "metadata": {},
   "source": [
    "The cell below contains the multi-layer perceptron model. This is the main section where you want to make changes to the architecture."
   ]
  },
  {
   "cell_type": "code",
   "execution_count": 606,
   "metadata": {},
   "outputs": [
    {
     "data": {
      "text/plain": [
       "<torch._C.Generator at 0x118a1e890>"
      ]
     },
     "execution_count": 606,
     "metadata": {},
     "output_type": "execute_result"
    }
   ],
   "source": [
    "############################################################\n",
    "# THIS CELL CAN BE MODIFIED\n",
    "############################################################\n",
    "\n",
    "\n",
    "class MLP(torch.nn.Module):\n",
    "# num_hidden_3,num_hidden_4,num_hidden_5,\n",
    "    def __init__(self, num_features, num_hidden_1, num_hidden_2, num_hidden_3,num_hidden_4,num_hidden_5,num_classes):\n",
    "        super(MLP, self).__init__()\n",
    "        \n",
    "        self.num_classes = num_classes\n",
    "        \n",
    "        ### ADD ADDITIONAL LAYERS BELOW IF YOU LIKE\n",
    "        self.linear_1 = torch.nn.Linear(num_features, num_hidden_1)\n",
    "        self.linear_1_bn = torch.nn.BatchNorm1d(num_hidden_1)\n",
    "        \n",
    "        self.linear_2 = torch.nn.Linear(num_hidden_1, num_hidden_2)\n",
    "        self.linear_2_bn = torch.nn.BatchNorm1d(num_hidden_2)\n",
    "        \n",
    "        self.linear_3 = torch.nn.Linear(num_hidden_2, num_hidden_3)\n",
    "        self.linear_3_bn = torch.nn.BatchNorm1d(num_hidden_3)\n",
    "        \n",
    "#         self.linear_4 = torch.nn.Linear(num_hidden_3, num_hidden_4)\n",
    "#         self.linear_5 = torch.nn.Linear(num_hidden_4, num_hidden_5)\n",
    "\n",
    "        self.linear_out = torch.nn.Linear(num_hidden_3, num_classes)\n",
    "        \n",
    "    def forward(self, x):\n",
    "        \n",
    "        ### MAKE SURE YOU CONNECT THE LAYERS PROPERLY IF YOU CHANGED\n",
    "        ### ANYTHNG IN THE __init__ METHOD ABOVE       \n",
    "        out = self.linear_1(x)\n",
    "#         out = self.linear_1_bn(out)\n",
    "        out = torch.relu(out)\n",
    "        out = F.dropout(out, p=0.5, training=self.training)\n",
    "\n",
    "        out = self.linear_2(out)\n",
    "#         out = self.linear_2_bn(out)\n",
    "        out = torch.relu(out)\n",
    "        out = F.dropout(out, p=0.5, training=self.training)\n",
    "\n",
    "        out = self.linear_3(out)\n",
    "#         out = self.linear_3_bn(out)\n",
    "        out = torch.relu(out)\n",
    "        out = F.dropout(out, p=0.5, training=self.training)\n",
    "        \n",
    "#         out = self.linear_4(out)\n",
    "#         out = torch.relu(out)\n",
    "        \n",
    "#         out = self.linear_5(out)\n",
    "#         out = torch.relu(out)\n",
    "        \n",
    "        logits = self.linear_out(out)\n",
    "#         probas = F.softmax(logits, dim=1)\n",
    "        probas = torch.sigmoid(logits)\n",
    "        return logits, probas\n",
    "        \n",
    "\n",
    "    \n",
    "#################################\n",
    "### Model Initialization\n",
    "#################################\n",
    "\n",
    "\n",
    "# the random seed makes sure that the random weight initialization\n",
    "# in the model is always the same.\n",
    "# In practice, some weights don't work well, and we may also want\n",
    "# to try different random seeds. In this homework, this is not\n",
    "# necessary.\n",
    "random.seed(RANDOM_SEED)\n",
    "torch.manual_seed(RANDOM_SEED)\n",
    "\n",
    "### IF YOU CHANGED THE ARCHITECTURE ABOVE, MAKE SURE YOU \n",
    "### ACCOUNT FOR IT VIA THE PARAMETERS BELOW. I.e., if you\n",
    "### added a second hidden layer, you may want to add a\n",
    "### hidden_2 parameter here. Also you may want to play\n",
    "### with the number of hidden units."
   ]
  },
  {
   "cell_type": "code",
   "execution_count": 607,
   "metadata": {},
   "outputs": [],
   "source": [
    "model = MLP(num_features=num_features,\n",
    "            num_hidden_1=100,\n",
    "            num_hidden_2=100,\n",
    "            num_hidden_3=100,\n",
    "            num_hidden_4=50,\n",
    "            num_hidden_5=50,\n",
    "            num_classes=classes)\n",
    "\n",
    "model = model.to(DEVICE)"
   ]
  },
  {
   "cell_type": "code",
   "execution_count": 608,
   "metadata": {},
   "outputs": [],
   "source": [
    "def compute_corr_accuracy_and_loss(model, data_loader, device, target_val):\n",
    "    correct_pred, num_examples = 0, 0\n",
    "    c2, n2 = 0, 0\n",
    "    cross_entropy = 0.\n",
    "    for i, (features, targets) in enumerate(data_loader):\n",
    "            \n",
    "        features = features.view(-1, num_features).to(device)\n",
    "        targets = targets.to(device)\n",
    "\n",
    "        logits, probas = model(features.float())\n",
    "        _, predicted_labels = torch.max(probas, 1)\n",
    "            \n",
    "        for p in range(len(targets)):\n",
    "            if predicted_labels[p].item() == target_val:\n",
    "                n2 += 1\n",
    "                if targets[p].item() == predicted_labels[p].item():\n",
    "                    c2 += 1\n",
    "                    \n",
    "            if targets[p].item() == target_val:\n",
    "                num_examples += 1\n",
    "                if targets[p].item() == predicted_labels[p].item():\n",
    "                    correct_pred += 1\n",
    "                \n",
    "                \n",
    "    return 1.0 * correct_pred/num_examples * 100, 1.0 * c2/n2 * 100\n",
    "\n",
    "def compute_corrlist_accuracy_and_loss(model, data_loader, device, target_list):\n",
    "    correct_pred, num_examples = 0, 0\n",
    "    c2, n2 = 0, 0\n",
    "    cross_entropy = 0.\n",
    "    for i, (features, targets) in enumerate(data_loader):\n",
    "            \n",
    "        features = features.view(-1, num_features).to(device)\n",
    "        targets = targets.to(device)\n",
    "\n",
    "        logits, probas = model(features.float())\n",
    "        _, predicted_labels = torch.max(probas, 1)\n",
    "            \n",
    "        for p in range(len(targets)):\n",
    "            if predicted_labels[p].item() in target_list:\n",
    "                n2 += 1\n",
    "                if targets[p].item() in target_list:\n",
    "                    c2 += 1\n",
    "                    \n",
    "            if targets[p].item() in target_list:\n",
    "                num_examples += 1\n",
    "                if predicted_labels[p].item() in target_list:\n",
    "                    correct_pred += 1\n",
    "                \n",
    "                \n",
    "    return 1.0 * correct_pred/num_examples * 100, 1.0 * c2/n2 * 100\n",
    "\n",
    "def compute_grouped_accuracy_and_loss(model, data_loader, device):\n",
    "    correct_pred, num_examples = 0, 0\n",
    "    cross_entropy = 0.\n",
    "    for i, (features, targets) in enumerate(data_loader):\n",
    "            \n",
    "        features = features.view(-1, num_features).to(device)\n",
    "        targets = targets.to(device)\n",
    "\n",
    "        logits, probas = model(features.float())\n",
    "        _, predicted_labels = torch.max(probas, 1)\n",
    "        \n",
    "        for i in range(len(targets)):\n",
    "            num_examples += 1\n",
    "            c = 0\n",
    "            if targets[i].item() in [0, 1, 2] and predicted_labels[i] in [0, 1, 2]:\n",
    "                c = 1\n",
    "            elif targets[i].item() in [3, 4] and predicted_labels[i] in [3, 4]:\n",
    "                c = 1  \n",
    "            elif targets[i].item() in [5, 6, 7, 8] and predicted_labels[i] in [5, 6, 7, 8]:\n",
    "                c = 1 \n",
    "            if abs(targets[i].item() - predicted_labels[i]) <= 1:\n",
    "                c = 1\n",
    "            correct_pred += c\n",
    "                \n",
    "    return 1.0 * correct_pred/num_examples * 100, cross_entropy/num_examples"
   ]
  },
  {
   "cell_type": "code",
   "execution_count": 625,
   "metadata": {},
   "outputs": [],
   "source": [
    "optimizer = torch.optim.Adam(model.parameters(), lr=0.0001)"
   ]
  },
  {
   "cell_type": "code",
   "execution_count": 626,
   "metadata": {},
   "outputs": [],
   "source": [
    "############################################################\n",
    "# THIS CELL CAN BE MODIFIED\n",
    "############################################################\n",
    "\n",
    "### For this homework, do not change the optimizer. However, you\n",
    "### likely want to experiment with the learning rate!\n",
    "############################################################"
   ]
  },
  {
   "cell_type": "code",
   "execution_count": 627,
   "metadata": {},
   "outputs": [],
   "source": [
    "############################################################\n",
    "# THIS CELL CAN BE MODIFIED\n",
    "############################################################\n",
    "\n",
    "NUM_EPOCHS = 10 # Please feel free to change\n",
    "############################################################"
   ]
  },
  {
   "cell_type": "code",
   "execution_count": 628,
   "metadata": {},
   "outputs": [
    {
     "name": "stdout",
     "output_type": "stream",
     "text": [
      "Epoch: 001/010 | Batch 000/978 | Cost: 2.1841\n",
      "Epoch: 001/010 | Batch 200/978 | Cost: 2.2260\n",
      "Epoch: 001/010 | Batch 400/978 | Cost: 2.1067\n",
      "Epoch: 001/010 | Batch 600/978 | Cost: 2.1669\n",
      "Epoch: 001/010 | Batch 800/978 | Cost: 2.1168\n",
      "Epoch: 001/010 Train Acc.: 11.16% | Validation Acc.: 11.38%\n",
      "Time elapsed: 0.14 min\n",
      "Epoch: 002/010 | Batch 000/978 | Cost: 2.1770\n",
      "Epoch: 002/010 | Batch 200/978 | Cost: 2.2089\n",
      "Epoch: 002/010 | Batch 400/978 | Cost: 2.1195\n",
      "Epoch: 002/010 | Batch 600/978 | Cost: 2.1923\n",
      "Epoch: 002/010 | Batch 800/978 | Cost: 2.0983\n",
      "Epoch: 002/010 Train Acc.: 11.16% | Validation Acc.: 11.38%\n",
      "Time elapsed: 0.29 min\n",
      "Epoch: 003/010 | Batch 000/978 | Cost: 2.1749\n",
      "Epoch: 003/010 | Batch 200/978 | Cost: 2.2060\n",
      "Epoch: 003/010 | Batch 400/978 | Cost: 2.0987\n",
      "Epoch: 003/010 | Batch 600/978 | Cost: 2.1941\n",
      "Epoch: 003/010 | Batch 800/978 | Cost: 2.1014\n",
      "Epoch: 003/010 Train Acc.: 11.16% | Validation Acc.: 11.38%\n",
      "Time elapsed: 0.43 min\n",
      "Epoch: 004/010 | Batch 000/978 | Cost: 2.1927\n",
      "Epoch: 004/010 | Batch 200/978 | Cost: 2.2067\n",
      "Epoch: 004/010 | Batch 400/978 | Cost: 2.1352\n",
      "Epoch: 004/010 | Batch 600/978 | Cost: 2.1528\n",
      "Epoch: 004/010 | Batch 800/978 | Cost: 2.1236\n",
      "Epoch: 004/010 Train Acc.: 11.16% | Validation Acc.: 11.38%\n",
      "Time elapsed: 0.58 min\n",
      "Epoch: 005/010 | Batch 000/978 | Cost: 2.1895\n",
      "Epoch: 005/010 | Batch 200/978 | Cost: 2.2028\n",
      "Epoch: 005/010 | Batch 400/978 | Cost: 2.1449\n",
      "Epoch: 005/010 | Batch 600/978 | Cost: 2.1882\n",
      "Epoch: 005/010 | Batch 800/978 | Cost: 2.1159\n",
      "Epoch: 005/010 Train Acc.: 11.16% | Validation Acc.: 11.41%\n",
      "Time elapsed: 0.75 min\n",
      "Epoch: 006/010 | Batch 000/978 | Cost: 2.1669\n",
      "Epoch: 006/010 | Batch 200/978 | Cost: 2.2668\n",
      "Epoch: 006/010 | Batch 400/978 | Cost: 2.1012\n",
      "Epoch: 006/010 | Batch 600/978 | Cost: 2.2031\n",
      "Epoch: 006/010 | Batch 800/978 | Cost: 2.1237\n",
      "Epoch: 006/010 Train Acc.: 11.16% | Validation Acc.: 11.38%\n",
      "Time elapsed: 0.90 min\n",
      "Epoch: 007/010 | Batch 000/978 | Cost: 2.1866\n",
      "Epoch: 007/010 | Batch 200/978 | Cost: 2.1907\n",
      "Epoch: 007/010 | Batch 400/978 | Cost: 2.1249\n",
      "Epoch: 007/010 | Batch 600/978 | Cost: 2.1644\n",
      "Epoch: 007/010 | Batch 800/978 | Cost: 2.1225\n",
      "Epoch: 007/010 Train Acc.: 11.16% | Validation Acc.: 11.38%\n",
      "Time elapsed: 1.09 min\n",
      "Epoch: 008/010 | Batch 000/978 | Cost: 2.1747\n",
      "Epoch: 008/010 | Batch 200/978 | Cost: 2.2432\n",
      "Epoch: 008/010 | Batch 400/978 | Cost: 2.1294\n",
      "Epoch: 008/010 | Batch 600/978 | Cost: 2.1651\n",
      "Epoch: 008/010 | Batch 800/978 | Cost: 2.1019\n",
      "Epoch: 008/010 Train Acc.: 11.16% | Validation Acc.: 11.41%\n",
      "Time elapsed: 1.24 min\n",
      "Epoch: 009/010 | Batch 000/978 | Cost: 2.1745\n",
      "Epoch: 009/010 | Batch 200/978 | Cost: 2.2224\n",
      "Epoch: 009/010 | Batch 400/978 | Cost: 2.1095\n",
      "Epoch: 009/010 | Batch 600/978 | Cost: 2.1536\n",
      "Epoch: 009/010 | Batch 800/978 | Cost: 2.1218\n",
      "Epoch: 009/010 Train Acc.: 11.16% | Validation Acc.: 11.38%\n",
      "Time elapsed: 1.39 min\n",
      "Epoch: 010/010 | Batch 000/978 | Cost: 2.1892\n",
      "Epoch: 010/010 | Batch 200/978 | Cost: 2.1886\n",
      "Epoch: 010/010 | Batch 400/978 | Cost: 2.1284\n",
      "Epoch: 010/010 | Batch 600/978 | Cost: 2.1810\n",
      "Epoch: 010/010 | Batch 800/978 | Cost: 2.1263\n",
      "Epoch: 010/010 Train Acc.: 11.17% | Validation Acc.: 11.41%\n",
      "Time elapsed: 1.55 min\n",
      "Total Training Time: 1.55 min\n"
     ]
    }
   ],
   "source": [
    "def compute_accuracy_and_loss(model, data_loader, device):\n",
    "    correct_pred, num_examples = 0, 0\n",
    "    cross_entropy = 0.\n",
    "    for i, (features, targets) in enumerate(data_loader):\n",
    "            \n",
    "        features = features.view(-1, num_features).to(device)\n",
    "        targets = targets.to(device)\n",
    "\n",
    "        logits, probas = model(features.float())\n",
    "        cross_entropy += F.cross_entropy(logits, targets).item()\n",
    "        _, predicted_labels = torch.max(probas, 1)\n",
    "        num_examples += targets.size(0)\n",
    "        correct_pred += (predicted_labels == targets).sum()\n",
    "    return correct_pred.float()/num_examples * 100, cross_entropy/num_examples\n",
    "\n",
    "def compute_accuracy_and_mse_loss(model, data_loader, device):\n",
    "    correct_pred = 0\n",
    "    curr_mse, num_examples = torch.zeros(model.num_classes).float(), 0\n",
    "    \n",
    "    model.eval()\n",
    "    with torch.no_grad():\n",
    "        for i, (features, targets) in enumerate(data_loader):\n",
    "\n",
    "            features = features.view(-1, num_features).to(device)\n",
    "            targets = targets.to(device)\n",
    "\n",
    "            logits, probas = model(features.float())\n",
    "            cross_entropy += F.cross_entropy(logits, targets).item()\n",
    "            _, predicted_labels = torch.max(probas, 1)\n",
    "            num_examples += targets.size(0)\n",
    "            correct_pred += (predicted_labels == targets).sum()\n",
    "    return correct_pred.float()/num_examples * 100, cross_entropy/num_examples\n",
    "\n",
    "def compute_mse(net, data_loader):\n",
    "    curr_mse, num_examples = torch.zeros(model.num_classes).float(), 0\n",
    "    with torch.no_grad():\n",
    "        for features, targets in data_loader:\n",
    "            features = features.view(-1, 28*28).to(DEVICE)\n",
    "            logits, probas = net.forward(features)\n",
    "            probas = probas.to(torch.device('cpu'))\n",
    "            y_onehot = to_onehot(targets, model.num_classes)\n",
    "            loss = torch.sum((y_onehot - probas)**2, dim=0)\n",
    "            num_examples += targets.size(0)\n",
    "            curr_mse += loss\n",
    "\n",
    "        curr_mse = torch.mean(curr_mse/num_examples, dim=0)\n",
    "        return curr_mse\n",
    "    \n",
    "\n",
    "start_time = time.time()\n",
    "train_acc_lst, valid_acc_lst = [], []\n",
    "train_loss_lst, valid_loss_lst = [], []\n",
    "\n",
    "for epoch in range(NUM_EPOCHS):\n",
    "    \n",
    "    model.train()\n",
    "    \n",
    "    for batch_idx, (features, targets) in enumerate(train_loader):\n",
    "    \n",
    "        ### PREPARE MINIBATCH\n",
    "        features = features.view(-1, num_features).to(DEVICE)\n",
    "        targets = targets.to(DEVICE)\n",
    "            \n",
    "        ### FORWARD AND BACK PROP\n",
    "        logits, probas = model(features.float())\n",
    "        cost = F.cross_entropy(logits, targets)\n",
    "#         print(cost)\n",
    "        optimizer.zero_grad()\n",
    "        \n",
    "        cost.backward()\n",
    "        \n",
    "        ### UPDATE MODEL PARAMETERS\n",
    "        optimizer.step()\n",
    "        \n",
    "        ### LOGGING\n",
    "        if not batch_idx % 200:\n",
    "            print (f'Epoch: {epoch+1:03d}/{NUM_EPOCHS:03d} | '\n",
    "                   f'Batch {batch_idx:03d}/{len(train_loader):03d} |' \n",
    "                   f' Cost: {cost:.4f}')\n",
    "\n",
    "    # no need to build the computation graph for backprop when computing accuracy\n",
    "    model.eval()\n",
    "    with torch.set_grad_enabled(False):\n",
    "        train_acc, train_loss = compute_accuracy_and_loss(model, train_loader, device=DEVICE)\n",
    "        valid_acc, valid_loss = compute_accuracy_and_loss(model, valid_loader, device=DEVICE)\n",
    "        train_acc_lst.append(train_acc)\n",
    "        valid_acc_lst.append(valid_acc)\n",
    "        train_loss_lst.append(train_loss)\n",
    "        valid_loss_lst.append(valid_loss)\n",
    "        print(f'Epoch: {epoch+1:03d}/{NUM_EPOCHS:03d} Train Acc.: {train_acc:.2f}%'\n",
    "              f' | Validation Acc.: {valid_acc:.2f}%')\n",
    "        \n",
    "    elapsed = (time.time() - start_time)/60\n",
    "    print(f'Time elapsed: {elapsed:.2f} min')\n",
    "  \n",
    "elapsed = (time.time() - start_time)/60\n",
    "print(f'Total Training Time: {elapsed:.2f} min')"
   ]
  },
  {
   "cell_type": "markdown",
   "metadata": {},
   "source": [
    "#### Evaluation (No Need To Change Any Code in This Section!)"
   ]
  },
  {
   "cell_type": "code",
   "execution_count": 622,
   "metadata": {},
   "outputs": [
    {
     "data": {
      "image/png": "[encoded data removed]",
      "text/plain": [
       "<Figure size 432x288 with 1 Axes>"
      ]
     },
     "metadata": {
      "needs_background": "light"
     },
     "output_type": "display_data"
    }
   ],
   "source": [
    "plt.plot(range(1, NUM_EPOCHS+1), train_loss_lst, label='Training loss')\n",
    "plt.plot(range(1, NUM_EPOCHS+1), valid_loss_lst, label='Validation loss')\n",
    "plt.legend(loc='upper right')\n",
    "plt.ylabel('Cross entropy')\n",
    "plt.xlabel('Epoch')\n",
    "plt.show()"
   ]
  },
  {
   "cell_type": "code",
   "execution_count": 623,
   "metadata": {},
   "outputs": [
    {
     "data": {
      "image/png": "[encoded data removed]",
      "text/plain": [
       "<Figure size 432x288 with 1 Axes>"
      ]
     },
     "metadata": {
      "needs_background": "light"
     },
     "output_type": "display_data"
    }
   ],
   "source": [
    "plt.plot(range(1, NUM_EPOCHS+1), train_acc_lst, label='Training accuracy')\n",
    "plt.plot(range(1, NUM_EPOCHS+1), valid_acc_lst, label='Validation accuracy')\n",
    "plt.legend(loc='upper left')\n",
    "plt.ylabel('Cross entropy')\n",
    "plt.xlabel('Epoch')\n",
    "plt.show()"
   ]
  },
  {
   "cell_type": "code",
   "execution_count": 624,
   "metadata": {},
   "outputs": [
    {
     "name": "stdout",
     "output_type": "stream",
     "text": [
      "Test accuracy: 10.53%\n"
     ]
    }
   ],
   "source": [
    "model.eval()\n",
    "with torch.set_grad_enabled(False): # save memory during inference\n",
    "    test_acc, test_loss = compute_accuracy_and_loss(model, test_loader, DEVICE)\n",
    "    print(f'Test accuracy: {test_acc:.2f}%')"
   ]
  },
  {
   "cell_type": "code",
   "execution_count": 586,
   "metadata": {},
   "outputs": [
    {
     "name": "stdout",
     "output_type": "stream",
     "text": [
      "tensor([5, 5, 5, 5, 5, 5, 5, 5, 5, 5, 5, 5, 5, 8, 4, 4, 4, 3, 4, 4, 4, 8, 8, 8,\n",
      "        8, 8, 8, 8, 8, 8, 8, 8, 8, 8, 7, 7, 7, 7, 5, 7, 7, 8, 8, 8, 8, 8, 8, 8,\n",
      "        8, 8, 7, 5, 5, 5, 7, 5, 5, 5, 5, 5, 5, 5, 5, 8, 8, 8, 8, 8, 7, 5, 5, 5,\n",
      "        5, 8, 8, 8, 8, 8, 8, 8, 5, 5, 5, 5, 5, 5, 5, 5, 5, 5, 5, 5, 5, 5, 7, 7,\n",
      "        7, 7, 5, 5, 7, 7, 7, 7, 7, 7, 7, 7, 7, 7, 7, 7, 7, 7, 7, 8, 8, 8, 8, 7,\n",
      "        7, 8, 8, 8, 8, 7, 7, 8])\n",
      "tensor([2, 5, 5, 6, 0, 5, 0, 0, 1, 1, 1, 2, 0, 2, 1, 1, 5, 2, 1, 3, 1, 2, 0, 0,\n",
      "        3, 0, 3, 0, 8, 0, 3, 2, 2, 2, 3, 6, 5, 6, 7, 7, 0, 7, 0, 5, 2, 5, 8, 4,\n",
      "        2, 6, 8, 7, 2, 4, 1, 7, 7, 6, 0, 8, 4, 7, 8, 4, 6, 6, 4, 4, 4, 6, 1, 0,\n",
      "        5, 8, 1, 1, 8, 6, 0, 8, 2, 1, 2, 3, 1, 7, 4, 1, 5, 1, 2, 7, 2, 4, 2, 1,\n",
      "        1, 2, 6, 6, 2, 5, 1, 5, 7, 7, 6, 2, 1, 6, 3, 7, 4, 4, 4, 7, 2, 4, 0, 3,\n",
      "        0, 4, 8, 5, 3, 7, 1, 6])\n",
      "False\n"
     ]
    }
   ],
   "source": [
    "num = 0\n",
    "\n",
    "model.eval()\n",
    "with torch.set_grad_enabled(False): # save memory during inference\n",
    "    for i, (x, y) in enumerate(test_loader):\n",
    "        if i == num:\n",
    "            logits, probas = model(x)\n",
    "            pred = np.argmax(probas, axis=1)\n",
    "#             for i in range(len(pred)):\n",
    "#                 print(\"Pred:\", pred[i].item(), \", Target:\", y[i].item(), \", Probs: \", probas[i][0].item() + probas[i][1].item() + probas[i][2].item(), \"\", probas[i][3].item() + probas[i][4].item() + probas[i][5].item(), \" \", probas[i][6].item() + probas[i][7].item() + probas[i][8].item())\n",
    "# #                 print(pred[i].item())\n",
    "            print(pred)\n",
    "            print(y)\n",
    "            print(y[4].item() == np.argmax(probas, axis=1)[4].item())"
   ]
  },
  {
   "cell_type": "code",
   "execution_count": 587,
   "metadata": {},
   "outputs": [
    {
     "data": {
      "text/plain": [
       "(41.514849745181884, 0.0)"
      ]
     },
     "execution_count": 587,
     "metadata": {},
     "output_type": "execute_result"
    }
   ],
   "source": [
    "compute_grouped_accuracy_and_loss(model, test_loader, DEVICE)"
   ]
  },
  {
   "cell_type": "code",
   "execution_count": 588,
   "metadata": {},
   "outputs": [
    {
     "data": {
      "text/plain": [
       "(67.83625730994152, 12.54054054054054)"
      ]
     },
     "execution_count": 588,
     "metadata": {},
     "output_type": "execute_result"
    }
   ],
   "source": [
    "compute_corr_accuracy_and_loss(model, valid_loader, DEVICE, 8)"
   ]
  },
  {
   "cell_type": "code",
   "execution_count": 589,
   "metadata": {},
   "outputs": [
    {
     "name": "stdout",
     "output_type": "stream",
     "text": [
      "(0.6912096168294515, 44.230769230769226)\n",
      "(3.638709677419355, 27.647058823529413)\n",
      "(96.300259899098, 38.27550586376618)\n"
     ]
    }
   ],
   "source": [
    "print(compute_corrlist_accuracy_and_loss(model, test_loader, DEVICE, [0, 1, 2]))\n",
    "print(compute_corrlist_accuracy_and_loss(model, test_loader, DEVICE, [3, 4]))\n",
    "print(compute_corrlist_accuracy_and_loss(model, test_loader, DEVICE, [5, 6, 7, 8]))"
   ]
  },
  {
   "cell_type": "code",
   "execution_count": 590,
   "metadata": {},
   "outputs": [],
   "source": [
    "from sklearn.metrics import f1_score\n",
    "from sklearn.metrics import confusion_matrix"
   ]
  },
  {
   "cell_type": "code",
   "execution_count": 591,
   "metadata": {},
   "outputs": [],
   "source": [
    "def convertLabels(label):\n",
    "    # 0 - 2 : 0\n",
    "    # 3 - 4: 1\n",
    "    # 5 - 8: 2\n",
    "    bounds = [0, 2, 4, 8]\n",
    "    if label >= bounds[0] and label <= bounds[1]:\n",
    "        return 0\n",
    "    elif label <= bounds[2]:\n",
    "        return 1\n",
    "    elif label <= bounds[3]:\n",
    "        return 2\n",
    "    return -1"
   ]
  },
  {
   "cell_type": "code",
   "execution_count": 592,
   "metadata": {},
   "outputs": [],
   "source": [
    "# model"
   ]
  },
  {
   "cell_type": "code",
   "execution_count": 593,
   "metadata": {},
   "outputs": [],
   "source": [
    "loader = test_loader\n",
    "target_labels = []\n",
    "pred_labels = []\n",
    "\n",
    "target_labels_3 = []\n",
    "pred_labels_3 = []\n",
    "model.eval()\n",
    "with torch.set_grad_enabled(False): # save memory during inference\n",
    "    for i, (features, targets) in enumerate(loader):\n",
    "        logits, probas = model(features)\n",
    "        pred = np.argmax(probas, axis=1)\n",
    "#         print(\"Targets:\",targets.shape)\n",
    "#         print(\"Predict:\",pred.shape)\n",
    "\n",
    "        for j in range(len(pred)):\n",
    "            target_labels.append(targets[j].item())\n",
    "            pred_labels.append(pred[j].item())\n",
    "            target_labels_3.append(convertLabels(targets[j].item()))\n",
    "            pred_labels_3.append(convertLabels(pred[j].item()))"
   ]
  },
  {
   "cell_type": "code",
   "execution_count": 594,
   "metadata": {},
   "outputs": [
    {
     "name": "stdout",
     "output_type": "stream",
     "text": [
      "0.12289848280709977\n"
     ]
    },
    {
     "data": {
      "text/plain": [
       "array([0.01498929, 0.00099354, 0.00205761, 0.00417973, 0.05746661,\n",
       "       0.19192449, 0.06305053, 0.13907285, 0.20151086])"
      ]
     },
     "execution_count": 594,
     "metadata": {},
     "output_type": "execute_result"
    }
   ],
   "source": [
    "# 9 labels\n",
    "print(f1_score(target_labels, pred_labels, average='micro'))\n",
    "f1_score(target_labels, pred_labels, average=None)"
   ]
  },
  {
   "cell_type": "code",
   "execution_count": 595,
   "metadata": {},
   "outputs": [
    {
     "name": "stdout",
     "output_type": "stream",
     "text": [
      "0.37994259270107206\n"
     ]
    },
    {
     "data": {
      "text/plain": [
       "array([0.01361148, 0.06431015, 0.54778676])"
      ]
     },
     "execution_count": 595,
     "metadata": {},
     "output_type": "execute_result"
    }
   ],
   "source": [
    "# 3 labels\n",
    "print(f1_score(target_labels_3, pred_labels_3, average='micro'))\n",
    "f1_score(target_labels_3, pred_labels_3, average=None)"
   ]
  },
  {
   "cell_type": "code",
   "execution_count": 596,
   "metadata": {},
   "outputs": [
    {
     "data": {
      "text/plain": [
       "array([[  21,    0,    0,    4,   27,  356,   40,  385, 1882],\n",
       "       [  14,    1,    3,    3,   58,  434,   64,  347, 1087],\n",
       "       [   5,    0,    2,    7,   65,  495,   67,  328,  960],\n",
       "       [  12,    0,    2,    4,   60,  509,   62,  315,  905],\n",
       "       [   6,    0,    1,    6,   71,  514,   76,  352,  980],\n",
       "       [   9,    1,    3,   13,   78,  549,   71,  334,  740],\n",
       "       [   7,    0,    2,    5,   52,  484,   68,  345,  680],\n",
       "       [   5,    0,    0,    3,   44,  396,   48,  315,  713],\n",
       "       [   8,    0,    2,    0,   10,  186,   18,  285, 1067]])"
      ]
     },
     "execution_count": 596,
     "metadata": {},
     "output_type": "execute_result"
    }
   ],
   "source": [
    "confusion_matrix(target_labels, pred_labels)"
   ]
  },
  {
   "cell_type": "code",
   "execution_count": 597,
   "metadata": {},
   "outputs": [
    {
     "data": {
      "text/plain": [
       "array([[  46,  164, 6445],\n",
       "       [  21,  141, 3713],\n",
       "       [  37,  205, 6299]])"
      ]
     },
     "execution_count": 597,
     "metadata": {},
     "output_type": "execute_result"
    }
   ],
   "source": [
    "confusion_matrix(target_labels_3, pred_labels_3)"
   ]
  },
  {
   "cell_type": "code",
   "execution_count": 598,
   "metadata": {},
   "outputs": [
    {
     "name": "stdout",
     "output_type": "stream",
     "text": [
      "{5: 3922, 8: 9013, 4: 464, 3: 44, 7: 3005, 6: 513, 0: 86, 2: 14, 1: 1}\n"
     ]
    }
   ],
   "source": [
    "l = pred_labels\n",
    "counts = {}\n",
    "\n",
    "for i in l:\n",
    "    if i in counts:\n",
    "        counts[i] += 1\n",
    "    else:\n",
    "        counts[i] = 0\n",
    "\n",
    "print(counts)"
   ]
  },
  {
   "cell_type": "code",
   "execution_count": 543,
   "metadata": {},
   "outputs": [
    {
     "data": {
      "text/plain": [
       "1896.7777777777778"
      ]
     },
     "execution_count": 543,
     "metadata": {},
     "output_type": "execute_result"
    }
   ],
   "source": [
    "len(target_labels)/9"
   ]
  },
  {
   "cell_type": "code",
   "execution_count": null,
   "metadata": {},
   "outputs": [],
   "source": []
  }
 ],
 "metadata": {
  "kernelspec": {
   "display_name": "Python 3",
   "language": "python",
   "name": "python3"
  },
  "language_info": {
   "codemirror_mode": {
    "name": "ipython",
    "version": 3
   },
   "file_extension": ".py",
   "mimetype": "text/x-python",
   "name": "python",
   "nbconvert_exporter": "python",
   "pygments_lexer": "ipython3",
   "version": "3.7.4"
  }
 },
 "nbformat": 4,
 "nbformat_minor": 4
}
