{
 "cells": [
  {
   "cell_type": "code",
   "execution_count": 6,
   "metadata": {},
   "outputs": [],
   "source": [
    "import pandas as pd\n",
    "import os"
   ]
  },
  {
   "cell_type": "code",
   "execution_count": 3,
   "metadata": {},
   "outputs": [
    {
     "ename": "FileNotFoundError",
     "evalue": "[Errno 2] No such file or directory: 'api_data/processed'",
     "output_type": "error",
     "traceback": [
      "\u001b[0;31m---------------------------------------------------------------------------\u001b[0m",
      "\u001b[0;31mFileNotFoundError\u001b[0m                         Traceback (most recent call last)",
      "\u001b[0;32m<ipython-input-3-73a1f6f943a1>\u001b[0m in \u001b[0;36m<module>\u001b[0;34m\u001b[0m\n\u001b[0;32m----> 1\u001b[0;31m \u001b[0mfiles\u001b[0m \u001b[0;34m=\u001b[0m \u001b[0mos\u001b[0m\u001b[0;34m.\u001b[0m\u001b[0mlistdir\u001b[0m\u001b[0;34m(\u001b[0m\u001b[0;34m\"api_data/processed\"\u001b[0m\u001b[0;34m)\u001b[0m\u001b[0;34m\u001b[0m\u001b[0;34m\u001b[0m\u001b[0m\n\u001b[0m\u001b[1;32m      2\u001b[0m \u001b[0mdf_list\u001b[0m \u001b[0;34m=\u001b[0m \u001b[0;34m[\u001b[0m\u001b[0;34m]\u001b[0m\u001b[0;34m\u001b[0m\u001b[0;34m\u001b[0m\u001b[0m\n",
      "\u001b[0;31mFileNotFoundError\u001b[0m: [Errno 2] No such file or directory: 'api_data/processed'"
     ]
    }
   ],
   "source": [
    "files = os.listdir(\"api_data/processed\")\n",
    "df_list = []"
   ]
  },
  {
   "cell_type": "code",
   "execution_count": null,
   "metadata": {},
   "outputs": [],
   "source": [
    "for file in files:\n",
    "    path = \"api_data/processed/\" + file\n",
    "    df_list.append(pd.read_csv(path).drop(columns=\"Unnamed: 0\"))"
   ]
  },
  {
   "cell_type": "code",
   "execution_count": 4,
   "metadata": {},
   "outputs": [
    {
     "ename": "NameError",
     "evalue": "name 'df_list' is not defined",
     "output_type": "error",
     "traceback": [
      "\u001b[0;31m---------------------------------------------------------------------------\u001b[0m",
      "\u001b[0;31mNameError\u001b[0m                                 Traceback (most recent call last)",
      "\u001b[0;32m<ipython-input-4-de1a726517fc>\u001b[0m in \u001b[0;36m<module>\u001b[0;34m\u001b[0m\n\u001b[0;32m----> 1\u001b[0;31m \u001b[0mdf\u001b[0m \u001b[0;34m=\u001b[0m \u001b[0mpd\u001b[0m\u001b[0;34m.\u001b[0m\u001b[0mconcat\u001b[0m\u001b[0;34m(\u001b[0m\u001b[0mdf_list\u001b[0m\u001b[0;34m,\u001b[0m \u001b[0maxis\u001b[0m\u001b[0;34m=\u001b[0m\u001b[0;36m0\u001b[0m\u001b[0;34m,\u001b[0m \u001b[0mignore_index\u001b[0m\u001b[0;34m=\u001b[0m\u001b[0;32mTrue\u001b[0m\u001b[0;34m,\u001b[0m \u001b[0msort\u001b[0m\u001b[0;34m=\u001b[0m\u001b[0;32mFalse\u001b[0m\u001b[0;34m)\u001b[0m\u001b[0;34m\u001b[0m\u001b[0;34m\u001b[0m\u001b[0m\n\u001b[0m",
      "\u001b[0;31mNameError\u001b[0m: name 'df_list' is not defined"
     ]
    }
   ],
   "source": [
    "df = pd.concat(df_list, axis=0, ignore_index=True, sort=False)"
   ]
  },
  {
   "cell_type": "code",
   "execution_count": 5,
   "metadata": {},
   "outputs": [
    {
     "ename": "NameError",
     "evalue": "name 'df' is not defined",
     "output_type": "error",
     "traceback": [
      "\u001b[0;31m---------------------------------------------------------------------------\u001b[0m",
      "\u001b[0;31mNameError\u001b[0m                                 Traceback (most recent call last)",
      "\u001b[0;32m<ipython-input-5-9e88162c7890>\u001b[0m in \u001b[0;36m<module>\u001b[0;34m\u001b[0m\n\u001b[0;32m----> 1\u001b[0;31m \u001b[0mdf\u001b[0m\u001b[0;34m.\u001b[0m\u001b[0mto_csv\u001b[0m\u001b[0;34m(\u001b[0m\u001b[0;34m\"data.csv\"\u001b[0m\u001b[0;34m)\u001b[0m\u001b[0;34m\u001b[0m\u001b[0;34m\u001b[0m\u001b[0m\n\u001b[0m",
      "\u001b[0;31mNameError\u001b[0m: name 'df' is not defined"
     ]
    }
   ],
   "source": [
    "df.to_csv(\"data.csv\")"
   ]
  },
  {
   "cell_type": "code",
   "execution_count": 7,
   "metadata": {},
   "outputs": [],
   "source": [
    "def generateTargets(df):\n",
    "    df[\"Target\"] = df[\"Market Cap\"].shift(-1)\n",
    "    return df[:-1]"
   ]
  },
  {
   "cell_type": "code",
   "execution_count": 8,
   "metadata": {},
   "outputs": [],
   "source": [
    "df = df.dropna(subset=[\"Company\", \"Date\"])"
   ]
  },
  {
   "cell_type": "code",
   "execution_count": 9,
   "metadata": {},
   "outputs": [],
   "source": [
    "df = df.sort_values([\"Company\", \"Date\"])"
   ]
  },
  {
   "cell_type": "code",
   "execution_count": 10,
   "metadata": {},
   "outputs": [],
   "source": [
    "df1 = df.groupby(\"Company\").apply(\n",
    "    lambda group: generateTargets(group)\n",
    ")\n",
    "df1 = df1.droplevel(0)"
   ]
  },
  {
   "cell_type": "code",
   "execution_count": 11,
   "metadata": {},
   "outputs": [],
   "source": [
    "df1 = df1.dropna()"
   ]
  },
  {
   "cell_type": "code",
   "execution_count": 12,
   "metadata": {},
   "outputs": [],
   "source": [
    "df1.to_csv(\"final_cleaned_data.csv\")"
   ]
  },
  {
   "cell_type": "code",
   "execution_count": 57,
   "metadata": {},
   "outputs": [],
   "source": [
    "df1[\"Test\"] = 100*(df1[\"Target\"] - df1[\"Market Cap\"])/df1[\"Market Cap\"]"
   ]
  },
  {
   "cell_type": "code",
   "execution_count": 58,
   "metadata": {},
   "outputs": [],
   "source": [
    "df1['Label'] = 1\n",
    "df1.loc[df1['Test'] > 5, 'Label'] = 2\n",
    "df1.loc[df1['Test'] < -5, 'Label'] = 0"
   ]
  },
  {
   "cell_type": "code",
   "execution_count": 59,
   "metadata": {},
   "outputs": [],
   "source": [
    "df1 = df1.drop(\"Test\", axis=1)"
   ]
  },
  {
   "cell_type": "code",
   "execution_count": 61,
   "metadata": {},
   "outputs": [],
   "source": [
    "normalized = pd.DataFrame()\n",
    "norm_ratios = dict()"
   ]
  },
  {
   "cell_type": "code",
   "execution_count": 62,
   "metadata": {},
   "outputs": [],
   "source": [
    "for k in list(df1.keys()):\n",
    "    if k != \"Company\" and k != \"Date\" and k != \"Label\":\n",
    "        normalized[k] = df1[k] / df1[k].mean()\n",
    "        norm_ratios[k] = df1[k].mean()\n",
    "    else:\n",
    "        normalized[k] = df1[k]"
   ]
  },
  {
   "cell_type": "code",
   "execution_count": 63,
   "metadata": {},
   "outputs": [
    {
     "data": {
      "text/html": [
       "<div>\n",
       "<style scoped>\n",
       "    .dataframe tbody tr th:only-of-type {\n",
       "        vertical-align: middle;\n",
       "    }\n",
       "\n",
       "    .dataframe tbody tr th {\n",
       "        vertical-align: top;\n",
       "    }\n",
       "\n",
       "    .dataframe thead th {\n",
       "        text-align: right;\n",
       "    }\n",
       "</style>\n",
       "<table border=\"1\" class=\"dataframe\">\n",
       "  <thead>\n",
       "    <tr style=\"text-align: right;\">\n",
       "      <th></th>\n",
       "      <th>Company</th>\n",
       "      <th>Date</th>\n",
       "      <th>Revenue</th>\n",
       "      <th>Revenue Growth</th>\n",
       "      <th>Cost of Revenue</th>\n",
       "      <th>Gross Profit</th>\n",
       "      <th>R&amp;D Expenses</th>\n",
       "      <th>SG&amp;A Expense</th>\n",
       "      <th>Operating Expenses</th>\n",
       "      <th>Operating Income</th>\n",
       "      <th>...</th>\n",
       "      <th>Inventory Growth</th>\n",
       "      <th>Asset Growth</th>\n",
       "      <th>Book Value per Share Growth</th>\n",
       "      <th>Debt Growth</th>\n",
       "      <th>R&amp;D Expense Growth</th>\n",
       "      <th>SG&amp;A Expenses Growth</th>\n",
       "      <th>Stock Price</th>\n",
       "      <th>DCF</th>\n",
       "      <th>Target</th>\n",
       "      <th>Label</th>\n",
       "    </tr>\n",
       "  </thead>\n",
       "  <tbody>\n",
       "    <tr>\n",
       "      <td>7144</td>\n",
       "      <td>A</td>\n",
       "      <td>2009-10-31</td>\n",
       "      <td>0.886868</td>\n",
       "      <td>0.002115</td>\n",
       "      <td>0.801338</td>\n",
       "      <td>1.512404</td>\n",
       "      <td>5.039050</td>\n",
       "      <td>2.194117</td>\n",
       "      <td>1.789544</td>\n",
       "      <td>0.421235</td>\n",
       "      <td>...</td>\n",
       "      <td>-0.003472</td>\n",
       "      <td>0.000049</td>\n",
       "      <td>1.985740</td>\n",
       "      <td>0.008460</td>\n",
       "      <td>-0.002455</td>\n",
       "      <td>0.000029</td>\n",
       "      <td>0.135327</td>\n",
       "      <td>0.000206</td>\n",
       "      <td>0.022940</td>\n",
       "      <td>2</td>\n",
       "    </tr>\n",
       "    <tr>\n",
       "      <td>7143</td>\n",
       "      <td>A</td>\n",
       "      <td>2010-01-31</td>\n",
       "      <td>0.921826</td>\n",
       "      <td>0.000801</td>\n",
       "      <td>0.831407</td>\n",
       "      <td>1.574427</td>\n",
       "      <td>5.005456</td>\n",
       "      <td>2.215367</td>\n",
       "      <td>1.799080</td>\n",
       "      <td>0.557691</td>\n",
       "      <td>...</td>\n",
       "      <td>-0.003900</td>\n",
       "      <td>0.000032</td>\n",
       "      <td>1.656498</td>\n",
       "      <td>0.007393</td>\n",
       "      <td>-0.002469</td>\n",
       "      <td>0.000126</td>\n",
       "      <td>0.151417</td>\n",
       "      <td>0.000221</td>\n",
       "      <td>0.022895</td>\n",
       "      <td>1</td>\n",
       "    </tr>\n",
       "    <tr>\n",
       "      <td>7142</td>\n",
       "      <td>A</td>\n",
       "      <td>2010-04-30</td>\n",
       "      <td>0.965903</td>\n",
       "      <td>0.000972</td>\n",
       "      <td>0.841931</td>\n",
       "      <td>1.696087</td>\n",
       "      <td>5.039050</td>\n",
       "      <td>2.162241</td>\n",
       "      <td>1.770473</td>\n",
       "      <td>0.913665</td>\n",
       "      <td>...</td>\n",
       "      <td>-0.002434</td>\n",
       "      <td>0.000102</td>\n",
       "      <td>7.428519</td>\n",
       "      <td>0.007916</td>\n",
       "      <td>-0.002455</td>\n",
       "      <td>0.000000</td>\n",
       "      <td>0.151417</td>\n",
       "      <td>0.000224</td>\n",
       "      <td>0.019577</td>\n",
       "      <td>0</td>\n",
       "    </tr>\n",
       "    <tr>\n",
       "      <td>7141</td>\n",
       "      <td>A</td>\n",
       "      <td>2010-07-31</td>\n",
       "      <td>1.051778</td>\n",
       "      <td>0.001807</td>\n",
       "      <td>0.990773</td>\n",
       "      <td>1.729484</td>\n",
       "      <td>5.173424</td>\n",
       "      <td>2.422560</td>\n",
       "      <td>1.938938</td>\n",
       "      <td>0.682282</td>\n",
       "      <td>...</td>\n",
       "      <td>0.004890</td>\n",
       "      <td>0.000217</td>\n",
       "      <td>12.284836</td>\n",
       "      <td>0.016323</td>\n",
       "      <td>0.000136</td>\n",
       "      <td>0.000423</td>\n",
       "      <td>0.129506</td>\n",
       "      <td>0.000197</td>\n",
       "      <td>0.024647</td>\n",
       "      <td>2</td>\n",
       "    </tr>\n",
       "    <tr>\n",
       "      <td>7140</td>\n",
       "      <td>A</td>\n",
       "      <td>2010-10-31</td>\n",
       "      <td>1.197690</td>\n",
       "      <td>0.002820</td>\n",
       "      <td>1.115559</td>\n",
       "      <td>1.989503</td>\n",
       "      <td>5.341393</td>\n",
       "      <td>2.507562</td>\n",
       "      <td>2.005688</td>\n",
       "      <td>1.204376</td>\n",
       "      <td>...</td>\n",
       "      <td>0.007090</td>\n",
       "      <td>0.000155</td>\n",
       "      <td>29.261367</td>\n",
       "      <td>0.006236</td>\n",
       "      <td>0.001252</td>\n",
       "      <td>0.000339</td>\n",
       "      <td>0.163845</td>\n",
       "      <td>0.000236</td>\n",
       "      <td>0.029287</td>\n",
       "      <td>2</td>\n",
       "    </tr>\n",
       "    <tr>\n",
       "      <td>...</td>\n",
       "      <td>...</td>\n",
       "      <td>...</td>\n",
       "      <td>...</td>\n",
       "      <td>...</td>\n",
       "      <td>...</td>\n",
       "      <td>...</td>\n",
       "      <td>...</td>\n",
       "      <td>...</td>\n",
       "      <td>...</td>\n",
       "      <td>...</td>\n",
       "      <td>...</td>\n",
       "      <td>...</td>\n",
       "      <td>...</td>\n",
       "      <td>...</td>\n",
       "      <td>...</td>\n",
       "      <td>...</td>\n",
       "      <td>...</td>\n",
       "      <td>...</td>\n",
       "      <td>...</td>\n",
       "      <td>...</td>\n",
       "      <td>...</td>\n",
       "    </tr>\n",
       "    <tr>\n",
       "      <td>123581</td>\n",
       "      <td>ZYXI</td>\n",
       "      <td>2018-06-30</td>\n",
       "      <td>0.005755</td>\n",
       "      <td>0.002060</td>\n",
       "      <td>0.002000</td>\n",
       "      <td>0.014893</td>\n",
       "      <td>0.000000</td>\n",
       "      <td>0.018743</td>\n",
       "      <td>0.011214</td>\n",
       "      <td>0.016108</td>\n",
       "      <td>...</td>\n",
       "      <td>0.045584</td>\n",
       "      <td>0.001263</td>\n",
       "      <td>594.230046</td>\n",
       "      <td>-0.020971</td>\n",
       "      <td>0.000000</td>\n",
       "      <td>0.001637</td>\n",
       "      <td>0.019884</td>\n",
       "      <td>0.000021</td>\n",
       "      <td>0.000270</td>\n",
       "      <td>1</td>\n",
       "    </tr>\n",
       "    <tr>\n",
       "      <td>123580</td>\n",
       "      <td>ZYXI</td>\n",
       "      <td>2018-09-30</td>\n",
       "      <td>0.006179</td>\n",
       "      <td>0.001498</td>\n",
       "      <td>0.002467</td>\n",
       "      <td>0.015482</td>\n",
       "      <td>0.000000</td>\n",
       "      <td>0.019497</td>\n",
       "      <td>0.011665</td>\n",
       "      <td>0.016731</td>\n",
       "      <td>...</td>\n",
       "      <td>0.029199</td>\n",
       "      <td>0.000690</td>\n",
       "      <td>470.054435</td>\n",
       "      <td>-0.021607</td>\n",
       "      <td>0.000000</td>\n",
       "      <td>0.001059</td>\n",
       "      <td>0.019949</td>\n",
       "      <td>0.000021</td>\n",
       "      <td>0.000270</td>\n",
       "      <td>1</td>\n",
       "    </tr>\n",
       "    <tr>\n",
       "      <td>123579</td>\n",
       "      <td>ZYXI</td>\n",
       "      <td>2018-12-31</td>\n",
       "      <td>0.007096</td>\n",
       "      <td>0.003015</td>\n",
       "      <td>0.002753</td>\n",
       "      <td>0.017906</td>\n",
       "      <td>0.000000</td>\n",
       "      <td>0.024576</td>\n",
       "      <td>0.014704</td>\n",
       "      <td>0.017087</td>\n",
       "      <td>...</td>\n",
       "      <td>0.023357</td>\n",
       "      <td>0.000653</td>\n",
       "      <td>94.091140</td>\n",
       "      <td>0.215347</td>\n",
       "      <td>0.000000</td>\n",
       "      <td>0.001271</td>\n",
       "      <td>0.025182</td>\n",
       "      <td>0.000027</td>\n",
       "      <td>0.000440</td>\n",
       "      <td>2</td>\n",
       "    </tr>\n",
       "    <tr>\n",
       "      <td>123578</td>\n",
       "      <td>ZYXI</td>\n",
       "      <td>2019-03-31</td>\n",
       "      <td>0.006989</td>\n",
       "      <td>-0.000307</td>\n",
       "      <td>0.002682</td>\n",
       "      <td>0.017681</td>\n",
       "      <td>0.000000</td>\n",
       "      <td>0.027392</td>\n",
       "      <td>0.016389</td>\n",
       "      <td>0.013385</td>\n",
       "      <td>...</td>\n",
       "      <td>0.008672</td>\n",
       "      <td>0.000580</td>\n",
       "      <td>126.243661</td>\n",
       "      <td>0.782841</td>\n",
       "      <td>0.000000</td>\n",
       "      <td>0.000947</td>\n",
       "      <td>0.036432</td>\n",
       "      <td>0.000037</td>\n",
       "      <td>0.000878</td>\n",
       "      <td>2</td>\n",
       "    </tr>\n",
       "    <tr>\n",
       "      <td>123577</td>\n",
       "      <td>ZYXI</td>\n",
       "      <td>2019-06-30</td>\n",
       "      <td>0.007825</td>\n",
       "      <td>0.002434</td>\n",
       "      <td>0.002929</td>\n",
       "      <td>0.019917</td>\n",
       "      <td>0.000000</td>\n",
       "      <td>0.030627</td>\n",
       "      <td>0.018325</td>\n",
       "      <td>0.015331</td>\n",
       "      <td>...</td>\n",
       "      <td>0.037179</td>\n",
       "      <td>0.000518</td>\n",
       "      <td>89.697819</td>\n",
       "      <td>1.749624</td>\n",
       "      <td>0.000000</td>\n",
       "      <td>0.001505</td>\n",
       "      <td>0.054877</td>\n",
       "      <td>0.000055</td>\n",
       "      <td>0.000877</td>\n",
       "      <td>1</td>\n",
       "    </tr>\n",
       "  </tbody>\n",
       "</table>\n",
       "<p>83011 rows × 147 columns</p>\n",
       "</div>"
      ],
      "text/plain": [
       "       Company        Date   Revenue  Revenue Growth  Cost of Revenue  \\\n",
       "7144         A  2009-10-31  0.886868        0.002115         0.801338   \n",
       "7143         A  2010-01-31  0.921826        0.000801         0.831407   \n",
       "7142         A  2010-04-30  0.965903        0.000972         0.841931   \n",
       "7141         A  2010-07-31  1.051778        0.001807         0.990773   \n",
       "7140         A  2010-10-31  1.197690        0.002820         1.115559   \n",
       "...        ...         ...       ...             ...              ...   \n",
       "123581    ZYXI  2018-06-30  0.005755        0.002060         0.002000   \n",
       "123580    ZYXI  2018-09-30  0.006179        0.001498         0.002467   \n",
       "123579    ZYXI  2018-12-31  0.007096        0.003015         0.002753   \n",
       "123578    ZYXI  2019-03-31  0.006989       -0.000307         0.002682   \n",
       "123577    ZYXI  2019-06-30  0.007825        0.002434         0.002929   \n",
       "\n",
       "        Gross Profit  R&D Expenses  SG&A Expense  Operating Expenses  \\\n",
       "7144        1.512404      5.039050      2.194117            1.789544   \n",
       "7143        1.574427      5.005456      2.215367            1.799080   \n",
       "7142        1.696087      5.039050      2.162241            1.770473   \n",
       "7141        1.729484      5.173424      2.422560            1.938938   \n",
       "7140        1.989503      5.341393      2.507562            2.005688   \n",
       "...              ...           ...           ...                 ...   \n",
       "123581      0.014893      0.000000      0.018743            0.011214   \n",
       "123580      0.015482      0.000000      0.019497            0.011665   \n",
       "123579      0.017906      0.000000      0.024576            0.014704   \n",
       "123578      0.017681      0.000000      0.027392            0.016389   \n",
       "123577      0.019917      0.000000      0.030627            0.018325   \n",
       "\n",
       "        Operating Income  ...  Inventory Growth  Asset Growth  \\\n",
       "7144            0.421235  ...         -0.003472      0.000049   \n",
       "7143            0.557691  ...         -0.003900      0.000032   \n",
       "7142            0.913665  ...         -0.002434      0.000102   \n",
       "7141            0.682282  ...          0.004890      0.000217   \n",
       "7140            1.204376  ...          0.007090      0.000155   \n",
       "...                  ...  ...               ...           ...   \n",
       "123581          0.016108  ...          0.045584      0.001263   \n",
       "123580          0.016731  ...          0.029199      0.000690   \n",
       "123579          0.017087  ...          0.023357      0.000653   \n",
       "123578          0.013385  ...          0.008672      0.000580   \n",
       "123577          0.015331  ...          0.037179      0.000518   \n",
       "\n",
       "        Book Value per Share Growth  Debt Growth  R&D Expense Growth  \\\n",
       "7144                       1.985740     0.008460           -0.002455   \n",
       "7143                       1.656498     0.007393           -0.002469   \n",
       "7142                       7.428519     0.007916           -0.002455   \n",
       "7141                      12.284836     0.016323            0.000136   \n",
       "7140                      29.261367     0.006236            0.001252   \n",
       "...                             ...          ...                 ...   \n",
       "123581                   594.230046    -0.020971            0.000000   \n",
       "123580                   470.054435    -0.021607            0.000000   \n",
       "123579                    94.091140     0.215347            0.000000   \n",
       "123578                   126.243661     0.782841            0.000000   \n",
       "123577                    89.697819     1.749624            0.000000   \n",
       "\n",
       "        SG&A Expenses Growth  Stock Price       DCF    Target  Label  \n",
       "7144                0.000029     0.135327  0.000206  0.022940      2  \n",
       "7143                0.000126     0.151417  0.000221  0.022895      1  \n",
       "7142                0.000000     0.151417  0.000224  0.019577      0  \n",
       "7141                0.000423     0.129506  0.000197  0.024647      2  \n",
       "7140                0.000339     0.163845  0.000236  0.029287      2  \n",
       "...                      ...          ...       ...       ...    ...  \n",
       "123581              0.001637     0.019884  0.000021  0.000270      1  \n",
       "123580              0.001059     0.019949  0.000021  0.000270      1  \n",
       "123579              0.001271     0.025182  0.000027  0.000440      2  \n",
       "123578              0.000947     0.036432  0.000037  0.000878      2  \n",
       "123577              0.001505     0.054877  0.000055  0.000877      1  \n",
       "\n",
       "[83011 rows x 147 columns]"
      ]
     },
     "execution_count": 63,
     "metadata": {},
     "output_type": "execute_result"
    }
   ],
   "source": [
    "normalized"
   ]
  },
  {
   "cell_type": "code",
   "execution_count": 64,
   "metadata": {},
   "outputs": [],
   "source": [
    "# pd.DataFrame(norm_ratios)\n",
    "# norm_ratios\n",
    "\n",
    "pd.DataFrame(norm_ratios, index=[0]).to_csv(\"norm_ratios.csv\", index=False)\n",
    "normalized.reset_index(drop=True).to_csv(\"normalized_data.csv\", index=False)"
   ]
  },
  {
   "cell_type": "code",
   "execution_count": 65,
   "metadata": {},
   "outputs": [
    {
     "data": {
      "text/html": [
       "<div>\n",
       "<style scoped>\n",
       "    .dataframe tbody tr th:only-of-type {\n",
       "        vertical-align: middle;\n",
       "    }\n",
       "\n",
       "    .dataframe tbody tr th {\n",
       "        vertical-align: top;\n",
       "    }\n",
       "\n",
       "    .dataframe thead th {\n",
       "        text-align: right;\n",
       "    }\n",
       "</style>\n",
       "<table border=\"1\" class=\"dataframe\">\n",
       "  <thead>\n",
       "    <tr style=\"text-align: right;\">\n",
       "      <th></th>\n",
       "      <th>Company</th>\n",
       "      <th>Date</th>\n",
       "      <th>Revenue</th>\n",
       "      <th>Revenue Growth</th>\n",
       "      <th>Cost of Revenue</th>\n",
       "      <th>Gross Profit</th>\n",
       "      <th>R&amp;D Expenses</th>\n",
       "      <th>SG&amp;A Expense</th>\n",
       "      <th>Operating Expenses</th>\n",
       "      <th>Operating Income</th>\n",
       "      <th>...</th>\n",
       "      <th>Inventory Growth</th>\n",
       "      <th>Asset Growth</th>\n",
       "      <th>Book Value per Share Growth</th>\n",
       "      <th>Debt Growth</th>\n",
       "      <th>R&amp;D Expense Growth</th>\n",
       "      <th>SG&amp;A Expenses Growth</th>\n",
       "      <th>Stock Price</th>\n",
       "      <th>DCF</th>\n",
       "      <th>Target</th>\n",
       "      <th>Label</th>\n",
       "    </tr>\n",
       "  </thead>\n",
       "  <tbody>\n",
       "    <tr>\n",
       "      <td>146282</td>\n",
       "      <td>PRU</td>\n",
       "      <td>2011-06-30</td>\n",
       "      <td>1.224700e+10</td>\n",
       "      <td>0.202337</td>\n",
       "      <td>6.035000e+09</td>\n",
       "      <td>6.212000e+09</td>\n",
       "      <td>0.0</td>\n",
       "      <td>0.0</td>\n",
       "      <td>0.0</td>\n",
       "      <td>838000000.0</td>\n",
       "      <td>...</td>\n",
       "      <td>0.0</td>\n",
       "      <td>0.023988</td>\n",
       "      <td>0.0</td>\n",
       "      <td>0.010013</td>\n",
       "      <td>0.0</td>\n",
       "      <td>0.0</td>\n",
       "      <td>58.68</td>\n",
       "      <td>6.954500e+09</td>\n",
       "      <td>100420000.0</td>\n",
       "      <td>2</td>\n",
       "    </tr>\n",
       "  </tbody>\n",
       "</table>\n",
       "<p>1 rows × 147 columns</p>\n",
       "</div>"
      ],
      "text/plain": [
       "       Company        Date       Revenue  Revenue Growth  Cost of Revenue  \\\n",
       "146282     PRU  2011-06-30  1.224700e+10        0.202337     6.035000e+09   \n",
       "\n",
       "        Gross Profit  R&D Expenses  SG&A Expense  Operating Expenses  \\\n",
       "146282  6.212000e+09           0.0           0.0                 0.0   \n",
       "\n",
       "        Operating Income  ...  Inventory Growth  Asset Growth  \\\n",
       "146282       838000000.0  ...               0.0      0.023988   \n",
       "\n",
       "        Book Value per Share Growth  Debt Growth  R&D Expense Growth  \\\n",
       "146282                          0.0     0.010013                 0.0   \n",
       "\n",
       "        SG&A Expenses Growth  Stock Price           DCF       Target  Label  \n",
       "146282                   0.0        58.68  6.954500e+09  100420000.0      2  \n",
       "\n",
       "[1 rows x 147 columns]"
      ]
     },
     "execution_count": 65,
     "metadata": {},
     "output_type": "execute_result"
    }
   ],
   "source": [
    "df1[df1[\"DCF\"] == df1[\"DCF\"].max()]"
   ]
  },
  {
   "cell_type": "code",
   "execution_count": 73,
   "metadata": {},
   "outputs": [],
   "source": [
    "temp = normalized\n",
    "normalized = df1"
   ]
  },
  {
   "cell_type": "code",
   "execution_count": 77,
   "metadata": {},
   "outputs": [],
   "source": [
    "test = normalized[normalized[\"Date\"] >= \"2018\"].reset_index(drop=True)"
   ]
  },
  {
   "cell_type": "code",
   "execution_count": 78,
   "metadata": {},
   "outputs": [],
   "source": [
    "other = normalized[normalized[\"Date\"] <= \"2018\"].reset_index(drop=True)\n",
    "other = other.sample(frac=1).reset_index(drop=True)"
   ]
  },
  {
   "cell_type": "code",
   "execution_count": 79,
   "metadata": {},
   "outputs": [],
   "source": [
    "length = len(other)\n",
    "\n",
    "train_ratio = 0.95\n",
    "train_samples = (int)(length*train_ratio)"
   ]
  },
  {
   "cell_type": "code",
   "execution_count": 80,
   "metadata": {},
   "outputs": [],
   "source": [
    "train = other[0:train_samples]\n",
    "val = other[train_samples:]"
   ]
  },
  {
   "cell_type": "code",
   "execution_count": 81,
   "metadata": {},
   "outputs": [],
   "source": [
    "train.to_csv(\"train.csv\", index=False)\n",
    "val.to_csv(\"val.csv\", index=False)\n",
    "test.to_csv(\"test.csv\", index=False)"
   ]
  },
  {
   "cell_type": "code",
   "execution_count": 96,
   "metadata": {},
   "outputs": [
    {
     "data": {
      "text/plain": [
       "0.446832254567484"
      ]
     },
     "execution_count": 96,
     "metadata": {},
     "output_type": "execute_result"
    }
   ],
   "source": [
    "train[\"Label\"].value_counts()[2]/len(train)"
   ]
  },
  {
   "cell_type": "code",
   "execution_count": 86,
   "metadata": {},
   "outputs": [
    {
     "data": {
      "text/plain": [
       "62726"
      ]
     },
     "execution_count": 86,
     "metadata": {},
     "output_type": "execute_result"
    }
   ],
   "source": [
    "len(train)"
   ]
  },
  {
   "cell_type": "code",
   "execution_count": 1,
   "metadata": {},
   "outputs": [
    {
     "ename": "NameError",
     "evalue": "name 'train' is not defined",
     "output_type": "error",
     "traceback": [
      "\u001b[0;31m---------------------------------------------------------------------------\u001b[0m",
      "\u001b[0;31mNameError\u001b[0m                                 Traceback (most recent call last)",
      "\u001b[0;32m<ipython-input-1-36be062043fe>\u001b[0m in \u001b[0;36m<module>\u001b[0;34m\u001b[0m\n\u001b[0;32m----> 1\u001b[0;31m \u001b[0mtrain\u001b[0m\u001b[0;34m[\u001b[0m\u001b[0;34m\"Label\"\u001b[0m\u001b[0;34m]\u001b[0m\u001b[0;34m\u001b[0m\u001b[0;34m\u001b[0m\u001b[0m\n\u001b[0m",
      "\u001b[0;31mNameError\u001b[0m: name 'train' is not defined"
     ]
    }
   ],
   "source": [
    "train[\"Label\"]"
   ]
  },
  {
   "cell_type": "code",
   "execution_count": null,
   "metadata": {},
   "outputs": [],
   "source": []
  }
 ],
 "metadata": {
  "kernelspec": {
   "display_name": "Python 3",
   "language": "python",
   "name": "python3"
  },
  "language_info": {
   "codemirror_mode": {
    "name": "ipython",
    "version": 3
   },
   "file_extension": ".py",
   "mimetype": "text/x-python",
   "name": "python",
   "nbconvert_exporter": "python",
   "pygments_lexer": "ipython3",
   "version": "3.7.4"
  }
 },
 "nbformat": 4,
 "nbformat_minor": 4
}
